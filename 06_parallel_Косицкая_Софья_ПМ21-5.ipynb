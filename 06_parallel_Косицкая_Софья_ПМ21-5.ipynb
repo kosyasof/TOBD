{
 "cells": [
  {
   "cell_type": "markdown",
   "metadata": {},
   "source": [
    "# Параллельные вычисления (2)"
   ]
  },
  {
   "cell_type": "markdown",
   "metadata": {},
   "source": [
    "__Автор задач: Блохин Н.В. (NVBlokhin@fa.ru)__\n",
    "\n",
    "Материалы:\n",
    "* Макрушин С.В. Лекция \"Параллельные вычисления\"\n",
    "* https://nalepae.github.io/pandarallel/\n",
    "    * https://github.com/nalepae/pandarallel/blob/master/docs/examples_windows.ipynb\n",
    "    * https://github.com/nalepae/pandarallel/blob/master/docs/examples_mac_linux.ipynb\n",
    "* https://requests.readthedocs.io/en/latest/\n",
    "* https://docs.python.org/3/library/pathlib.html\n",
    "* https://realpython.com/python-pathlib/\n",
    "* https://realpython.com/python-gil/\n",
    "* https://docs.python.org/3/library/multiprocessing.html#multiprocessing.pool.ThreadPool"
   ]
  },
  {
   "cell_type": "markdown",
   "metadata": {},
   "source": [
    "## Задачи для совместного разбора"
   ]
  },
  {
   "cell_type": "markdown",
   "metadata": {},
   "source": [
    "1. Выведите на экран слова из файла words_alpha, в которых есть две или более буквы \"e\" подряд."
   ]
  },
  {
   "cell_type": "code",
   "execution_count": 2,
   "metadata": {},
   "outputs": [],
   "source": [
    "#!pip install pandarallel"
   ]
  },
  {
   "cell_type": "code",
   "execution_count": 5,
   "metadata": {},
   "outputs": [],
   "source": [
    "import pandas as pd\n",
    "\n",
    "words = (\n",
    "    pd.read_csv(\"words_alpha.txt\", header=None)[0]\n",
    "    .dropna()\n",
    "    .sample(frac=25, replace=True)\n",
    ")"
   ]
  },
  {
   "cell_type": "code",
   "execution_count": 8,
   "metadata": {},
   "outputs": [
    {
     "name": "stdout",
     "output_type": "stream",
     "text": [
      "Overwriting smart_f.py\n"
     ]
    }
   ],
   "source": [
    "%%file smart_f.py\n",
    "import re\n",
    "def f(s):\n",
    "    return re.search(r\"e{2,}\", s) is not None"
   ]
  },
  {
   "cell_type": "code",
   "execution_count": 9,
   "metadata": {},
   "outputs": [],
   "source": [
    "from smart_f import f"
   ]
  },
  {
   "cell_type": "code",
   "execution_count": 10,
   "metadata": {},
   "outputs": [
    {
     "name": "stdout",
     "output_type": "stream",
     "text": [
      "CPU times: total: 23.9 s\n",
      "Wall time: 31.1 s\n"
     ]
    }
   ],
   "source": [
    "%%time\n",
    "r = words[words.map(f)]"
   ]
  },
  {
   "cell_type": "code",
   "execution_count": 11,
   "metadata": {},
   "outputs": [
    {
     "name": "stdout",
     "output_type": "stream",
     "text": [
      "INFO: Pandarallel will run on 4 workers.\n",
      "INFO: Pandarallel will use standard multiprocessing data transfer (pipe) to transfer data between the main process and workers.\n",
      "\n",
      "WARNING: You are on Windows. If you detect any issue with pandarallel, be sure you checked out the Troubleshooting page:\n",
      "https://nalepae.github.io/pandarallel/troubleshooting/\n"
     ]
    }
   ],
   "source": [
    "from pandarallel import pandarallel\n",
    "pandarallel.initialize()"
   ]
  },
  {
   "cell_type": "code",
   "execution_count": 12,
   "metadata": {},
   "outputs": [
    {
     "name": "stdout",
     "output_type": "stream",
     "text": [
      "CPU times: total: 2.56 s\n",
      "Wall time: 8.26 s\n"
     ]
    }
   ],
   "source": [
    "%%time\n",
    "r = words[words.parallel_map(f)]"
   ]
  },
  {
   "cell_type": "markdown",
   "metadata": {},
   "source": [
    "2. Загрузите данные о комментариях с сайта jsonplaceholder.typicode.com\n",
    "\n",
    "![](https://i.imgur.com/AwiN8y6.png)"
   ]
  },
  {
   "cell_type": "code",
   "execution_count": 13,
   "metadata": {},
   "outputs": [],
   "source": [
    "import requests\n",
    "import json\n",
    "from tqdm import tqdm"
   ]
  },
  {
   "cell_type": "code",
   "execution_count": 11,
   "metadata": {},
   "outputs": [
    {
     "data": {
      "text/plain": [
       "<Response [200]>"
      ]
     },
     "execution_count": 11,
     "metadata": {},
     "output_type": "execute_result"
    }
   ],
   "source": [
    "r = requests.get(\"https://jsonplaceholder.typicode.com/comments?postId=1\")\n",
    "r"
   ]
  },
  {
   "cell_type": "code",
   "execution_count": 21,
   "metadata": {},
   "outputs": [],
   "source": [
    "#r.text\n",
    "# r.content\n",
    "#r.json()"
   ]
  },
  {
   "cell_type": "code",
   "execution_count": 17,
   "metadata": {},
   "outputs": [],
   "source": [
    "from pathlib import Path"
   ]
  },
  {
   "cell_type": "code",
   "execution_count": 18,
   "metadata": {},
   "outputs": [
    {
     "data": {
      "text/plain": [
       "[]"
      ]
     },
     "execution_count": 18,
     "metadata": {},
     "output_type": "execute_result"
    }
   ],
   "source": [
    "root = Path(\"posts\")\n",
    "root.mkdir(exist_ok=True)\n",
    "f = root / \"1.json\"\n",
    "f.name, f.stem, f.parent\n",
    "list(root.iterdir())"
   ]
  },
  {
   "cell_type": "code",
   "execution_count": 19,
   "metadata": {},
   "outputs": [],
   "source": [
    "base_url = \"https://jsonplaceholder.typicode.com/comments?postId={post_id}\""
   ]
  },
  {
   "cell_type": "code",
   "execution_count": 20,
   "metadata": {},
   "outputs": [],
   "source": [
    "def process(i):\n",
    "    r = requests.get(base_url.format(post_id=i))\n",
    "    with open(root / f\"{i}.json\", \"w\", encoding=\"utf8\") as fp:\n",
    "        json.dump(r.json(), fp)"
   ]
  },
  {
   "cell_type": "code",
   "execution_count": 21,
   "metadata": {},
   "outputs": [
    {
     "name": "stderr",
     "output_type": "stream",
     "text": [
      "100%|██████████████████████████████████████████████████████████████████████████████████| 50/50 [00:23<00:00,  2.10it/s]"
     ]
    },
    {
     "name": "stdout",
     "output_type": "stream",
     "text": [
      "CPU times: total: 1.33 s\n",
      "Wall time: 23.8 s\n"
     ]
    },
    {
     "name": "stderr",
     "output_type": "stream",
     "text": [
      "\n"
     ]
    }
   ],
   "source": [
    "%%time\n",
    "for i in tqdm(range(1, 51)):\n",
    "    process(i)"
   ]
  },
  {
   "cell_type": "code",
   "execution_count": 22,
   "metadata": {},
   "outputs": [],
   "source": [
    "from multiprocessing.pool import ThreadPool"
   ]
  },
  {
   "cell_type": "code",
   "execution_count": 23,
   "metadata": {},
   "outputs": [
    {
     "name": "stdout",
     "output_type": "stream",
     "text": [
      "CPU times: total: 1.62 s\n",
      "Wall time: 3.75 s\n"
     ]
    }
   ],
   "source": [
    "%%time\n",
    "with ThreadPool(processes=10) as pool:\n",
    "    pool.map(process, range(1, 51))"
   ]
  },
  {
   "cell_type": "markdown",
   "metadata": {},
   "source": [
    "3. Получите множество уникальных почтовых доменов.\n",
    "\n",
    "![](https://i.imgur.com/ceY6guU.png)"
   ]
  },
  {
   "cell_type": "code",
   "execution_count": null,
   "metadata": {},
   "outputs": [],
   "source": [
    "data = []\n",
    "for f in root.iterdir():\n",
    "    with open(f, \"r\", encoding=\"utf8\") as fp:\n",
    "        data.append(json.load(fp))\n",
    "data = [x * 20000 for x in data]"
   ]
  },
  {
   "cell_type": "code",
   "execution_count": null,
   "metadata": {},
   "outputs": [],
   "source": []
  },
  {
   "cell_type": "code",
   "execution_count": null,
   "metadata": {},
   "outputs": [],
   "source": []
  },
  {
   "cell_type": "markdown",
   "metadata": {},
   "source": [
    "## Лабораторная работа 6"
   ]
  },
  {
   "cell_type": "markdown",
   "metadata": {},
   "source": [
    "__При решении данных задач не подразумевается использования циклов или генераторов Python в ходе работы с пакетами `numpy` и `pandas`, если в задании не сказано обратного. Решения задач, в которых для обработки массивов `numpy` или структур `pandas` используются явные циклы (без согласования с преподавателем), могут быть признаны некорректными и не засчитаны.__"
   ]
  },
  {
   "cell_type": "markdown",
   "metadata": {},
   "source": [
    "<p class=\"task\" id=\"1\"></p>\n",
    "\n",
    "1\\. Напишите функцию `f`, которая принимает на вход тэг и проверяет, удовлетворяет ли тэг следующему шаблону: `[любое число]-[любое слово]-or-less`. Возьмите файл `tag_nsteps_10m.csv`, примените функцию `f` при помощи метода _серий_ `map` к столбцу `tags` и посчитайте количество тэгов, подходящих под этот шаблон. Выведите количество подходящих тегов на экран. Измерьте время выполнения кода."
   ]
  },
  {
   "cell_type": "code",
   "execution_count": 1,
   "metadata": {},
   "outputs": [],
   "source": [
    "import re\n",
    "import pandas as pd"
   ]
  },
  {
   "cell_type": "code",
   "execution_count": 2,
   "metadata": {},
   "outputs": [
    {
     "name": "stdout",
     "output_type": "stream",
     "text": [
      "Overwriting f_tag.py\n"
     ]
    }
   ],
   "source": [
    "%%file f_tag.py\n",
    "import re\n",
    "def f(tag: str) -> bool:\n",
    "    pattern = r'^\\d+-\\w+-or-less$'\n",
    "    return re.search(pattern, tag) is not None"
   ]
  },
  {
   "cell_type": "code",
   "execution_count": 2,
   "metadata": {},
   "outputs": [],
   "source": [
    "tags = pd.read_csv('tag_nsteps_10m.csv')['tags'].astype(str)"
   ]
  },
  {
   "cell_type": "code",
   "execution_count": 4,
   "metadata": {},
   "outputs": [],
   "source": [
    "from f_tag import f"
   ]
  },
  {
   "cell_type": "code",
   "execution_count": 5,
   "metadata": {},
   "outputs": [
    {
     "name": "stdout",
     "output_type": "stream",
     "text": [
      "CPU times: total: 5.48 s\n",
      "Wall time: 27.4 s\n"
     ]
    },
    {
     "data": {
      "text/plain": [
       "288503"
      ]
     },
     "execution_count": 5,
     "metadata": {},
     "output_type": "execute_result"
    }
   ],
   "source": [
    "%%time\n",
    "tags[tags.map(f)].count()"
   ]
  },
  {
   "cell_type": "markdown",
   "metadata": {},
   "source": [
    "<!-- TODO -->"
   ]
  },
  {
   "cell_type": "markdown",
   "metadata": {},
   "source": [
    "<p class=\"task\" id=\"2\"></p>\n",
    "\n",
    "2\\. Напишите функцию `parallel_map`, которая принимает на вход серию `s` `pd.Series` и функцию одного аргумента `f` и поэлементно применяет эту функцию к серии, распараллелив вычисления при помощи пакета `multiprocessing`. Логика работы функции `parallel_map` должна включать следующие действия:\n",
    "* разбиение исходной серии на $K$ частей, где $K$ - количество ядер вашего процессора;\n",
    "* параллельное применение функции `f` к каждой части при помощи метода _серии_ `map` c использованием нескольких подпроцессов;\n",
    "* объединение результатов работы подпроцессов в одну серию. \n",
    "\n",
    "Возьмите файл `tag_nsteps_10m.csv`, примените функцию `f` при помощи `parallel_map` к столбцу `tags` и посчитайте количество тэгов, подходящих под этот шаблон. Выведите количество подходящих тегов на экран. Измерьте время выполнения кода."
   ]
  },
  {
   "cell_type": "code",
   "execution_count": 3,
   "metadata": {},
   "outputs": [],
   "source": [
    "import multiprocessing"
   ]
  },
  {
   "cell_type": "code",
   "execution_count": 4,
   "metadata": {},
   "outputs": [],
   "source": [
    "import numpy as np"
   ]
  },
  {
   "cell_type": "code",
   "execution_count": 8,
   "metadata": {},
   "outputs": [
    {
     "name": "stdout",
     "output_type": "stream",
     "text": [
      "Overwriting f_tag2.py\n"
     ]
    }
   ],
   "source": [
    "%%file f_tag2.py\n",
    "import re\n",
    "def f2(df: str) -> bool:\n",
    "    pattern = r'^\\d+-\\w+-or-less$'\n",
    "    return df[df.map(lambda tag: re.search(pattern, tag) is not None)]"
   ]
  },
  {
   "cell_type": "code",
   "execution_count": 9,
   "metadata": {},
   "outputs": [],
   "source": [
    "from f_tag2 import f2"
   ]
  },
  {
   "cell_type": "code",
   "execution_count": 10,
   "metadata": {},
   "outputs": [],
   "source": [
    "def parallel_map(s: pd.Series, f: callable) -> pd.Series:\n",
    "    K = multiprocessing.cpu_count()\n",
    "    s_splitted = np.array_split(s, K)\n",
    "    \n",
    "    with multiprocessing.Pool(processes=K) as pool:\n",
    "        r = pool.map(f, s_splitted)\n",
    "    return pd.concat(r)"
   ]
  },
  {
   "cell_type": "code",
   "execution_count": 11,
   "metadata": {},
   "outputs": [
    {
     "name": "stdout",
     "output_type": "stream",
     "text": [
      "CPU times: total: 531 ms\n",
      "Wall time: 4.23 s\n"
     ]
    },
    {
     "data": {
      "text/plain": [
       "288503"
      ]
     },
     "execution_count": 11,
     "metadata": {},
     "output_type": "execute_result"
    }
   ],
   "source": [
    "%%time\n",
    "parallel_map(tags, f2).count()"
   ]
  },
  {
   "cell_type": "markdown",
   "metadata": {},
   "source": [
    "<p class=\"task\" id=\"3\"></p>\n",
    "\n",
    "3\\. Используя пакет `pandarallel`, примените функцию `f` из задания 1 к столбцу `tags` таблицы, с которой вы работали в этом задании. Посчитайте количество тэгов, подходящих под описанный шаблон. Выведите на экран полученный результат. Измерьте время выполнения кода. "
   ]
  },
  {
   "cell_type": "code",
   "execution_count": 12,
   "metadata": {},
   "outputs": [
    {
     "name": "stdout",
     "output_type": "stream",
     "text": [
      "INFO: Pandarallel will run on 4 workers.\n",
      "INFO: Pandarallel will use standard multiprocessing data transfer (pipe) to transfer data between the main process and workers.\n",
      "\n",
      "WARNING: You are on Windows. If you detect any issue with pandarallel, be sure you checked out the Troubleshooting page:\n",
      "https://nalepae.github.io/pandarallel/troubleshooting/\n"
     ]
    }
   ],
   "source": [
    "from pandarallel import pandarallel\n",
    "\n",
    "pandarallel.initialize()"
   ]
  },
  {
   "cell_type": "code",
   "execution_count": 13,
   "metadata": {},
   "outputs": [
    {
     "name": "stdout",
     "output_type": "stream",
     "text": [
      "CPU times: total: 391 ms\n",
      "Wall time: 4.82 s\n"
     ]
    },
    {
     "data": {
      "text/plain": [
       "288503"
      ]
     },
     "execution_count": 13,
     "metadata": {},
     "output_type": "execute_result"
    }
   ],
   "source": [
    "%%time\n",
    "tags[tags.parallel_map(f)].count()"
   ]
  },
  {
   "cell_type": "markdown",
   "metadata": {},
   "source": [
    "<p class=\"task\" id=\"4\"></p>\n",
    "\n",
    "4\\. Сайт [DummyJSON](https://dummyjson.com/) позволяет получить набор данных о товарах в виде JSON. Воспользовавшись пакетом `requests`, получите данные о __50 товарах__ и создайте словарь, где ключом является название товара (title), а значением - список ссылок на изображения этого товара. При создании словаря замените символ `/` в названии на пробел.\n",
    "\n",
    "Выведите на экран количество элементов полученного словаря."
   ]
  },
  {
   "cell_type": "code",
   "execution_count": 12,
   "metadata": {},
   "outputs": [],
   "source": [
    "import requests"
   ]
  },
  {
   "cell_type": "code",
   "execution_count": 13,
   "metadata": {},
   "outputs": [
    {
     "data": {
      "text/plain": [
       "50"
      ]
     },
     "execution_count": 13,
     "metadata": {},
     "output_type": "execute_result"
    }
   ],
   "source": [
    "url = \"https://dummyjson.com/products/{prod_id}\"\n",
    "products = {}\n",
    "for i in range(1, 51):    \n",
    "    r = requests.get(url.format(prod_id=i)).json()\n",
    "    products[r['title'].replace('/', ' ')] = r['images']\n",
    "len(products)"
   ]
  },
  {
   "cell_type": "markdown",
   "metadata": {},
   "source": [
    "<p class=\"task\" id=\"5\"></p>\n",
    "\n",
    "5\\. Напишите функцию `download_product_imgs`, которая создает папку c названием товара внутри каталога `imgs` (сам каталог `imgs` может быть создан любым удобным способом до начала работы) и сохраняет в нее изображения. Название для файла изображения извлеките из URL.\n",
    "\n",
    "Воспользовавшись этой функцией, скачайте изображения всех продуктов. Выведите на экран общее количество загруженных файлов. Для отслеживания хода выполнения кода используйте пакет `tqdm`."
   ]
  },
  {
   "cell_type": "code",
   "execution_count": 14,
   "metadata": {},
   "outputs": [],
   "source": [
    "import json\n",
    "from tqdm import tqdm\n",
    "from pathlib import Path\n",
    "import os\n",
    "import multiprocessing"
   ]
  },
  {
   "cell_type": "code",
   "execution_count": 18,
   "metadata": {},
   "outputs": [],
   "source": [
    "# пример кода для скачивания картинки\n",
    "url = \"https://png.pngtree.com/png-vector/20201229/ourmid/pngtree-a-british-short-blue-and-white-cat-png-image_2654518.jpg\"\n",
    "img = requests.get(url).content\n",
    "with open(\"cat.jpg\", \"wb\") as fp:\n",
    "    fp.write(img)"
   ]
  },
  {
   "cell_type": "code",
   "execution_count": 23,
   "metadata": {},
   "outputs": [],
   "source": [
    "root = Path(f\"img\")\n",
    "root.mkdir(exist_ok=True)"
   ]
  },
  {
   "cell_type": "code",
   "execution_count": 19,
   "metadata": {},
   "outputs": [],
   "source": [
    "def download_product_imgs(title, imgs):\n",
    "    '''\n",
    "    title - название товара\n",
    "    imgs - список ссылок на изображения товара\n",
    "    '''\n",
    "    root = Path(f\"img/{title}\")\n",
    "    root.mkdir(exist_ok=True)\n",
    "    for img in imgs:\n",
    "        img_content = requests.get(img).content\n",
    "        img_name = img.split('/')[-1]\n",
    "        with open(root/img_name, \"wb\") as fp:\n",
    "            fp.write(img_content)\n",
    "        return len(img)"
   ]
  },
  {
   "cell_type": "code",
   "execution_count": 20,
   "metadata": {},
   "outputs": [
    {
     "name": "stderr",
     "output_type": "stream",
     "text": [
      "100%|██████████████████████████████████████████████████████████████████████████████████| 50/50 [01:27<00:00,  1.74s/it]"
     ]
    },
    {
     "name": "stdout",
     "output_type": "stream",
     "text": [
      "2293 files downloaded\n"
     ]
    },
    {
     "name": "stderr",
     "output_type": "stream",
     "text": [
      "\n"
     ]
    }
   ],
   "source": [
    "files = 0\n",
    "for k, v in tqdm(products.items()):\n",
    "    files += download_product_imgs(k, v)\n",
    "print(f'{files} files downloaded')"
   ]
  },
  {
   "cell_type": "markdown",
   "metadata": {},
   "source": [
    "<p class=\"task\" id=\"6\"></p>\n",
    "\n",
    "6\\. Создайте функцию `download_product_imgs_processes` на основе функции `download_product_imgs`, добавив в нее вывод сообщения следующего вида: `Process ID: <ID текущего процесса>`. Для определения ID процесса воспользуйтесь функцией `multiprocessing.current_process()`.\n",
    "\n",
    "Решите задачу 5, распараллелив вычисления при помощи процессов. Вместо корневого каталога `imgs` используйте `imgs_processes`. Выведите на экран общее количество загруженных файлов. Измерьте время выполнения кода. "
   ]
  },
  {
   "cell_type": "code",
   "execution_count": 21,
   "metadata": {},
   "outputs": [
    {
     "name": "stdout",
     "output_type": "stream",
     "text": [
      "Overwriting dpi_process.py\n"
     ]
    }
   ],
   "source": [
    "%%file dpi_process.py\n",
    "import multiprocessing\n",
    "import pathlib\n",
    "import requests\n",
    "from pathlib import Path\n",
    "\n",
    "def download_product_imgs_processes(title, imgs):\n",
    "    print(f\"Process ID: {multiprocessing.current_process()}\")\n",
    "    root = Path(f\"img/{title}\")\n",
    "    root.mkdir(exist_ok=True)\n",
    "    for img in imgs:\n",
    "        img_content = requests.get(img).content\n",
    "        img_name = img.split('/')[-1]\n",
    "        with open(root/img_name, \"wb\") as fp:\n",
    "            fp.write(img_content)\n",
    "        return len(img)"
   ]
  },
  {
   "cell_type": "code",
   "execution_count": 22,
   "metadata": {},
   "outputs": [],
   "source": [
    "from dpi_process import download_product_imgs_processes"
   ]
  },
  {
   "cell_type": "code",
   "execution_count": 23,
   "metadata": {},
   "outputs": [
    {
     "name": "stdout",
     "output_type": "stream",
     "text": [
      "2293\n",
      "CPU times: total: 0 ns\n",
      "Wall time: 16.8 s\n"
     ]
    }
   ],
   "source": [
    "%%time\n",
    "K = multiprocessing.cpu_count()\n",
    "with multiprocessing.Pool(processes=K) as pool:\n",
    "    res = pool.starmap(download_product_imgs_processes, zip(products.keys(), products.values()))\n",
    "print(sum(res))"
   ]
  },
  {
   "cell_type": "markdown",
   "metadata": {},
   "source": [
    "<p class=\"task\" id=\"7\"></p>\n",
    "\n",
    "7\\. Создайте функцию `download_product_imgs_threads` на основе функции `download_product_imgs`, добавив в нее вывод сообщения следующего вида: `Process ID: <ID текущего процесса> Thread ID: <ID текущего потока>`. Для определения ID потока воспользуйтесь функцией `threading.get_ident`.\n",
    "\n",
    "Решите задачу 5, распараллелив вычисления при помощи потоков. Вместо корневого каталога `imgs` используйте `imgs_threads`. Выведите на экран общее количество загруженных файлов. Измерьте время выполнения кода. "
   ]
  },
  {
   "cell_type": "code",
   "execution_count": 18,
   "metadata": {},
   "outputs": [],
   "source": [
    "root = Path(f\"imgs_threads\")\n",
    "root.mkdir(exist_ok=True)"
   ]
  },
  {
   "cell_type": "code",
   "execution_count": 19,
   "metadata": {},
   "outputs": [
    {
     "name": "stdout",
     "output_type": "stream",
     "text": [
      "Overwriting dpi_threads.py\n"
     ]
    }
   ],
   "source": [
    "%%file dpi_threads.py\n",
    "import multiprocessing\n",
    "import pathlib\n",
    "import requests\n",
    "import threading\n",
    "from pathlib import Path\n",
    "\n",
    "def download_product_imgs_threads(title, imgs):\n",
    "    print(f\"Process ID: {multiprocessing.current_process()}, Thread ID: {threading.get_ident()}\")\n",
    "    root = Path(f\"imgs_threads/{title}\")\n",
    "    root.mkdir(exist_ok=True)\n",
    "    for img in imgs:\n",
    "        img_content = requests.get(img).content\n",
    "        img_name = img.split('/')[-1]\n",
    "        with open(root/img_name, \"wb\") as fp:\n",
    "            fp.write(img_content)\n",
    "        return len(img)"
   ]
  },
  {
   "cell_type": "code",
   "execution_count": 20,
   "metadata": {},
   "outputs": [],
   "source": [
    "from dpi_threads import download_product_imgs_threads"
   ]
  },
  {
   "cell_type": "code",
   "execution_count": 21,
   "metadata": {},
   "outputs": [],
   "source": [
    "import threading"
   ]
  },
  {
   "cell_type": "code",
   "execution_count": 22,
   "metadata": {},
   "outputs": [
    {
     "name": "stdout",
     "output_type": "stream",
     "text": [
      "Process ID: <_MainProcess name='MainProcess' parent=None started>, Thread ID: 9008\n",
      "Process ID: <_MainProcess name='MainProcess' parent=None started>, Thread ID: 168\n",
      "Process ID: <_MainProcess name='MainProcess' parent=None started>, Thread ID: 19308\n",
      "Process ID: <_MainProcess name='MainProcess' parent=None started>, Thread ID: 11316\n",
      "Process ID: <_MainProcess name='MainProcess' parent=None started>, Thread ID: 3000\n",
      "Process ID: <_MainProcess name='MainProcess' parent=None started>, Thread ID: 6376Process ID: <_MainProcess name='MainProcess' parent=None started>, Thread ID: 9288\n",
      "\n",
      "Process ID: <_MainProcess name='MainProcess' parent=None started>, Thread ID: 14728\n",
      "Process ID: <_MainProcess name='MainProcess' parent=None started>, Thread ID: 16292\n",
      "Process ID: <_MainProcess name='MainProcess' parent=None started>, Thread ID: 1096\n",
      "Process ID: <_MainProcess name='MainProcess' parent=None started>, Thread ID: 9028\n",
      "Process ID: <_MainProcess name='MainProcess' parent=None started>, Thread ID: 2700\n",
      "Process ID: <_MainProcess name='MainProcess' parent=None started>, Thread ID: 8172\n",
      "Process ID: <_MainProcess name='MainProcess' parent=None started>, Thread ID: 9500\n",
      "Process ID: <_MainProcess name='MainProcess' parent=None started>, Thread ID: 8832\n",
      "Process ID: <_MainProcess name='MainProcess' parent=None started>, Thread ID: 17536\n",
      "Process ID: <_MainProcess name='MainProcess' parent=None started>, Thread ID: 5932\n",
      "Process ID: <_MainProcess name='MainProcess' parent=None started>, Thread ID: 15804\n",
      "Process ID: <_MainProcess name='MainProcess' parent=None started>, Thread ID: 16780\n",
      "Process ID: <_MainProcess name='MainProcess' parent=None started>, Thread ID: 12552\n",
      "Process ID: <_MainProcess name='MainProcess' parent=None started>, Thread ID: 19084Process ID: <_MainProcess name='MainProcess' parent=None started>, Thread ID: 11148\n",
      "\n",
      "Process ID: <_MainProcess name='MainProcess' parent=None started>, Thread ID: 14356Process ID: <_MainProcess name='MainProcess' parent=None started>, Thread ID: 13140\n",
      "Process ID: <_MainProcess name='MainProcess' parent=None started>, Thread ID: 13548\n",
      "Process ID: <_MainProcess name='MainProcess' parent=None started>, Thread ID: 6140\n",
      "Process ID: <_MainProcess name='MainProcess' parent=None started>, Thread ID: 16312\n",
      "\n",
      "Process ID: <_MainProcess name='MainProcess' parent=None started>, Thread ID: 2324\n",
      "Process ID: <_MainProcess name='MainProcess' parent=None started>, Thread ID: 15236\n",
      "Process ID: <_MainProcess name='MainProcess' parent=None started>, Thread ID: 16316Process ID: <_MainProcess name='MainProcess' parent=None started>, Thread ID: 8964\n",
      "Process ID: <_MainProcess name='MainProcess' parent=None started>, Thread ID: 7400\n",
      "\n",
      "Process ID: <_MainProcess name='MainProcess' parent=None started>, Thread ID: 6316\n",
      "Process ID: <_MainProcess name='MainProcess' parent=None started>, Thread ID: 17344\n",
      "Process ID: <_MainProcess name='MainProcess' parent=None started>, Thread ID: 14076\n",
      "Process ID: <_MainProcess name='MainProcess' parent=None started>, Thread ID: 11952\n",
      "Process ID: <_MainProcess name='MainProcess' parent=None started>, Thread ID: 11252\n",
      "Process ID: <_MainProcess name='MainProcess' parent=None started>, Thread ID: 7344\n",
      "Process ID: <_MainProcess name='MainProcess' parent=None started>, Thread ID: 6528\n",
      "Process ID: <_MainProcess name='MainProcess' parent=None started>, Thread ID: 12860\n",
      "Process ID: <_MainProcess name='MainProcess' parent=None started>, Thread ID: 15596Process ID: <_MainProcess name='MainProcess' parent=None started>, Thread ID: 12588\n",
      "\n",
      "Process ID: <_MainProcess name='MainProcess' parent=None started>, Thread ID: 8088\n",
      "Process ID: <_MainProcess name='MainProcess' parent=None started>, Thread ID: 6488\n",
      "Process ID: <_MainProcess name='MainProcess' parent=None started>, Thread ID: 14528\n",
      "Process ID: <_MainProcess name='MainProcess' parent=None started>, Thread ID: 14856\n",
      "Process ID: <_MainProcess name='MainProcess' parent=None started>, Thread ID: 7972\n",
      "Process ID: <_MainProcess name='MainProcess' parent=None started>, Thread ID: 12832\n",
      "Process ID: <_MainProcess name='MainProcess' parent=None started>, Thread ID: 10560Process ID: <_MainProcess name='MainProcess' parent=None started>, Thread ID: 1544\n",
      "\n",
      "2293\n",
      "CPU times: total: 1.75 s\n",
      "Wall time: 15.3 s\n"
     ]
    }
   ],
   "source": [
    "%%time\n",
    "with multiprocessing.pool.ThreadPool(processes=50) as pool:\n",
    "    res = pool.starmap(download_product_imgs_threads, zip(products.keys(), products.values()))\n",
    "print(sum(res))"
   ]
  },
  {
   "cell_type": "markdown",
   "metadata": {},
   "source": [
    "<p class=\"task\" id=\"8\"></p>\n",
    "\n",
    "8\\. Напишите функцию `create_2d_list`, которая создает матрицу размера `m` на `n` (__в виде списка списков__) вещественных чисел из стандартного нормального распределения. Напишите функцию `sum_by_chunk`, которая принимает на вход несколько строк этой матрицы (тоже в виде списка списков) и находит сумму элементов. \n",
    "\n",
    "Используя данную функцию, решите задачу поиска суммы по всей матрице тремя способами:\n",
    "* передав в функцию `sum_by_chunk` всю матрицу целиком;\n",
    "* распараллелив вычисления при помощи процессов по следующему принципу: матрица разбивается на части (например, по 1тыс. строк); процессы независимо друг от друга обрабатывают эти части; после завершения работы всех процессов результаты агрегируются для получения результата для всей матрицы;\n",
    "* распараллелив вычисления при помощи потоков аналогичным способом.\n",
    "\n",
    "Для демонстрации результата создайте матрицу достаточно большого размера (не менее 100 тыс. строк), выведите на экран результаты работы трех вариантов решения и измерьте время выполнения каждого из них.\n",
    "\n",
    "В данном задании разрешается использовать пакет `numpy` только для создания матрицы. В этом случае необходимо преобразовать ее к списку списков до начала работы."
   ]
  },
  {
   "cell_type": "code",
   "execution_count": 3,
   "metadata": {},
   "outputs": [],
   "source": [
    "def create_2d_list(m, n):\n",
    "    arr = np.random.standard_normal(size=(m, n)).tolist()\n",
    "    return arr"
   ]
  },
  {
   "cell_type": "code",
   "execution_count": 7,
   "metadata": {},
   "outputs": [],
   "source": [
    "# первый способ"
   ]
  },
  {
   "cell_type": "code",
   "execution_count": 4,
   "metadata": {},
   "outputs": [],
   "source": [
    "def sum_by_chunk(matrix):\n",
    "    return sum(map(sum, matrix))"
   ]
  },
  {
   "cell_type": "code",
   "execution_count": 5,
   "metadata": {},
   "outputs": [],
   "source": [
    "matrix = create_2d_list(100_000, 100)"
   ]
  },
  {
   "cell_type": "code",
   "execution_count": 6,
   "metadata": {},
   "outputs": [
    {
     "name": "stdout",
     "output_type": "stream",
     "text": [
      "CPU times: total: 46.9 ms\n",
      "Wall time: 78.1 ms\n"
     ]
    },
    {
     "data": {
      "text/plain": [
       "1132.4223261149227"
      ]
     },
     "execution_count": 6,
     "metadata": {},
     "output_type": "execute_result"
    }
   ],
   "source": [
    "%%time\n",
    "sum_by_chunk(matrix)"
   ]
  },
  {
   "cell_type": "code",
   "execution_count": 8,
   "metadata": {},
   "outputs": [],
   "source": [
    "# второй способ"
   ]
  },
  {
   "cell_type": "code",
   "execution_count": 9,
   "metadata": {},
   "outputs": [
    {
     "name": "stdout",
     "output_type": "stream",
     "text": [
      "Writing sbc_mul.py\n"
     ]
    }
   ],
   "source": [
    "%%file sbc_mul.py\n",
    "def sum_by_chunk_mul(matrix):\n",
    "    return sum(map(sum, matrix))"
   ]
  },
  {
   "cell_type": "code",
   "execution_count": 10,
   "metadata": {},
   "outputs": [],
   "source": [
    "from sbc_mul import sum_by_chunk_mul"
   ]
  },
  {
   "cell_type": "code",
   "execution_count": 15,
   "metadata": {},
   "outputs": [],
   "source": [
    "matrix = np.array(np.array_split(matrix, 1000)).tolist()"
   ]
  },
  {
   "cell_type": "code",
   "execution_count": 19,
   "metadata": {},
   "outputs": [
    {
     "name": "stdout",
     "output_type": "stream",
     "text": [
      "CPU times: total: 359 ms\n",
      "Wall time: 696 ms\n"
     ]
    },
    {
     "data": {
      "text/plain": [
       "1132.4223261149493"
      ]
     },
     "execution_count": 19,
     "metadata": {},
     "output_type": "execute_result"
    }
   ],
   "source": [
    "%%time\n",
    "K = multiprocessing.cpu_count()\n",
    "with multiprocessing.Pool(processes=K) as pool:\n",
    "    ans = pool.map(sum_by_chunk_mul, matrix)\n",
    "sum(ans)"
   ]
  },
  {
   "cell_type": "code",
   "execution_count": 20,
   "metadata": {},
   "outputs": [],
   "source": [
    "# третий способ"
   ]
  },
  {
   "cell_type": "code",
   "execution_count": 21,
   "metadata": {},
   "outputs": [
    {
     "name": "stdout",
     "output_type": "stream",
     "text": [
      "CPU times: total: 31.2 ms\n",
      "Wall time: 109 ms\n"
     ]
    },
    {
     "data": {
      "text/plain": [
       "1132.4223261149493"
      ]
     },
     "execution_count": 21,
     "metadata": {},
     "output_type": "execute_result"
    }
   ],
   "source": [
    "%%time\n",
    "with multiprocessing.pool.ThreadPool(processes=K) as pool:\n",
    "    ans = pool.map(sum_by_chunk_mul, matrix)\n",
    "sum(ans)"
   ]
  },
  {
   "cell_type": "markdown",
   "metadata": {},
   "source": [
    "<p class=\"task\" id=\"9\"></p>\n",
    "\n",
    "9\\. Напишите функцию `create_2d_arr`, которая создает матрицу размера `m` на `n` (__в виде массива numpy__) вещественных чисел из стандартного нормального распределения. Напишите функцию `sum_by_chunk_np`, которая принимает на вход несколько строк этой матрицы (тоже в виде массива) и находит сумму элементов. \n",
    "\n",
    "Используя данную функцию, решите задачу поиска суммы по всей матрице тремя способами аналогично задаче 8.\n",
    "\n",
    "Для демонстрации результата создайте матрицу достаточно большого размера (не менее 100 тыс. строк), выведите на экран результаты работы трех вариантов решения и измерьте время выполнения каждого из них.\n",
    "\n",
    "В данном задании при поиска суммы не используйте встроенную функцию `sum`, вместо этого используйте возможности `numpy`."
   ]
  },
  {
   "cell_type": "code",
   "execution_count": 22,
   "metadata": {},
   "outputs": [],
   "source": [
    "def create_2d_arr(m, n):\n",
    "    arr_np = np.random.standard_normal(size=(m, n))\n",
    "    return arr_np"
   ]
  },
  {
   "cell_type": "code",
   "execution_count": 34,
   "metadata": {},
   "outputs": [
    {
     "name": "stdout",
     "output_type": "stream",
     "text": [
      "Writing sbc_np.py\n"
     ]
    }
   ],
   "source": [
    "%%file sbc_np.py\n",
    "import numpy as np\n",
    "def sum_by_chunk_np(matrix):\n",
    "    return np.sum(matrix)"
   ]
  },
  {
   "cell_type": "code",
   "execution_count": 24,
   "metadata": {},
   "outputs": [],
   "source": [
    "matrix = create_2d_arr(100_000, 100)"
   ]
  },
  {
   "cell_type": "code",
   "execution_count": 26,
   "metadata": {},
   "outputs": [],
   "source": [
    "# первый способ"
   ]
  },
  {
   "cell_type": "code",
   "execution_count": 25,
   "metadata": {},
   "outputs": [
    {
     "name": "stdout",
     "output_type": "stream",
     "text": [
      "CPU times: total: 15.6 ms\n",
      "Wall time: 31.3 ms\n"
     ]
    },
    {
     "data": {
      "text/plain": [
       "-2777.485706043733"
      ]
     },
     "execution_count": 25,
     "metadata": {},
     "output_type": "execute_result"
    }
   ],
   "source": [
    "%%time\n",
    "sum_by_chunk_np(matrix)"
   ]
  },
  {
   "cell_type": "code",
   "execution_count": 27,
   "metadata": {},
   "outputs": [],
   "source": [
    "# второй способ"
   ]
  },
  {
   "cell_type": "code",
   "execution_count": 35,
   "metadata": {},
   "outputs": [],
   "source": [
    "from sbc_np import sum_by_chunk_np"
   ]
  },
  {
   "cell_type": "code",
   "execution_count": 36,
   "metadata": {},
   "outputs": [
    {
     "name": "stdout",
     "output_type": "stream",
     "text": [
      "CPU times: total: 406 ms\n",
      "Wall time: 1.09 s\n"
     ]
    },
    {
     "data": {
      "text/plain": [
       "-2777.4857060437275"
      ]
     },
     "execution_count": 36,
     "metadata": {},
     "output_type": "execute_result"
    }
   ],
   "source": [
    "%%time\n",
    "K = multiprocessing.cpu_count()\n",
    "with multiprocessing.Pool(processes=K) as pool:\n",
    "    ans = pool.map(sum_by_chunk_np, matrix)\n",
    "sum(ans)"
   ]
  },
  {
   "cell_type": "code",
   "execution_count": 38,
   "metadata": {},
   "outputs": [],
   "source": [
    "# третий способ"
   ]
  },
  {
   "cell_type": "code",
   "execution_count": 37,
   "metadata": {},
   "outputs": [
    {
     "name": "stdout",
     "output_type": "stream",
     "text": [
      "CPU times: total: 203 ms\n",
      "Wall time: 437 ms\n"
     ]
    },
    {
     "data": {
      "text/plain": [
       "-2777.4857060437275"
      ]
     },
     "execution_count": 37,
     "metadata": {},
     "output_type": "execute_result"
    }
   ],
   "source": [
    "%%time\n",
    "with multiprocessing.pool.ThreadPool(processes=K) as pool:\n",
    "    ans = pool.map(sum_by_chunk_np, matrix)\n",
    "sum(ans)"
   ]
  },
  {
   "cell_type": "code",
   "execution_count": null,
   "metadata": {},
   "outputs": [],
   "source": []
  }
 ],
 "metadata": {
  "kernelspec": {
   "display_name": "Python 3 (ipykernel)",
   "language": "python",
   "name": "python3"
  },
  "language_info": {
   "codemirror_mode": {
    "name": "ipython",
    "version": 3
   },
   "file_extension": ".py",
   "mimetype": "text/x-python",
   "name": "python",
   "nbconvert_exporter": "python",
   "pygments_lexer": "ipython3",
   "version": "3.9.12"
  }
 },
 "nbformat": 4,
 "nbformat_minor": 4
}
