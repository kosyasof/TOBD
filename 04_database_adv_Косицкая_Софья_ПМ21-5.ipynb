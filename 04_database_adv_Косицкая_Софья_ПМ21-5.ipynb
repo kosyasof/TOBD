{
 "cells": [
  {
   "cell_type": "markdown",
   "id": "f9b8d745",
   "metadata": {},
   "source": [
    "# Работа с базами данных (2)"
   ]
  },
  {
   "cell_type": "markdown",
   "id": "52dea052",
   "metadata": {},
   "source": [
    "__Автор задач: Блохин Н.В. (NVBlokhin@fa.ru)__\n",
    "\n",
    "Материалы:\n",
    "* Макрушин С.В. Лекция \"Работа с базами данных\"\n",
    "* https://sqliteonline.com/\n",
    "* https://docs.python.org/3/library/sqlite3.html\n",
    "* https://www.sqlitetutorial.net/sqlite-index/\n",
    "* https://docs.python.org/3/library/sqlite3.html#sqlite3.IntegrityError\n",
    "* https://www.sqlitetutorial.net/sqlite-alter-table/\n",
    "* https://www.sqlitetutorial.net/sqlite-create-view/\n",
    "* https://habr.com/ru/post/664000/\n",
    "* https://learnsql.com/blog/what-is-common-table-expression/\n"
   ]
  },
  {
   "cell_type": "markdown",
   "id": "adbd64fe",
   "metadata": {},
   "source": [
    "## Задачи для совместного разбора"
   ]
  },
  {
   "cell_type": "code",
   "execution_count": 1,
   "id": "f891aa88",
   "metadata": {},
   "outputs": [
    {
     "data": {
      "text/plain": [
       "4"
      ]
     },
     "execution_count": 1,
     "metadata": {},
     "output_type": "execute_result"
    }
   ],
   "source": [
    "import pandas as pd\n",
    "import sqlite3\n",
    "\n",
    "# данные\n",
    "students = pd.DataFrame(\n",
    "    [\n",
    "        (\"Сотников Евгений Янович\", 1),\n",
    "        (\"Степанова Виктория Константиновна\", 1),\n",
    "        (\"Горелова Вероника Яновна\", 2),\n",
    "        (\"Гришин Иван Романович\", 3),\n",
    "    ],\n",
    "    columns=[\"name\", \"group_id\"],\n",
    ")\n",
    "groups = list(zip([1, 2, 3], [\"ПМ20-1\", \"ПМ20-2\", \"ПМ20-3\"]))\n",
    "\n",
    "con = sqlite3.connect(\"demo.sqlite\")\n",
    "con.execute(\"PRAGMA foreign_keys = 1\")\n",
    "cur = con.cursor()\n",
    "\n",
    "# создаем таблицы\n",
    "sql = \"\"\"\n",
    "DROP TABLE IF EXISTS StudentGroup;\n",
    "DROP TABLE IF EXISTS Student;\n",
    "CREATE TABLE StudentGroup (\n",
    "    id int PRIMARY KEY,\n",
    "    name varchar\n",
    ");\n",
    "\n",
    "CREATE TABLE Student(\n",
    "    name VARCHAR PRIMARY KEY,\n",
    "    group_id INT,\n",
    "    FOREIGN KEY (group_id) REFERENCES StudentGroup(id)\n",
    ");\n",
    "\"\"\"\n",
    "cur.executescript(sql)\n",
    "con.commit()\n",
    "\n",
    "# добавляем записи\n",
    "sql = \"\"\"\n",
    "INSERT INTO StudentGroup(id, name) VALUES (?, ?)\n",
    "\"\"\"\n",
    "cur.executemany(sql, groups)\n",
    "con.commit()\n",
    "\n",
    "students.to_sql(\"Student\", con, if_exists=\"append\", index=False)"
   ]
  },
  {
   "cell_type": "markdown",
   "id": "b73cdf2b",
   "metadata": {},
   "source": [
    "1\\. Добавить столбец Age со значением по умолчанию. Добавить запись к таблицу"
   ]
  },
  {
   "cell_type": "code",
   "execution_count": 2,
   "id": "00940f25",
   "metadata": {},
   "outputs": [],
   "source": [
    "sql = \"\"\"\n",
    "ALTER TABLE Student\n",
    "    ADD COLUMN Age INT DEFAULT 18\n",
    "\"\"\"\n",
    "cur.execute(sql)\n",
    "con.commit()"
   ]
  },
  {
   "cell_type": "code",
   "execution_count": 3,
   "id": "e19c9204",
   "metadata": {},
   "outputs": [
    {
     "data": {
      "text/html": [
       "<div>\n",
       "<style scoped>\n",
       "    .dataframe tbody tr th:only-of-type {\n",
       "        vertical-align: middle;\n",
       "    }\n",
       "\n",
       "    .dataframe tbody tr th {\n",
       "        vertical-align: top;\n",
       "    }\n",
       "\n",
       "    .dataframe thead th {\n",
       "        text-align: right;\n",
       "    }\n",
       "</style>\n",
       "<table border=\"1\" class=\"dataframe\">\n",
       "  <thead>\n",
       "    <tr style=\"text-align: right;\">\n",
       "      <th></th>\n",
       "      <th>name</th>\n",
       "      <th>group_id</th>\n",
       "      <th>Age</th>\n",
       "    </tr>\n",
       "  </thead>\n",
       "  <tbody>\n",
       "    <tr>\n",
       "      <th>0</th>\n",
       "      <td>Сотников Евгений Янович</td>\n",
       "      <td>1</td>\n",
       "      <td>18</td>\n",
       "    </tr>\n",
       "    <tr>\n",
       "      <th>1</th>\n",
       "      <td>Степанова Виктория Константиновна</td>\n",
       "      <td>1</td>\n",
       "      <td>18</td>\n",
       "    </tr>\n",
       "    <tr>\n",
       "      <th>2</th>\n",
       "      <td>Горелова Вероника Яновна</td>\n",
       "      <td>2</td>\n",
       "      <td>18</td>\n",
       "    </tr>\n",
       "    <tr>\n",
       "      <th>3</th>\n",
       "      <td>Гришин Иван Романович</td>\n",
       "      <td>3</td>\n",
       "      <td>18</td>\n",
       "    </tr>\n",
       "  </tbody>\n",
       "</table>\n",
       "</div>"
      ],
      "text/plain": [
       "                                name  group_id  Age\n",
       "0            Сотников Евгений Янович         1   18\n",
       "1  Степанова Виктория Константиновна         1   18\n",
       "2           Горелова Вероника Яновна         2   18\n",
       "3              Гришин Иван Романович         3   18"
      ]
     },
     "execution_count": 3,
     "metadata": {},
     "output_type": "execute_result"
    }
   ],
   "source": [
    "pd.read_sql_query('SELECT * FROM Student', con)"
   ]
  },
  {
   "cell_type": "code",
   "execution_count": 7,
   "id": "7757394f",
   "metadata": {},
   "outputs": [],
   "source": [
    "sql = \"\"\"\n",
    "INSERT INTO Student(name, group_id, Age)\n",
    "    VALUES(\"Аств Влда\", 3, 20)\n",
    "\"\"\"\n",
    "try:\n",
    "    cur.execute(sql)\n",
    "except sqlite3.OperationalError as e:\n",
    "    print(\"OperationalError: \", e)\n",
    "else:\n",
    "    con.commit()"
   ]
  },
  {
   "cell_type": "markdown",
   "id": "c41063fc",
   "metadata": {},
   "source": [
    "2\\. Занумеруйте студентов в рамках каждой группы."
   ]
  },
  {
   "cell_type": "code",
   "execution_count": 12,
   "id": "d4784eaf",
   "metadata": {},
   "outputs": [
    {
     "data": {
      "text/html": [
       "<div>\n",
       "<style scoped>\n",
       "    .dataframe tbody tr th:only-of-type {\n",
       "        vertical-align: middle;\n",
       "    }\n",
       "\n",
       "    .dataframe tbody tr th {\n",
       "        vertical-align: top;\n",
       "    }\n",
       "\n",
       "    .dataframe thead th {\n",
       "        text-align: right;\n",
       "    }\n",
       "</style>\n",
       "<table border=\"1\" class=\"dataframe\">\n",
       "  <thead>\n",
       "    <tr style=\"text-align: right;\">\n",
       "      <th></th>\n",
       "      <th>name</th>\n",
       "      <th>group_id</th>\n",
       "      <th>rid</th>\n",
       "    </tr>\n",
       "  </thead>\n",
       "  <tbody>\n",
       "    <tr>\n",
       "      <th>0</th>\n",
       "      <td>Сотников Евгений Янович</td>\n",
       "      <td>1</td>\n",
       "      <td>1</td>\n",
       "    </tr>\n",
       "    <tr>\n",
       "      <th>1</th>\n",
       "      <td>Степанова Виктория Константиновна</td>\n",
       "      <td>1</td>\n",
       "      <td>2</td>\n",
       "    </tr>\n",
       "    <tr>\n",
       "      <th>2</th>\n",
       "      <td>Горелова Вероника Яновна</td>\n",
       "      <td>2</td>\n",
       "      <td>1</td>\n",
       "    </tr>\n",
       "    <tr>\n",
       "      <th>3</th>\n",
       "      <td>Аств Влда</td>\n",
       "      <td>3</td>\n",
       "      <td>1</td>\n",
       "    </tr>\n",
       "    <tr>\n",
       "      <th>4</th>\n",
       "      <td>Гришин Иван Романович</td>\n",
       "      <td>3</td>\n",
       "      <td>2</td>\n",
       "    </tr>\n",
       "  </tbody>\n",
       "</table>\n",
       "</div>"
      ],
      "text/plain": [
       "                                name  group_id  rid\n",
       "0            Сотников Евгений Янович         1    1\n",
       "1  Степанова Виктория Константиновна         1    2\n",
       "2           Горелова Вероника Яновна         2    1\n",
       "3                          Аств Влда         3    1\n",
       "4              Гришин Иван Романович         3    2"
      ]
     },
     "execution_count": 12,
     "metadata": {},
     "output_type": "execute_result"
    }
   ],
   "source": [
    "pd.read_sql_query(\"\"\"\n",
    "    SELECT name, \n",
    "        group_id,\n",
    "        ROW_NUMBER() OVER(PARTITION BY group_id ORDER BY name) as rid\n",
    "    FROM Student\n",
    "\"\"\", con)"
   ]
  },
  {
   "cell_type": "markdown",
   "id": "f25a9d2f",
   "metadata": {},
   "source": [
    "3\\. Выведите уникальные номера студентов"
   ]
  },
  {
   "cell_type": "code",
   "execution_count": 13,
   "id": "3aa83028",
   "metadata": {},
   "outputs": [
    {
     "data": {
      "text/html": [
       "<div>\n",
       "<style scoped>\n",
       "    .dataframe tbody tr th:only-of-type {\n",
       "        vertical-align: middle;\n",
       "    }\n",
       "\n",
       "    .dataframe tbody tr th {\n",
       "        vertical-align: top;\n",
       "    }\n",
       "\n",
       "    .dataframe thead th {\n",
       "        text-align: right;\n",
       "    }\n",
       "</style>\n",
       "<table border=\"1\" class=\"dataframe\">\n",
       "  <thead>\n",
       "    <tr style=\"text-align: right;\">\n",
       "      <th></th>\n",
       "      <th>rid</th>\n",
       "    </tr>\n",
       "  </thead>\n",
       "  <tbody>\n",
       "    <tr>\n",
       "      <th>0</th>\n",
       "      <td>1</td>\n",
       "    </tr>\n",
       "    <tr>\n",
       "      <th>1</th>\n",
       "      <td>2</td>\n",
       "    </tr>\n",
       "  </tbody>\n",
       "</table>\n",
       "</div>"
      ],
      "text/plain": [
       "   rid\n",
       "0    1\n",
       "1    2"
      ]
     },
     "execution_count": 13,
     "metadata": {},
     "output_type": "execute_result"
    }
   ],
   "source": [
    "pd.read_sql_query(\"\"\"\n",
    "SELECT DISTINCT rid \n",
    "    FROM(\n",
    "    SELECT name, \n",
    "        group_id,\n",
    "        ROW_NUMBER() OVER(PARTITION BY group_id ORDER BY name) as rid\n",
    "    FROM Student\n",
    "    )\n",
    "\"\"\", con)"
   ]
  },
  {
   "cell_type": "code",
   "execution_count": 14,
   "id": "5e1bd754",
   "metadata": {},
   "outputs": [],
   "source": [
    "sql = \"\"\"\n",
    "CREATE VIEW Student_view AS \n",
    "    SELECT name, \n",
    "        group_id,\n",
    "        ROW_NUMBER() OVER(PARTITION BY group_id ORDER BY name) as rid\n",
    "    FROM Student\n",
    "\"\"\"\n",
    "cur.execute(sql)\n",
    "con.commit()"
   ]
  },
  {
   "cell_type": "code",
   "execution_count": 15,
   "id": "e1ccfbd2",
   "metadata": {},
   "outputs": [
    {
     "data": {
      "text/html": [
       "<div>\n",
       "<style scoped>\n",
       "    .dataframe tbody tr th:only-of-type {\n",
       "        vertical-align: middle;\n",
       "    }\n",
       "\n",
       "    .dataframe tbody tr th {\n",
       "        vertical-align: top;\n",
       "    }\n",
       "\n",
       "    .dataframe thead th {\n",
       "        text-align: right;\n",
       "    }\n",
       "</style>\n",
       "<table border=\"1\" class=\"dataframe\">\n",
       "  <thead>\n",
       "    <tr style=\"text-align: right;\">\n",
       "      <th></th>\n",
       "      <th>rid</th>\n",
       "    </tr>\n",
       "  </thead>\n",
       "  <tbody>\n",
       "    <tr>\n",
       "      <th>0</th>\n",
       "      <td>1</td>\n",
       "    </tr>\n",
       "    <tr>\n",
       "      <th>1</th>\n",
       "      <td>2</td>\n",
       "    </tr>\n",
       "  </tbody>\n",
       "</table>\n",
       "</div>"
      ],
      "text/plain": [
       "   rid\n",
       "0    1\n",
       "1    2"
      ]
     },
     "execution_count": 15,
     "metadata": {},
     "output_type": "execute_result"
    }
   ],
   "source": [
    "pd.read_sql_query(\"\"\"\n",
    "    SELECT DISTINCT rid\n",
    "    FROM Student_view\n",
    "\"\"\", con)"
   ]
  },
  {
   "cell_type": "code",
   "execution_count": 17,
   "id": "98408182",
   "metadata": {},
   "outputs": [
    {
     "data": {
      "text/html": [
       "<div>\n",
       "<style scoped>\n",
       "    .dataframe tbody tr th:only-of-type {\n",
       "        vertical-align: middle;\n",
       "    }\n",
       "\n",
       "    .dataframe tbody tr th {\n",
       "        vertical-align: top;\n",
       "    }\n",
       "\n",
       "    .dataframe thead th {\n",
       "        text-align: right;\n",
       "    }\n",
       "</style>\n",
       "<table border=\"1\" class=\"dataframe\">\n",
       "  <thead>\n",
       "    <tr style=\"text-align: right;\">\n",
       "      <th></th>\n",
       "      <th>rid</th>\n",
       "    </tr>\n",
       "  </thead>\n",
       "  <tbody>\n",
       "    <tr>\n",
       "      <th>0</th>\n",
       "      <td>1</td>\n",
       "    </tr>\n",
       "    <tr>\n",
       "      <th>1</th>\n",
       "      <td>2</td>\n",
       "    </tr>\n",
       "  </tbody>\n",
       "</table>\n",
       "</div>"
      ],
      "text/plain": [
       "   rid\n",
       "0    1\n",
       "1    2"
      ]
     },
     "execution_count": 17,
     "metadata": {},
     "output_type": "execute_result"
    }
   ],
   "source": [
    "pd.read_sql_query(\"\"\"\n",
    "    WITH StudentCTE AS (\n",
    "        SELECT name,\n",
    "            group_id,\n",
    "            ROW_NUMBER() OVER(PARTITION BY group_id ORDER BY name) as rid\n",
    "    FROM Student\n",
    "    )\n",
    "    SELECT DISTINCT rid\n",
    "    FROM (StudentCTE)\n",
    "\"\"\", con)"
   ]
  },
  {
   "cell_type": "markdown",
   "id": "e4229ad3",
   "metadata": {},
   "source": [
    "## Лабораторная работа 4"
   ]
  },
  {
   "cell_type": "markdown",
   "id": "ab7ef89a",
   "metadata": {},
   "source": [
    "__При решении данных задач не подразумевается использования циклов или генераторов Python в ходе работы с пакетами `numpy` и `pandas`, если в задании не сказано обратного. Решения задач, в которых для обработки массивов `numpy` или структур `pandas` используются явные циклы (без согласования с преподавателем), могут быть признаны некорректными и не засчитаны.__"
   ]
  },
  {
   "cell_type": "code",
   "execution_count": 1,
   "id": "4f287665",
   "metadata": {},
   "outputs": [],
   "source": [
    "import pandas as pd\n",
    "import sqlite3"
   ]
  },
  {
   "cell_type": "markdown",
   "id": "48b60bc7",
   "metadata": {},
   "source": [
    "__Для начала работы подключитесь к БД `recipes.db` и создайте объект-курсор.__"
   ]
  },
  {
   "cell_type": "code",
   "execution_count": 2,
   "id": "621221d9",
   "metadata": {},
   "outputs": [],
   "source": [
    "con = sqlite3.connect(\"recipes.db\")"
   ]
  },
  {
   "cell_type": "code",
   "execution_count": 3,
   "id": "aa383b36",
   "metadata": {},
   "outputs": [],
   "source": [
    "cur = con.cursor()"
   ]
  },
  {
   "cell_type": "markdown",
   "id": "bf116062",
   "metadata": {},
   "source": [
    "<p class=\"task\" id=\"1\"></p>\n",
    "\n",
    "1\\. Создайте уникальный индекс для таблицы `Review` для обеспечения уникальности сочетания значений в полях `user_id` и `recipe_id`. "
   ]
  },
  {
   "cell_type": "code",
   "execution_count": 4,
   "id": "a68f18a3",
   "metadata": {},
   "outputs": [],
   "source": [
    "cur.execute(\"CREATE UNIQUE INDEX user_recipe ON Review(user_id, recipe_id)\");\n",
    "con.commit()"
   ]
  },
  {
   "cell_type": "markdown",
   "id": "9143de78",
   "metadata": {},
   "source": [
    "<p class=\"task\" id=\"2\"></p>\n",
    "\n",
    "2\\. Напишите функцию `add_review(review_id, user_id, recipe_id, date, rating, review)`, которая добавляет запись в таблицу `Review`. В случае успешного добавления функция должна вернуть значение 0. В случае нарушения ограничения целостности функция должна вернуть значение 1. В случае любых других ошибок функция должна вернуть значение 2. Продемонстрируйте работу функции, попытавшись добавить одну и ту же запись дважды в двух ячейках подряд.\n",
    "\n",
    "Для решения задачи воспользуйтесь механизмом try - except и обработайте соответствующее исключение."
   ]
  },
  {
   "cell_type": "code",
   "execution_count": 15,
   "id": "8b7fbf14",
   "metadata": {},
   "outputs": [],
   "source": [
    "def add_review(review_id, user_id, recipe_id, date, rating, review):\n",
    "    try:\n",
    "        sql = \"\"\"\n",
    "            INSERT INTO Review(id, user_id, recipe_id, date, rating, review)\n",
    "                VALUES (?, ?, ?, ?, ?, ?)\n",
    "        \"\"\"\n",
    "        cur.execute(sql, [review_id, user_id, recipe_id, date, rating, review])\n",
    "        con.commit()\n",
    "        return 0\n",
    "    except sqlite3.IntegrityError:\n",
    "        return 1\n",
    "    else:\n",
    "        return 2"
   ]
  },
  {
   "cell_type": "code",
   "execution_count": 16,
   "id": "b39cf84c",
   "metadata": {},
   "outputs": [
    {
     "data": {
      "text/plain": [
       "0"
      ]
     },
     "execution_count": 16,
     "metadata": {},
     "output_type": "execute_result"
    }
   ],
   "source": [
    "add_review(1, 111, 121, '15.03.2023', 5, 'Very nice!')"
   ]
  },
  {
   "cell_type": "code",
   "execution_count": 17,
   "id": "e4218236",
   "metadata": {},
   "outputs": [
    {
     "data": {
      "text/plain": [
       "1"
      ]
     },
     "execution_count": 17,
     "metadata": {},
     "output_type": "execute_result"
    }
   ],
   "source": [
    "add_review(1, 111, 121, '15.03.2023', 5, 'Very nice!')"
   ]
  },
  {
   "cell_type": "markdown",
   "id": "056d25ba",
   "metadata": {},
   "source": [
    "<p class=\"task\" id=\"3\"></p>\n",
    "\n",
    "3\\. _Измените_ таблицу Review, добавив в нее поле `toxic` булева типа. "
   ]
  },
  {
   "cell_type": "code",
   "execution_count": 19,
   "id": "98ba15be",
   "metadata": {},
   "outputs": [],
   "source": [
    "sql = \"\"\"\n",
    "ALTER TABLE Review\n",
    "    ADD COLUMN toxic bool\n",
    "\"\"\"\n",
    "cur.execute(sql)\n",
    "con.commit()"
   ]
  },
  {
   "cell_type": "markdown",
   "id": "0d12bb7c",
   "metadata": {},
   "source": [
    "<p class=\"task\" id=\"4\"></p>\n",
    "\n",
    "4\\. Вам дан классификатор `clf`, который классифицирует тексты отзывов как токсичные (`True`) и не токсичные (`False`).\n",
    "Напишите функцию `classify_reviews`, которая итеративно получает пакет (батч) `batch_size` строк из таблицы Reviews, у которых не проставлено значение в столбце `toxic`, делает для них прогноз при помощи модели `clf` и обновляет соответствующие строки в БД. Данная процедура выполняется до тех пор, пока в БД есть строки, для которых требуется получить прогноз.\n",
    "\n",
    "Продемонстрируйте результат, выведя на экран количество токсичных и не токсичных отзывов в таблице."
   ]
  },
  {
   "cell_type": "code",
   "execution_count": 4,
   "id": "e3192f36",
   "metadata": {},
   "outputs": [],
   "source": [
    "from sklearn.dummy import DummyClassifier\n",
    "\n",
    "clf = DummyClassifier(strategy=\"uniform\").fit(None, [True, False])"
   ]
  },
  {
   "cell_type": "code",
   "execution_count": 5,
   "id": "db6dc264",
   "metadata": {},
   "outputs": [],
   "source": [
    "def classify_reviews(batch_size=10000):\n",
    "    df = pd.read_sql_query(\"\"\"\n",
    "        SELECT id, toxic \n",
    "        FROM Review\n",
    "        WHERE toxic IS NULL\n",
    "        LIMIT ?\n",
    "        \"\"\", con, params=[batch_size])\n",
    "    while df.size > 0:\n",
    "        df['toxic'] = clf.predict(df['toxic'])\n",
    "        zp_list = list(zip(df['toxic'], df['id']))\n",
    "        for i in zp_list:\n",
    "            cur.execute(\"\"\"\n",
    "                UPDATE Review SET toxic = ? WHERE id = ?\n",
    "            \"\"\", i)\n",
    "        df = pd.read_sql_query(\"\"\"\n",
    "            SELECT id, toxic \n",
    "            FROM Review\n",
    "            WHERE toxic IS NULL\n",
    "            LIMIT ?\n",
    "            \"\"\", con, params=[batch_size])\n",
    "        con.commit()\n",
    "\n",
    "classify_reviews()"
   ]
  },
  {
   "cell_type": "code",
   "execution_count": 6,
   "id": "6b8dea2d",
   "metadata": {},
   "outputs": [
    {
     "data": {
      "text/html": [
       "<div>\n",
       "<style scoped>\n",
       "    .dataframe tbody tr th:only-of-type {\n",
       "        vertical-align: middle;\n",
       "    }\n",
       "\n",
       "    .dataframe tbody tr th {\n",
       "        vertical-align: top;\n",
       "    }\n",
       "\n",
       "    .dataframe thead th {\n",
       "        text-align: right;\n",
       "    }\n",
       "</style>\n",
       "<table border=\"1\" class=\"dataframe\">\n",
       "  <thead>\n",
       "    <tr style=\"text-align: right;\">\n",
       "      <th></th>\n",
       "      <th>Count of reviews</th>\n",
       "      <th>toxic</th>\n",
       "    </tr>\n",
       "  </thead>\n",
       "  <tbody>\n",
       "    <tr>\n",
       "      <th>0</th>\n",
       "      <td>63244</td>\n",
       "      <td>0</td>\n",
       "    </tr>\n",
       "    <tr>\n",
       "      <th>1</th>\n",
       "      <td>63436</td>\n",
       "      <td>1</td>\n",
       "    </tr>\n",
       "  </tbody>\n",
       "</table>\n",
       "</div>"
      ],
      "text/plain": [
       "   Count of reviews  toxic\n",
       "0             63244      0\n",
       "1             63436      1"
      ]
     },
     "execution_count": 6,
     "metadata": {},
     "output_type": "execute_result"
    }
   ],
   "source": [
    "pd.read_sql_query(\"\"\"\n",
    "    SELECT COUNT(review) as \"Count of reviews\", toxic FROM Review GROUP BY toxic\n",
    "\"\"\", con)"
   ]
  },
  {
   "cell_type": "markdown",
   "id": "260ac2f2",
   "metadata": {},
   "source": [
    "<p class=\"task\" id=\"5\"></p>\n",
    "\n",
    "5\\. Создайте представление `RecipeWithYear`, в котором добавлен дополнительный столбец `year`, содержащий год даты из столбца `submitted`. Сделайте выборку из этого представления и выведите на экран количество рецептов с разбивкой по годам."
   ]
  },
  {
   "cell_type": "code",
   "execution_count": 8,
   "id": "67455092",
   "metadata": {},
   "outputs": [],
   "source": [
    "sql = \"\"\"\n",
    "    CREATE VIEW RecipeWithYear AS\n",
    "        SELECT *, strftime('%Y', submitted) as year\n",
    "        FROM Recipe\n",
    "\"\"\""
   ]
  },
  {
   "cell_type": "code",
   "execution_count": 9,
   "id": "5d3d30e4",
   "metadata": {},
   "outputs": [],
   "source": [
    "cur.execute(sql)\n",
    "con.commit()"
   ]
  },
  {
   "cell_type": "code",
   "execution_count": 19,
   "id": "0a9d1a4f",
   "metadata": {},
   "outputs": [
    {
     "data": {
      "text/html": [
       "<div>\n",
       "<style scoped>\n",
       "    .dataframe tbody tr th:only-of-type {\n",
       "        vertical-align: middle;\n",
       "    }\n",
       "\n",
       "    .dataframe tbody tr th {\n",
       "        vertical-align: top;\n",
       "    }\n",
       "\n",
       "    .dataframe thead th {\n",
       "        text-align: right;\n",
       "    }\n",
       "</style>\n",
       "<table border=\"1\" class=\"dataframe\">\n",
       "  <thead>\n",
       "    <tr style=\"text-align: right;\">\n",
       "      <th></th>\n",
       "      <th>count(id)</th>\n",
       "      <th>year</th>\n",
       "    </tr>\n",
       "  </thead>\n",
       "  <tbody>\n",
       "    <tr>\n",
       "      <th>0</th>\n",
       "      <td>275</td>\n",
       "      <td>1999</td>\n",
       "    </tr>\n",
       "    <tr>\n",
       "      <th>1</th>\n",
       "      <td>104</td>\n",
       "      <td>2000</td>\n",
       "    </tr>\n",
       "    <tr>\n",
       "      <th>2</th>\n",
       "      <td>589</td>\n",
       "      <td>2001</td>\n",
       "    </tr>\n",
       "    <tr>\n",
       "      <th>3</th>\n",
       "      <td>2644</td>\n",
       "      <td>2002</td>\n",
       "    </tr>\n",
       "    <tr>\n",
       "      <th>4</th>\n",
       "      <td>2334</td>\n",
       "      <td>2003</td>\n",
       "    </tr>\n",
       "    <tr>\n",
       "      <th>5</th>\n",
       "      <td>2153</td>\n",
       "      <td>2004</td>\n",
       "    </tr>\n",
       "    <tr>\n",
       "      <th>6</th>\n",
       "      <td>3130</td>\n",
       "      <td>2005</td>\n",
       "    </tr>\n",
       "    <tr>\n",
       "      <th>7</th>\n",
       "      <td>3473</td>\n",
       "      <td>2006</td>\n",
       "    </tr>\n",
       "    <tr>\n",
       "      <th>8</th>\n",
       "      <td>4429</td>\n",
       "      <td>2007</td>\n",
       "    </tr>\n",
       "    <tr>\n",
       "      <th>9</th>\n",
       "      <td>4029</td>\n",
       "      <td>2008</td>\n",
       "    </tr>\n",
       "    <tr>\n",
       "      <th>10</th>\n",
       "      <td>2963</td>\n",
       "      <td>2009</td>\n",
       "    </tr>\n",
       "    <tr>\n",
       "      <th>11</th>\n",
       "      <td>1538</td>\n",
       "      <td>2010</td>\n",
       "    </tr>\n",
       "    <tr>\n",
       "      <th>12</th>\n",
       "      <td>922</td>\n",
       "      <td>2011</td>\n",
       "    </tr>\n",
       "    <tr>\n",
       "      <th>13</th>\n",
       "      <td>659</td>\n",
       "      <td>2012</td>\n",
       "    </tr>\n",
       "    <tr>\n",
       "      <th>14</th>\n",
       "      <td>490</td>\n",
       "      <td>2013</td>\n",
       "    </tr>\n",
       "    <tr>\n",
       "      <th>15</th>\n",
       "      <td>139</td>\n",
       "      <td>2014</td>\n",
       "    </tr>\n",
       "    <tr>\n",
       "      <th>16</th>\n",
       "      <td>42</td>\n",
       "      <td>2015</td>\n",
       "    </tr>\n",
       "    <tr>\n",
       "      <th>17</th>\n",
       "      <td>24</td>\n",
       "      <td>2016</td>\n",
       "    </tr>\n",
       "    <tr>\n",
       "      <th>18</th>\n",
       "      <td>39</td>\n",
       "      <td>2017</td>\n",
       "    </tr>\n",
       "    <tr>\n",
       "      <th>19</th>\n",
       "      <td>24</td>\n",
       "      <td>2018</td>\n",
       "    </tr>\n",
       "  </tbody>\n",
       "</table>\n",
       "</div>"
      ],
      "text/plain": [
       "    count(id)  year\n",
       "0         275  1999\n",
       "1         104  2000\n",
       "2         589  2001\n",
       "3        2644  2002\n",
       "4        2334  2003\n",
       "5        2153  2004\n",
       "6        3130  2005\n",
       "7        3473  2006\n",
       "8        4429  2007\n",
       "9        4029  2008\n",
       "10       2963  2009\n",
       "11       1538  2010\n",
       "12        922  2011\n",
       "13        659  2012\n",
       "14        490  2013\n",
       "15        139  2014\n",
       "16         42  2015\n",
       "17         24  2016\n",
       "18         39  2017\n",
       "19         24  2018"
      ]
     },
     "execution_count": 19,
     "metadata": {},
     "output_type": "execute_result"
    }
   ],
   "source": [
    "pd.read_sql_query(\"\"\"\n",
    "    SELECT count(id), year\n",
    "    FROM RecipeWithYear\n",
    "    GROUP BY year\n",
    "\"\"\", con)"
   ]
  },
  {
   "cell_type": "markdown",
   "id": "7f31d833",
   "metadata": {},
   "source": [
    "<p class=\"task\" id=\"6\"></p>\n",
    "\n",
    "6\\. Напишите запрос на языке SQL, который возвращает все строки из таблицы `Recipe` с дополнительным столбцом, содержащем номер рецепта. Рецепты нумеруются целыми числами, начиная с 1, в __рамках каждого года__ в порядке их добавления в БД (столбец `submitted`). Получите результат в виде `pd.DataFrame`. Посчитайте и выведите на экран количество строк полученного `pd.DataFrame`, для которых сгенерированный номер кратен 50."
   ]
  },
  {
   "cell_type": "code",
   "execution_count": 27,
   "id": "528e25c6",
   "metadata": {},
   "outputs": [
    {
     "data": {
      "text/html": [
       "<div>\n",
       "<style scoped>\n",
       "    .dataframe tbody tr th:only-of-type {\n",
       "        vertical-align: middle;\n",
       "    }\n",
       "\n",
       "    .dataframe tbody tr th {\n",
       "        vertical-align: top;\n",
       "    }\n",
       "\n",
       "    .dataframe thead th {\n",
       "        text-align: right;\n",
       "    }\n",
       "</style>\n",
       "<table border=\"1\" class=\"dataframe\">\n",
       "  <thead>\n",
       "    <tr style=\"text-align: right;\">\n",
       "      <th></th>\n",
       "      <th>id</th>\n",
       "      <th>name</th>\n",
       "      <th>minutes</th>\n",
       "      <th>submitted</th>\n",
       "      <th>description</th>\n",
       "      <th>n_ingredients</th>\n",
       "      <th>number</th>\n",
       "    </tr>\n",
       "  </thead>\n",
       "  <tbody>\n",
       "    <tr>\n",
       "      <th>0</th>\n",
       "      <td>203</td>\n",
       "      <td>chinese plum sauce</td>\n",
       "      <td>115</td>\n",
       "      <td>1999-08-06</td>\n",
       "      <td>chinese plum sauce  serve this with egg rolls ...</td>\n",
       "      <td>12.0</td>\n",
       "      <td>1</td>\n",
       "    </tr>\n",
       "    <tr>\n",
       "      <th>1</th>\n",
       "      <td>653</td>\n",
       "      <td>b c  cherry and raspberry preserves</td>\n",
       "      <td>215</td>\n",
       "      <td>1999-08-09</td>\n",
       "      <td>None</td>\n",
       "      <td>4.0</td>\n",
       "      <td>2</td>\n",
       "    </tr>\n",
       "    <tr>\n",
       "      <th>2</th>\n",
       "      <td>360</td>\n",
       "      <td>baked zucchini frittatas</td>\n",
       "      <td>67</td>\n",
       "      <td>1999-08-09</td>\n",
       "      <td>None</td>\n",
       "      <td>NaN</td>\n",
       "      <td>3</td>\n",
       "    </tr>\n",
       "    <tr>\n",
       "      <th>3</th>\n",
       "      <td>658</td>\n",
       "      <td>dried fruit roll ups</td>\n",
       "      <td>1495</td>\n",
       "      <td>1999-08-09</td>\n",
       "      <td>fruit roll-ups</td>\n",
       "      <td>4.0</td>\n",
       "      <td>4</td>\n",
       "    </tr>\n",
       "    <tr>\n",
       "      <th>4</th>\n",
       "      <td>1144</td>\n",
       "      <td>steak   tomato basil pasta</td>\n",
       "      <td>0</td>\n",
       "      <td>1999-08-09</td>\n",
       "      <td>None</td>\n",
       "      <td>11.0</td>\n",
       "      <td>5</td>\n",
       "    </tr>\n",
       "    <tr>\n",
       "      <th>...</th>\n",
       "      <td>...</td>\n",
       "      <td>...</td>\n",
       "      <td>...</td>\n",
       "      <td>...</td>\n",
       "      <td>...</td>\n",
       "      <td>...</td>\n",
       "      <td>...</td>\n",
       "    </tr>\n",
       "    <tr>\n",
       "      <th>29995</th>\n",
       "      <td>536547</td>\n",
       "      <td>cauliflower ceviche</td>\n",
       "      <td>45</td>\n",
       "      <td>2018-07-30</td>\n",
       "      <td>a healthy ceviche - a perfect appetizer for pa...</td>\n",
       "      <td>8.0</td>\n",
       "      <td>20</td>\n",
       "    </tr>\n",
       "    <tr>\n",
       "      <th>29996</th>\n",
       "      <td>536610</td>\n",
       "      <td>miracle home made puff pastry</td>\n",
       "      <td>35</td>\n",
       "      <td>2018-07-31</td>\n",
       "      <td>puff pastry that you can make in minutes? at h...</td>\n",
       "      <td>NaN</td>\n",
       "      <td>21</td>\n",
       "    </tr>\n",
       "    <tr>\n",
       "      <th>29997</th>\n",
       "      <td>536729</td>\n",
       "      <td>creole watermelon feta salad</td>\n",
       "      <td>10</td>\n",
       "      <td>2018-08-11</td>\n",
       "      <td>spicy watermelon salad. from tony chachere's s...</td>\n",
       "      <td>NaN</td>\n",
       "      <td>22</td>\n",
       "    </tr>\n",
       "    <tr>\n",
       "      <th>29998</th>\n",
       "      <td>536728</td>\n",
       "      <td>gluten free  vegemite</td>\n",
       "      <td>2</td>\n",
       "      <td>2018-08-11</td>\n",
       "      <td>gluten free vegemite-like stuff.</td>\n",
       "      <td>3.0</td>\n",
       "      <td>23</td>\n",
       "    </tr>\n",
       "    <tr>\n",
       "      <th>29999</th>\n",
       "      <td>536747</td>\n",
       "      <td>lemon pom pom cake</td>\n",
       "      <td>210</td>\n",
       "      <td>2018-08-15</td>\n",
       "      <td>by far one of my most joyous cake creations, t...</td>\n",
       "      <td>20.0</td>\n",
       "      <td>24</td>\n",
       "    </tr>\n",
       "  </tbody>\n",
       "</table>\n",
       "<p>30000 rows × 7 columns</p>\n",
       "</div>"
      ],
      "text/plain": [
       "           id                                 name  minutes   submitted  \\\n",
       "0         203                   chinese plum sauce      115  1999-08-06   \n",
       "1         653  b c  cherry and raspberry preserves      215  1999-08-09   \n",
       "2         360             baked zucchini frittatas       67  1999-08-09   \n",
       "3         658                 dried fruit roll ups     1495  1999-08-09   \n",
       "4        1144           steak   tomato basil pasta        0  1999-08-09   \n",
       "...       ...                                  ...      ...         ...   \n",
       "29995  536547                  cauliflower ceviche       45  2018-07-30   \n",
       "29996  536610        miracle home made puff pastry       35  2018-07-31   \n",
       "29997  536729         creole watermelon feta salad       10  2018-08-11   \n",
       "29998  536728                gluten free  vegemite        2  2018-08-11   \n",
       "29999  536747                   lemon pom pom cake      210  2018-08-15   \n",
       "\n",
       "                                             description  n_ingredients  \\\n",
       "0      chinese plum sauce  serve this with egg rolls ...           12.0   \n",
       "1                                                   None            4.0   \n",
       "2                                                   None            NaN   \n",
       "3                                         fruit roll-ups            4.0   \n",
       "4                                                   None           11.0   \n",
       "...                                                  ...            ...   \n",
       "29995  a healthy ceviche - a perfect appetizer for pa...            8.0   \n",
       "29996  puff pastry that you can make in minutes? at h...            NaN   \n",
       "29997  spicy watermelon salad. from tony chachere's s...            NaN   \n",
       "29998                   gluten free vegemite-like stuff.            3.0   \n",
       "29999  by far one of my most joyous cake creations, t...           20.0   \n",
       "\n",
       "       number  \n",
       "0           1  \n",
       "1           2  \n",
       "2           3  \n",
       "3           4  \n",
       "4           5  \n",
       "...       ...  \n",
       "29995      20  \n",
       "29996      21  \n",
       "29997      22  \n",
       "29998      23  \n",
       "29999      24  \n",
       "\n",
       "[30000 rows x 7 columns]"
      ]
     },
     "execution_count": 27,
     "metadata": {},
     "output_type": "execute_result"
    }
   ],
   "source": [
    "pd.read_sql_query(\"\"\"\n",
    "    WITH RecipeCTE AS (\n",
    "        SELECT *,\n",
    "            ROW_NUMBER() OVER(PARTITION BY strftime('%Y', submitted) ORDER BY submitted) as number\n",
    "    FROM Recipe\n",
    "    )\n",
    "    SELECT *\n",
    "    FROM (RecipeCTE)\n",
    "\"\"\", con)"
   ]
  },
  {
   "cell_type": "markdown",
   "id": "e76fde29",
   "metadata": {},
   "source": [
    "<p class=\"task\" id=\"7\"></p>\n",
    "\n",
    "7\\. Используя обобщенное табличное выражение и решение задачи 6, напишите запрос на языке SQL, который вернет количество строк, для которых сгенерированный номер кратен 50. Выполните запрос и выведите количество таких строк на экран."
   ]
  },
  {
   "cell_type": "code",
   "execution_count": 29,
   "id": "c98a575e",
   "metadata": {},
   "outputs": [
    {
     "data": {
      "text/html": [
       "<div>\n",
       "<style scoped>\n",
       "    .dataframe tbody tr th:only-of-type {\n",
       "        vertical-align: middle;\n",
       "    }\n",
       "\n",
       "    .dataframe tbody tr th {\n",
       "        vertical-align: top;\n",
       "    }\n",
       "\n",
       "    .dataframe thead th {\n",
       "        text-align: right;\n",
       "    }\n",
       "</style>\n",
       "<table border=\"1\" class=\"dataframe\">\n",
       "  <thead>\n",
       "    <tr style=\"text-align: right;\">\n",
       "      <th></th>\n",
       "      <th>count(number)</th>\n",
       "    </tr>\n",
       "  </thead>\n",
       "  <tbody>\n",
       "    <tr>\n",
       "      <th>0</th>\n",
       "      <td>589</td>\n",
       "    </tr>\n",
       "  </tbody>\n",
       "</table>\n",
       "</div>"
      ],
      "text/plain": [
       "   count(number)\n",
       "0            589"
      ]
     },
     "execution_count": 29,
     "metadata": {},
     "output_type": "execute_result"
    }
   ],
   "source": [
    "pd.read_sql_query(\"\"\"\n",
    "    WITH RecipeCTE AS (\n",
    "        SELECT *,\n",
    "            ROW_NUMBER() OVER(PARTITION BY strftime('%Y', submitted) ORDER BY submitted) as number\n",
    "    FROM Recipe\n",
    "    )\n",
    "    SELECT count(number)\n",
    "    FROM (RecipeCTE)\n",
    "    WHERE (number % 50)=0\n",
    "\"\"\", con)"
   ]
  },
  {
   "cell_type": "code",
   "execution_count": 33,
   "id": "889ba5fc",
   "metadata": {},
   "outputs": [],
   "source": [
    "cur.close()\n",
    "con.close()"
   ]
  },
  {
   "cell_type": "code",
   "execution_count": null,
   "id": "5d1d7772",
   "metadata": {},
   "outputs": [],
   "source": []
  }
 ],
 "metadata": {
  "kernelspec": {
   "display_name": "Python 3 (ipykernel)",
   "language": "python",
   "name": "python3"
  },
  "language_info": {
   "codemirror_mode": {
    "name": "ipython",
    "version": 3
   },
   "file_extension": ".py",
   "mimetype": "text/x-python",
   "name": "python",
   "nbconvert_exporter": "python",
   "pygments_lexer": "ipython3",
   "version": "3.9.12"
  }
 },
 "nbformat": 4,
 "nbformat_minor": 5
}
