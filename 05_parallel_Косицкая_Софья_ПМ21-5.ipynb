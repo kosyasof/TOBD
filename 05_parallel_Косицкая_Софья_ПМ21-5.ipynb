{
 "cells": [
  {
   "cell_type": "markdown",
   "metadata": {},
   "source": [
    "# Параллельные вычисления (1)"
   ]
  },
  {
   "cell_type": "markdown",
   "metadata": {},
   "source": [
    "__Автор задач: Блохин Н.В. (NVBlokhin@fa.ru)__\n",
    "\n",
    "Материалы:\n",
    "* Макрушин С.В. Лекция \"Параллельные вычисления\"\n",
    "* https://docs.python.org/3/library/multiprocessing.html\n",
    "    * https://docs.python.org/3/library/multiprocessing.html#multiprocessing.Process\n",
    "    * https://docs.python.org/3/library/multiprocessing.html#multiprocessing.pool.Pool\n",
    "    * https://docs.python.org/3/library/multiprocessing.html#multiprocessing.Queue\n",
    "* https://pandas.pydata.org/docs/reference/api/pandas.read_csv.html\n",
    "* https://numpy.org/doc/stable/reference/generated/numpy.array_split.html"
   ]
  },
  {
   "cell_type": "markdown",
   "metadata": {},
   "source": [
    "## Задачи для совместного разбора"
   ]
  },
  {
   "cell_type": "markdown",
   "metadata": {},
   "source": [
    "1. Посчитайте, сколько раз встречается буква \"a\" в файлах [\"xaa\", \"xab\", \"xac\", \"xad\"], используя пул процессов."
   ]
  },
  {
   "cell_type": "code",
   "execution_count": 20,
   "metadata": {},
   "outputs": [],
   "source": [
    "import multiprocessing\n",
    "\n",
    "files = [f\"{name}.txt\" for name in [\"xaa\", \"xab\", \"xac\", \"xad\"]]"
   ]
  },
  {
   "cell_type": "code",
   "execution_count": 31,
   "metadata": {},
   "outputs": [
    {
     "name": "stdout",
     "output_type": "stream",
     "text": [
      "Overwriting f_queue.py\n"
     ]
    }
   ],
   "source": [
    "%%file f_queue.py\n",
    "def count_a_queue(file_name, queue):\n",
    "    with open(file_name, 'r') as fp:\n",
    "        text = fp.read()\n",
    "    a = text.count('a')\n",
    "    print(f'{file_name} => {a}')\n",
    "    queue.put(a)"
   ]
  },
  {
   "cell_type": "code",
   "execution_count": 22,
   "metadata": {},
   "outputs": [
    {
     "name": "stdout",
     "output_type": "stream",
     "text": [
      "xaa.txt => 2525754\n",
      "xab.txt => 2530031\n",
      "xac.txt => 2525324\n",
      "xad.txt => 1417163\n",
      "CPU times: total: 1.47 s\n",
      "Wall time: 1.71 s\n"
     ]
    },
    {
     "data": {
      "text/plain": [
       "8998272"
      ]
     },
     "execution_count": 22,
     "metadata": {},
     "output_type": "execute_result"
    }
   ],
   "source": [
    "%%time\n",
    "a = []\n",
    "for file in files:\n",
    "    a.append(count_a(file))\n",
    "sum(a)"
   ]
  },
  {
   "cell_type": "code",
   "execution_count": 32,
   "metadata": {},
   "outputs": [],
   "source": [
    "from f_queue import count_a_queue"
   ]
  },
  {
   "cell_type": "code",
   "execution_count": 24,
   "metadata": {},
   "outputs": [
    {
     "name": "stdout",
     "output_type": "stream",
     "text": [
      "CPU times: total: 15.6 ms\n",
      "Wall time: 356 ms\n"
     ]
    },
    {
     "data": {
      "text/plain": [
       "8998272"
      ]
     },
     "execution_count": 24,
     "metadata": {},
     "output_type": "execute_result"
    }
   ],
   "source": [
    "%%time\n",
    "with multiprocessing.Pool(processes=4) as pool:\n",
    "    r = pool.map(count_a, files)\n",
    "sum(r)"
   ]
  },
  {
   "cell_type": "code",
   "execution_count": 25,
   "metadata": {},
   "outputs": [
    {
     "data": {
      "text/plain": [
       "[2525754, 2530031, 2525324, 1417163]"
      ]
     },
     "execution_count": 25,
     "metadata": {},
     "output_type": "execute_result"
    }
   ],
   "source": [
    "r"
   ]
  },
  {
   "cell_type": "markdown",
   "metadata": {},
   "source": [
    "2. Посчитайте, сколько раз встречается буква \"a\" в файлах [\"xaa\", \"xab\", \"xac\", \"xad\"], используя процессы и очереди."
   ]
  },
  {
   "cell_type": "code",
   "execution_count": 33,
   "metadata": {},
   "outputs": [
    {
     "name": "stdout",
     "output_type": "stream",
     "text": [
      "CPU times: total: 0 ns\n",
      "Wall time: 352 ms\n"
     ]
    },
    {
     "data": {
      "text/plain": [
       "8998272"
      ]
     },
     "execution_count": 33,
     "metadata": {},
     "output_type": "execute_result"
    }
   ],
   "source": [
    "%%time\n",
    "# 0) хранилище\n",
    "queue = multiprocessing.Queue()\n",
    "# 1) создать процесс\n",
    "\n",
    "processes = []\n",
    "for file in files:\n",
    "    p = multiprocessing.Process(target=count_a_queue, args=(file, queue))\n",
    "    p.start()\n",
    "    processes.append(p)\n",
    "    \n",
    "# 2) ждем завершения процессов\n",
    "for p in processes:\n",
    "    p.join()\n",
    "# мы уверены, что все процессы завершились\n",
    "\n",
    "# 3) забираем значения\n",
    "res = []\n",
    "while len(res) < len(files):\n",
    "    if not queue.empty():\n",
    "        r = queue.get()\n",
    "        res.append(r)\n",
    "sum(res)\n",
    "\n",
    "# 2(4)) ждем завершения процессов\n",
    "# for p in processes:\n",
    "#     p.join()"
   ]
  },
  {
   "cell_type": "markdown",
   "metadata": {},
   "source": [
    "## Лабораторная работа 5"
   ]
  },
  {
   "cell_type": "markdown",
   "metadata": {},
   "source": [
    "__При решении данных задач не подразумевается использования циклов или генераторов Python в ходе работы с пакетами `numpy` и `pandas`, если в задании не сказано обратного. Решения задач, в которых для обработки массивов `numpy` или структур `pandas` используются явные циклы (без согласования с преподавателем), могут быть признаны некорректными и не засчитаны.__"
   ]
  },
  {
   "cell_type": "code",
   "execution_count": 1,
   "metadata": {},
   "outputs": [],
   "source": [
    "import multiprocessing\n",
    "import pandas as pd"
   ]
  },
  {
   "cell_type": "markdown",
   "metadata": {},
   "source": [
    "<p class=\"task\" id=\"1\"></p>\n",
    "\n",
    "1\\. В каждой строке файла `tag_nsteps.csv` хранится информация о тэге рецепта и количестве шагов в этом рецепте в следующем виде:\n",
    "\n",
    "```\n",
    "tags,n_steps\n",
    "hungarian,2\n",
    "european,6\n",
    "occasion,4\n",
    "pumpkin,4\n",
    "................\n",
    "```\n",
    "\n",
    "Всего в исходном файле хранится чуть меньше, чем 71 млн, строк. Разбейте файл `tag_nsteps.csv` на несколько (например, 8) примерно одинаковых по объему файлов c названиями `tag_nsteps_*.csv`, где вместо символа `*` указан номер очередного файла. Каждый файл имеет структуру, аналогичную оригинальному файлу (включая заголовок). \n",
    "\n",
    "При создании файлов выводите на экран сообщения следующего вида:\n",
    "`file: <название файла> #rows: <кол-во строк в этом файле>`\n",
    "\n",
    "__Важно__: здесь и далее вы не можете загружать в память весь исходный файл сразу. "
   ]
  },
  {
   "cell_type": "code",
   "execution_count": 6,
   "metadata": {},
   "outputs": [
    {
     "name": "stdout",
     "output_type": "stream",
     "text": [
      "file: tag_nsteps_0.csv #rows: 8000000\n",
      "file: tag_nsteps_1.csv #rows: 8000000\n",
      "file: tag_nsteps_2.csv #rows: 8000000\n",
      "file: tag_nsteps_3.csv #rows: 8000000\n",
      "file: tag_nsteps_4.csv #rows: 8000000\n",
      "file: tag_nsteps_5.csv #rows: 8000000\n",
      "file: tag_nsteps_6.csv #rows: 8000000\n",
      "file: tag_nsteps_7.csv #rows: 8000000\n",
      "file: tag_nsteps_8.csv #rows: 6695585\n"
     ]
    }
   ],
   "source": [
    "for i,chunk in enumerate(pd.read_csv('tag_nsteps.csv', chunksize=8_000_000)):\n",
    "    chunk.to_csv(f'tag_nsteps_{i}.csv', index=False)\n",
    "    print(f'file: tag_nsteps_{i}.csv #rows: {chunk.shape[0]}')"
   ]
  },
  {
   "cell_type": "markdown",
   "metadata": {},
   "source": [
    "<p class=\"task\" id=\"2\"></p>\n",
    "\n",
    "2\\. Напишите функцию, которая принимает на вход название файла, созданного в результате решения задачи 1, считает для каждого тэга сумму по столбцу `n_steps` и количество строк c этим тэгом, и возвращает результат в виде словаря. Ожидаемый вид итогового словаря:\n",
    "\n",
    "```\n",
    "{\n",
    "    '1-day-or-more': {'sum': 56616, 'count': 12752},\n",
    "    '15-minutes-or-less': {'sum': 195413, 'count': 38898},\n",
    "    '3-steps-or-less': {'sum': 187938, 'count': 39711},\n",
    "    ....\n",
    "}\n",
    "```\n",
    "\n",
    "Примените данную функцию к каждому файлу, полученному в задании 1, и соберите результат в виде списка словарей. Не используйте параллельных вычислений. \n",
    "\n",
    "Выведите на экран значение по ключу \"30-minutes-or-less\" для каждого из словарей."
   ]
  },
  {
   "cell_type": "code",
   "execution_count": 2,
   "metadata": {},
   "outputs": [],
   "source": [
    "def get_tag_sum_count_from_file(file: str) -> dict:\n",
    "    df = pd.read_csv(file)\n",
    "    dic = df.groupby('tags').agg(\n",
    "        sum=('n_steps', 'sum'), count=('n_steps', 'count')\n",
    "    ).to_dict('index')\n",
    "    return dic    "
   ]
  },
  {
   "cell_type": "code",
   "execution_count": 3,
   "metadata": {},
   "outputs": [],
   "source": [
    "lst = []\n",
    "for i in range(9):\n",
    "    lst.append(get_tag_sum_count_from_file(f'tag_nsteps_{i}.csv'))"
   ]
  },
  {
   "cell_type": "code",
   "execution_count": 4,
   "metadata": {},
   "outputs": [
    {
     "name": "stdout",
     "output_type": "stream",
     "text": [
      "{'sum': 314736, 'count': 41099}\n",
      "{'sum': 314582, 'count': 41361}\n",
      "{'sum': 319951, 'count': 41923}\n",
      "{'sum': 311806, 'count': 41069}\n",
      "{'sum': 313895, 'count': 41095}\n",
      "{'sum': 315528, 'count': 41448}\n",
      "{'sum': 315000, 'count': 41544}\n",
      "{'sum': 313347, 'count': 41346}\n",
      "{'sum': 264360, 'count': 34897}\n"
     ]
    }
   ],
   "source": [
    "for i in range(9):\n",
    "    print(lst[i]['30-minutes-or-less'])"
   ]
  },
  {
   "cell_type": "markdown",
   "metadata": {},
   "source": [
    "<p class=\"task\" id=\"3\"></p>\n",
    "\n",
    "3\\. Напишите функцию, которая объединяет результаты обработки отдельных файлов. Данная функция принимает на вход список словарей, каждый из которых является результатом вызова функции `get_tag_sum_count_from_file` для конкретного файла, и агрегирует эти словари. Не используйте параллельных вычислений.\n",
    "\n",
    "Процедура агрегации словарей имеет следующий вид:\n",
    "$$d_{agg}[k] = \\{sum: \\sum_{i=1}^{n}d_{i}[k][sum], count: \\sum_{i=1}^{n}d_{i}[k][count]\\}$$\n",
    "где $d_1, d_2, ..., d_n$- результат вызова функции `get_tag_sum_count_from_file` для конкретных файлов.\n",
    "\n",
    "Примените данную функцию к результату выполнения задания 2. Выведите на экран результат для тэга \"30-minutes-or-less\"."
   ]
  },
  {
   "cell_type": "code",
   "execution_count": 5,
   "metadata": {},
   "outputs": [
    {
     "data": {
      "text/plain": [
       "{'sum': 2783205, 'count': 365782}"
      ]
     },
     "execution_count": 5,
     "metadata": {},
     "output_type": "execute_result"
    }
   ],
   "source": [
    "def agg_results(tag_sum_count_list: list) -> dict:\n",
    "    import copy\n",
    "    res = copy.deepcopy(tag_sum_count_list[0])\n",
    "    for dct in tag_sum_count_list[1:]:\n",
    "        for k, v in dct.items():\n",
    "            agg_dct = res.get(k, {'sum': 0, 'count': 0})\n",
    "            agg_dct['sum'] += v['sum']\n",
    "            agg_dct['count'] += v['count']\n",
    "            res[k] = agg_dct\n",
    "    return res\n",
    "\n",
    "agg = agg_results(lst)\n",
    "agg['30-minutes-or-less']"
   ]
  },
  {
   "cell_type": "markdown",
   "metadata": {},
   "source": [
    "<p class=\"task\" id=\"4\"></p>\n",
    "\n",
    "4\\. Напишите функцию, которая считает среднее значение количества шагов для каждого тэга в словаре. Используйте решения задач 1-3, чтобы получить среднее значение количества шагов каждого тэга для всего датасета, имея результаты обработки частей датасета и результат их агрегации. Выведите на экран результат для тэга \"30-minutes-or-less\".\n",
    "\n",
    "Определите, за какое время задача решается для всего датасета. При замере времени учитывайте время расчета статистики для каждого файла, агрегации результатов и, собственно, вычисления средного. Временем, затрачиваемым на процедуру разбиения исходного файла, можно пренебречь."
   ]
  },
  {
   "cell_type": "code",
   "execution_count": 6,
   "metadata": {},
   "outputs": [
    {
     "data": {
      "text/plain": [
       "7.608917333275011"
      ]
     },
     "execution_count": 6,
     "metadata": {},
     "output_type": "execute_result"
    }
   ],
   "source": [
    "def get_tag_mean_n_steps(tag_sum_count: dict) -> dict:\n",
    "    res = {}\n",
    "    for k, v in tag_sum_count.items():\n",
    "        res[k] = v['sum']/v['count']\n",
    "    return res\n",
    "get_tag_mean_n_steps(agg)['30-minutes-or-less']"
   ]
  },
  {
   "cell_type": "code",
   "execution_count": 7,
   "metadata": {},
   "outputs": [
    {
     "name": "stdout",
     "output_type": "stream",
     "text": [
      "CPU times: total: 14.4 s\n",
      "Wall time: 22.9 s\n"
     ]
    },
    {
     "data": {
      "text/plain": [
       "{'1-day-or-more': 4.4520971258275495,\n",
       " '15-minutes-or-less': 4.986317967093519,\n",
       " '3-steps-or-less': 4.721988429642155,\n",
       " '30-minutes-or-less': 7.608917333275011,\n",
       " '4-hours-or-less': 10.084881902287728,\n",
       " '5-ingredients-or-less': 5.330010645504694,\n",
       " '60-minutes-or-less': 9.41942843691575,\n",
       " 'Throw the ultimate fiesta with this sopaipillas recipe from Food.com.': 3.507963863489171,\n",
       " 'a1-sauce': 3.522007764229865,\n",
       " 'african': 4.353821369343757,\n",
       " 'american': 7.5697864618088895,\n",
       " 'amish-mennonite': 3.5625054532763283,\n",
       " 'angolan': 3.484635752747986,\n",
       " 'appetizers': 6.230973632213668,\n",
       " 'apples': 4.862489082969432,\n",
       " 'april-fools-day': 3.5105071292404766,\n",
       " 'argentine': 3.5745268882845886,\n",
       " 'artichoke': 3.497125083509479,\n",
       " 'asian': 6.454297045484734,\n",
       " 'asparagus': 4.07156120698355,\n",
       " 'australian': 4.218087196542041,\n",
       " 'austrian': 3.5707076272120237,\n",
       " 'avocado': 3.5277872223745543,\n",
       " 'bacon': 4.109118786153065,\n",
       " 'baja': 3.5381549163584167,\n",
       " 'baked-beans': 3.487642776033665,\n",
       " 'baking': 3.6360772170674402,\n",
       " 'bananas': 4.0123935779634445,\n",
       " 'bar-cookies': 4.84377838328792,\n",
       " 'barbecue': 4.62294179292705,\n",
       " 'bass': 3.538899430740038,\n",
       " 'bean-soup': 3.49700658440768,\n",
       " 'beans': 5.500825508578743,\n",
       " 'beans-side-dishes': 3.525208930473649,\n",
       " 'bear': 3.4956313743729446,\n",
       " 'beef': 6.946412491292454,\n",
       " 'beef-barley-soup': 3.505213070387542,\n",
       " 'beef-crock-pot': 3.4975971895403175,\n",
       " 'beef-kidney': 3.4865203125528534,\n",
       " 'beef-liver': 3.5545558554655825,\n",
       " 'beef-organ-meats': 3.5532030221573248,\n",
       " 'beef-ribs': 3.6114042405659865,\n",
       " 'beef-sauces': 3.508286566117152,\n",
       " 'beef-sausage': 3.663968393704507,\n",
       " 'beginner-cook': 6.332631933024368,\n",
       " 'beijing': 3.5076838578568683,\n",
       " 'belgian': 3.568385480771307,\n",
       " 'berries': 4.983805836559677,\n",
       " 'beverages': 3.9045575104776176,\n",
       " 'birthday': 3.630819592628516,\n",
       " 'biscotti': 3.7436879340559486,\n",
       " 'bisques-cream-soups': 4.1411251600512164,\n",
       " 'black-bean-soup': 3.5080833690033257,\n",
       " 'black-beans': 3.9448821314561675,\n",
       " 'blueberries': 3.965573486385369,\n",
       " 'bok-choys': 3.5456035132566446,\n",
       " 'brazilian': 3.590517747218162,\n",
       " 'bread-machine': 3.782614946955459,\n",
       " 'bread-pudding': 3.510952763796958,\n",
       " 'breads': 7.147996021513299,\n",
       " 'breakfast': 6.073433015403512,\n",
       " 'breakfast-casseroles': 3.516415921834231,\n",
       " 'breakfast-eggs': 3.5080392543427306,\n",
       " 'breakfast-potatoes': 3.4994850555364834,\n",
       " 'brewing': 3.5385180796910656,\n",
       " 'british-columbian': 3.721222291101088,\n",
       " 'broccoli': 4.104353164857799,\n",
       " 'broil': 4.0533602567050195,\n",
       " 'brown-bag': 4.355027864822772,\n",
       " 'brown-rice': 3.722344306714173,\n",
       " 'brownies': 3.995174077904171,\n",
       " 'brunch': 6.866379287002388,\n",
       " 'burgers': 3.5719873529124158,\n",
       " 'cabbage': 3.504887569410083,\n",
       " 'cajun': 3.906119510439165,\n",
       " 'cake-fillings-and-frostings': 3.927764815678955,\n",
       " 'cakes': 6.714671895387144,\n",
       " 'californian': 3.743581127201319,\n",
       " 'cambodian': 3.5174467991218683,\n",
       " 'camping': 3.920229212186173,\n",
       " 'canadian': 4.767793984652716,\n",
       " 'candy': 4.226094018912073,\n",
       " 'canning': 3.9463303799306955,\n",
       " 'cantonese': 3.5577143739794344,\n",
       " 'caribbean': 4.003931992577361,\n",
       " 'carrots': 4.3136501901140685,\n",
       " 'casseroles': 5.324818025112942,\n",
       " 'catfish': 3.559708096179687,\n",
       " 'cauliflower': 3.863472979027099,\n",
       " 'celebrity': 3.754331465172138,\n",
       " 'central-american': 4.072512244654163,\n",
       " 'chard': 3.5860049321824907,\n",
       " 'cheese': 6.509731866641643,\n",
       " 'cheesecake': 4.4482271246850615,\n",
       " 'cherries': 3.704017164050371,\n",
       " 'chick-peas-garbanzos': 3.8227637860254253,\n",
       " 'chicken': 7.331310055241728,\n",
       " 'chicken-breasts': 5.762516262340246,\n",
       " 'chicken-crock-pot': 3.502718459321368,\n",
       " 'chicken-livers': 3.5465505180780834,\n",
       " 'chicken-stew': 3.4757394741517142,\n",
       " 'chicken-stews': 3.5085177554772824,\n",
       " 'chicken-thighs-legs': 4.142549033505807,\n",
       " 'chilean': 3.5207295383493697,\n",
       " 'chili': 3.9507808045137605,\n",
       " 'chinese': 4.318860680616696,\n",
       " 'chinese-new-year': 3.499487224246656,\n",
       " 'chocolate': 6.210690271141641,\n",
       " 'chocolate-chip-cookies': 3.5171703221422073,\n",
       " 'chowders': 3.8426850687479863,\n",
       " 'christmas': 5.8912257690606555,\n",
       " 'chutneys': 3.554326736515328,\n",
       " 'cinco-de-mayo': 3.548610423201805,\n",
       " 'citrus': 4.542799996396169,\n",
       " 'clams': 3.6341547438340385,\n",
       " 'clear-soups': 3.7023029495800124,\n",
       " 'cobblers-and-crisps': 3.9075219798111362,\n",
       " 'cocktails': 3.6181399876117157,\n",
       " 'coconut': 4.099483178152714,\n",
       " 'cod': 3.6655162465674387,\n",
       " 'coffee-cakes': 4.045286125977769,\n",
       " 'collard-greens': 3.530015719640757,\n",
       " 'college': 3.5147765720980653,\n",
       " 'colombian': 3.5231149975251608,\n",
       " 'comfort-food': 7.521786753689966,\n",
       " 'condiments-etc': 4.775308379413016,\n",
       " 'congolese': 3.4987590544106912,\n",
       " 'cookies-and-brownies': 6.735882202001461,\n",
       " 'cooking-mixes': 3.6153709952922553,\n",
       " 'copycat': 4.252087039824826,\n",
       " 'corn': 4.076354728074473,\n",
       " 'costa-rican': 3.5159069299789074,\n",
       " 'course': 9.272336799506128,\n",
       " 'crab': 3.953235027361942,\n",
       " 'cranberry-sauce': 3.4954552491319637,\n",
       " 'crawfish': 3.52323252553575,\n",
       " 'creole': 3.8165290838687715,\n",
       " 'crock-pot-main-dish': 3.5232021407068794,\n",
       " 'crock-pot-slow-cooker': 4.705101016641844,\n",
       " 'crusts-pastry-dough-2': 3.6930140497744897,\n",
       " 'cuban': 3.5946751700865995,\n",
       " 'cuisine': 9.169212615711098,\n",
       " 'cupcakes': 3.94327753046168,\n",
       " 'curries': 4.063951396527442,\n",
       " 'czech': 3.5611709472521405,\n",
       " 'dairy-free': 3.5631701478833984,\n",
       " 'danish': 3.5798978038704066,\n",
       " 'deep-fry': 4.014801670146138,\n",
       " 'deer': 3.5925285406245555,\n",
       " 'dehydrator': 3.4939855477702118,\n",
       " 'desserts': 9.044093248680566,\n",
       " 'desserts-easy': 3.4990439979459613,\n",
       " 'desserts-fruit': 3.4970837170547733,\n",
       " 'diabetic': 4.869201686782027,\n",
       " 'dietary': 8.838556744100082,\n",
       " 'dinner-party': 8.230038745784602,\n",
       " 'dips': 4.0236840704667625,\n",
       " 'dips-lunch-snacks': 3.5025051707166006,\n",
       " 'dips-summer': 3.4807876080627596,\n",
       " 'drop-cookies': 4.389932197970641,\n",
       " 'duck': 3.600216766921368,\n",
       " 'duck-breasts': 3.543690581891418,\n",
       " 'dutch': 3.5921516313712414,\n",
       " 'easter': 4.4379346144052025,\n",
       " 'easy': 7.249547945490193,\n",
       " 'ecuadorean': 3.513938441731313,\n",
       " 'egg-free': 4.768300873069174,\n",
       " 'eggplant': 3.5617117957611213,\n",
       " 'eggs': 5.918590886614622,\n",
       " 'eggs-breakfast': 3.485668962819705,\n",
       " 'eggs-dairy': 7.616003056427634,\n",
       " 'egyptian': 3.576685003056065,\n",
       " 'elbow-macaroni': 4.058515212317268,\n",
       " 'elk': 3.4968440730151746,\n",
       " 'english': 4.172752723510437,\n",
       " 'equipment': 8.561879476441927,\n",
       " 'ethiopian': 3.5148704406667766,\n",
       " 'european': 8.03334733697428,\n",
       " 'fall': 5.580197592182691,\n",
       " 'fathers-day': 3.4936743583835326,\n",
       " 'filipino': 3.5699659819442626,\n",
       " 'fillings-and-frostings-chocolate': 3.5204009303355854,\n",
       " 'finger-food': 5.237909039810357,\n",
       " 'finnish': 3.5620684796392843,\n",
       " 'fish': 5.324741295253673,\n",
       " 'flat-shapes': 3.843073731930545,\n",
       " 'food-processor-blender': 4.461417212511821,\n",
       " 'for-1-or-2': 5.492962783953601,\n",
       " 'for-large-groups': 7.264299236021905,\n",
       " 'for-large-groups-holiday-event': 3.513608652682309,\n",
       " 'free-of-something': 5.7338877618196715,\n",
       " 'freezer': 4.0095341896448105,\n",
       " 'french': 4.472511723586589,\n",
       " 'freshwater-fish': 3.8394762572801087,\n",
       " 'from-scratch': 4.770875540971132,\n",
       " 'frozen-desserts': 4.037689705838847,\n",
       " 'fruit': 7.308434594691026,\n",
       " 'fudge': 3.724820507365846,\n",
       " 'garnishes': 3.617726578112143,\n",
       " 'gelatin': 3.7264129748697483,\n",
       " 'georgian': 3.4990437868252617,\n",
       " 'german': 4.0515665996263435,\n",
       " 'gifts': 5.59630129008066,\n",
       " 'gluten-free': 4.782367886178862,\n",
       " 'goose': 3.5161900102299515,\n",
       " 'grains': 5.208432703733557,\n",
       " 'granola-and-porridge': 3.7409745594414368,\n",
       " 'grapes': 3.560634165502793,\n",
       " 'greek': 4.344905228218989,\n",
       " 'green-yellow-beans': 3.870511908077276,\n",
       " 'greens': 4.658362446003108,\n",
       " 'grilling': 4.779501991160124,\n",
       " 'ground-beef': 5.50668868069421,\n",
       " 'guatemalan': 3.500197290543207,\n",
       " 'gumbo': 3.5975551850175025,\n",
       " 'halibut': 3.614140770135538,\n",
       " 'halloween': 3.739097071236731,\n",
       " 'halloween-cakes': 3.486074741467312,\n",
       " 'halloween-cocktails': 3.5160471201298344,\n",
       " 'halloween-cupcakes': 3.499027312194318,\n",
       " 'ham': 4.02087157591554,\n",
       " 'ham-and-bean-soup': 3.5083355443530557,\n",
       " 'hand-formed-cookies': 4.257923176556302,\n",
       " 'hanukkah': 3.7591940615058324,\n",
       " 'hawaiian': 3.629130754904933,\n",
       " 'healthy': 7.082926646400479,\n",
       " 'healthy-2': 6.385449668778802,\n",
       " 'heirloom-historical': 5.065763083257495,\n",
       " 'heirloom-historical-recipes': 3.5197560328825244,\n",
       " 'herb-and-spice-mixes': 3.5580759828776993,\n",
       " 'hidden-valley-ranch': 3.5627774915313695,\n",
       " 'high-calcium': 4.509877704609596,\n",
       " 'high-fiber': 3.518005812555995,\n",
       " 'high-in-something': 5.478547965859831,\n",
       " 'high-in-something-diabetic-friendly': 3.486670799752015,\n",
       " 'high-protein': 5.016779537072364,\n",
       " 'holiday-event': 8.277231230823741,\n",
       " 'honduran': 3.5000654378885376,\n",
       " 'hunan': 3.5182764545362666,\n",
       " 'hungarian': 3.6692576630458684,\n",
       " 'ice-cream': 3.5085226643023386,\n",
       " 'icelandic': 3.501023092662964,\n",
       " 'independence-day': 4.1141170635885365,\n",
       " 'indian': 4.453659145703061,\n",
       " 'indonesian': 3.592272891586062,\n",
       " 'inexpensive': 6.929131403996765,\n",
       " 'infant-baby-friendly': 3.6017995080481593,\n",
       " 'iranian-persian': 3.6414596306750844,\n",
       " 'iraqi': 3.525420609315116,\n",
       " 'irish': 3.771091047349763,\n",
       " 'irish-st-patricks-day': 3.5181120134540063,\n",
       " 'italian': 5.889194581703116,\n",
       " 'jams-and-preserves': 3.8619305639173187,\n",
       " 'japanese': 3.783157234020295,\n",
       " 'jellies': 3.5719797866859593,\n",
       " 'jewish-ashkenazi': 3.7953709875083312,\n",
       " 'jewish-sephardi': 3.566371681415929,\n",
       " 'kid-friendly': 7.111497615094738,\n",
       " 'kiwifruit': 3.531000620556759,\n",
       " 'korean': 3.5920471759359445,\n",
       " 'kosher': 4.844463013457648,\n",
       " 'kwanzaa': 3.6074244591934423,\n",
       " 'labor-day': 3.518702113095895,\n",
       " 'lactose': 4.544491695418438,\n",
       " 'lamb-sheep': 4.11880211511084,\n",
       " 'lamb-sheep-main-dish': 3.4970455180117286,\n",
       " 'laotian': 3.486195009671598,\n",
       " 'lasagna': 4.073250060918116,\n",
       " 'lasagne': 3.516365719573863,\n",
       " 'lebanese': 3.6285328865777506,\n",
       " 'leftovers': 3.6240296151124176,\n",
       " 'lemon': 4.114870125274258,\n",
       " 'lentils': 3.949904981463597,\n",
       " 'less_thansql:name_topics_of_recipegreater_than': 3.5062086046948773,\n",
       " 'lettuces': 3.7263632446747024,\n",
       " 'libyan': 3.4800527096030307,\n",
       " 'lime': 3.6881159667085295,\n",
       " 'lobster': 3.598327696561753,\n",
       " 'long-grain-rice': 3.9550758700313375,\n",
       " 'low-calorie': 6.732789596551699,\n",
       " 'low-carb': 7.251489535823711,\n",
       " 'low-cholesterol': 6.6257417951716375,\n",
       " 'low-fat': 5.9551699564955225,\n",
       " 'low-in-something': 8.055220512346535,\n",
       " 'low-protein': 6.306326339113224,\n",
       " 'low-saturated-fat': 6.521444339325134,\n",
       " 'low-sodium': 7.38135598749845,\n",
       " 'lunch': 6.697343926919608,\n",
       " 'macaroni-and-cheese': 3.527117711771177,\n",
       " 'mahi-mahi': 3.5397516071194297,\n",
       " 'main-dish': 9.456682390987693,\n",
       " 'main-dish-beef': 3.505308629699601,\n",
       " 'main-dish-chicken': 3.508705442961498,\n",
       " 'main-dish-pasta': 3.510719137609207,\n",
       " 'main-dish-pork': 3.5222932745314224,\n",
       " 'main-dish-seafood': 3.5090520781994416,\n",
       " 'main-ingredient': 9.308807056846822,\n",
       " 'malaysian': 3.57928937119853,\n",
       " 'mango': 3.684504716232096,\n",
       " 'manicotti': 3.6155197366240595,\n",
       " 'mardi-gras-carnival': 3.595246618286743,\n",
       " 'marinades-and-rubs': 3.5874039656823786,\n",
       " 'marinara-sauce': 3.5248208943690735,\n",
       " 'mashed-potatoes': 3.527171826846094,\n",
       " 'meat': 8.91872787706121,\n",
       " 'meatballs': 3.5454535384751713,\n",
       " 'meatloaf': 3.5482912332838037,\n",
       " 'medium-grain-rice': 3.557485779544506,\n",
       " 'melons': 3.619537517697027,\n",
       " 'memorial-day': 3.5279371690630748,\n",
       " 'mexican': 5.317325678900858,\n",
       " 'micro-melanesia': 3.511589750366137,\n",
       " 'microwave': 4.0831311995898165,\n",
       " 'middle-eastern': 4.195253280879007,\n",
       " 'middle-eastern-main-dish': 3.493197316504382,\n",
       " 'midwestern': 4.376920528234013,\n",
       " 'mixer': 4.29765029115066,\n",
       " 'mongolian': 3.521225942819001,\n",
       " 'moose': 3.534323255346249,\n",
       " 'moroccan': 3.8194572217111316,\n",
       " 'mothers-day': 3.5408388763674346,\n",
       " 'muffins': 4.305987141709081,\n",
       " 'mushroom-soup': 3.489137112538397,\n",
       " 'mushrooms': 4.679881818782507,\n",
       " 'mussels': 3.581975610562147,\n",
       " 'namibian': 3.5057817220125926,\n",
       " 'native-american': 3.563948338272766,\n",
       " 'nepalese': 3.516834087647643,\n",
       " 'new-years': 4.319658069386034,\n",
       " 'new-zealand': 3.666853475166806,\n",
       " 'nigerian': 3.4869442252038936,\n",
       " 'no-cook': 3.964838730932692,\n",
       " 'no-shell-fish': 3.558123562309898,\n",
       " 'non-alcoholic': 3.5338872455194013,\n",
       " 'north-american': 8.184811026373175,\n",
       " 'northeastern-united-states': 4.329549320141123,\n",
       " 'norwegian': 3.5738311988890605,\n",
       " 'novelty': 4.7870165601546315,\n",
       " 'number-of-servings': 7.87049782030394,\n",
       " 'nut-free': 3.5797187797902765,\n",
       " 'nuts': 5.511263707944463,\n",
       " 'oamc-freezer-make-ahead': 5.115982016048053,\n",
       " 'oatmeal': 3.4969653498124034,\n",
       " 'oaxacan': 3.5277103404334786,\n",
       " 'occasion': 9.11527426416009,\n",
       " 'octopus': 3.4924791581097434,\n",
       " 'omelets-and-frittatas': 3.9583806906242898,\n",
       " 'one-dish-meal': 6.989156159405614,\n",
       " 'onions': 5.02862809347245,\n",
       " 'ontario': 3.7380516359864084,\n",
       " 'orange-roughy': 3.5081176588249674,\n",
       " 'oranges': 3.879481694523198,\n",
       " 'oven': 8.340690081401306,\n",
       " 'oysters': 3.564010497304301,\n",
       " 'pacific-northwest': 3.763852718045848,\n",
       " 'pakistani': 3.5621576618027255,\n",
       " 'palestinian': 3.527297054243162,\n",
       " 'pancakes-and-waffles': 4.172032539518596,\n",
       " 'papaya': 3.539647552938338,\n",
       " 'passover': 3.64903309169751,\n",
       " 'pasta': 6.593555366367308,\n",
       " 'pasta-elbow-macaroni': 3.4887038979199443,\n",
       " 'pasta-rice-and-grains': 7.788759096216773,\n",
       " 'pasta-rice-and-grains-elbow-macaroni': 3.4900980305960965,\n",
       " 'pasta-salad': 3.5060586734693877,\n",
       " 'pasta-shells': 3.6909619744214894,\n",
       " 'peaches': 3.7917890724536965,\n",
       " 'peanut-butter': 3.581297406476289,\n",
       " 'pears': 3.7541207482453074,\n",
       " 'penne': 3.961191194430237,\n",
       " 'pennsylvania-dutch': 3.534346551120448,\n",
       " 'peppers': 4.495581430630358,\n",
       " 'perch': 3.4890035297311974,\n",
       " 'peruvian': 3.577065172502316,\n",
       " 'pheasant': 3.5178476469024194,\n",
       " 'pickeral': 3.498403638828752,\n",
       " 'picnic': 5.061031566993539,\n",
       " 'pies': 4.691360197079008,\n",
       " 'pies-and-tarts': 5.231608345079362,\n",
       " 'pineapple': 3.9559153274000614,\n",
       " 'pitted-fruit': 4.11792971865252,\n",
       " 'pizza': 4.141050583657588,\n",
       " 'plums': 3.568778300435222,\n",
       " 'polish': 3.673358387134766,\n",
       " 'polynesian': 3.5422946985446986,\n",
       " 'pork': 6.418042261386807,\n",
       " 'pork-chops': 4.046312530118011,\n",
       " 'pork-crock-pot': 3.507584714569344,\n",
       " 'pork-loin': 3.4952693867235145,\n",
       " 'pork-loins': 4.018239279517475,\n",
       " 'pork-loins-roast': 3.5157750952280478,\n",
       " 'pork-ribs': 3.7046556060491573,\n",
       " 'pork-sausage': 4.278574597072305,\n",
       " 'portuguese': 3.6397163272063144,\n",
       " 'pot-pie': 3.5091086140682957,\n",
       " 'pot-roast': 3.4860812294182217,\n",
       " 'potatoes': 5.900368506838636,\n",
       " 'potluck': 5.743393354604928,\n",
       " 'poultry': 7.658618708179189,\n",
       " 'preparation': 9.289815567012797,\n",
       " 'prepared-potatoes': 3.517440632952184,\n",
       " 'presentation': 7.213185248335917,\n",
       " 'pressure-canning': 3.5423153847003834,\n",
       " 'pressure-cooker': 3.6616132292540264,\n",
       " 'puddings-and-mousses': 4.336294652936615,\n",
       " 'puerto-rican': 3.5405112841147655,\n",
       " 'pumpkin': 3.5571180953003894,\n",
       " 'pumpkin-bread': 3.5148246777122867,\n",
       " 'punch': 3.601748085773843,\n",
       " 'quail': 3.5038276524817302,\n",
       " 'quebec': 3.578512667204923,\n",
       " 'quiche': 3.5415661984293774,\n",
       " 'quick-breads': 5.026996634861492,\n",
       " 'rabbit': 3.5291161788313943,\n",
       " 'ragu-recipe-contest': 3.5236721515195226,\n",
       " 'ramadan': 3.59467500929795,\n",
       " 'raspberries': 3.913718331557122,\n",
       " 'ravioli-tortellini': 3.7436421458735207,\n",
       " 'refrigerator': 4.7274517871368165,\n",
       " 'reynolds-wrap': 3.570161916319547,\n",
       " 'rice': 5.102978597251159,\n",
       " 'roast': 4.036531396125585,\n",
       " 'roast-beef': 4.001176029806632,\n",
       " 'roast-beef-comfort-food': 3.516020591563672,\n",
       " 'roast-beef-main-dish': 3.5266245739509414,\n",
       " 'rolled-cookies': 3.941822594035379,\n",
       " 'rolls-biscuits': 4.377160744534369,\n",
       " 'romantic': 5.167896663152391,\n",
       " 'rosh-hashana': 3.6907605755707023,\n",
       " 'rosh-hashanah': 3.5342717325562214,\n",
       " 'russian': 3.7076850390318805,\n",
       " 'salad-dressings': 3.718071740893892,\n",
       " 'salads': 5.055143153653623,\n",
       " 'salmon': 4.21379378100899,\n",
       " 'salsas': 3.615232272785982,\n",
       " 'saltwater-fish': 4.837066289106478,\n",
       " 'sandwiches': 4.791814216708106,\n",
       " 'sauces': 4.219929160952709,\n",
       " 'saudi-arabian': 3.53460522518923,\n",
       " 'savory': 6.020070599397254,\n",
       " 'savory-pies': 4.293594011703646,\n",
       " 'savory-sauces': 3.808002793992915,\n",
       " 'scallops': 3.764900626543443,\n",
       " 'scandinavian': 3.9424601527478003,\n",
       " 'scones': 3.798750808581033,\n",
       " 'scottish': 3.800146467273055,\n",
       " 'seafood': 6.36949596701487,\n",
       " 'seasonal': 6.8192089269702105,\n",
       " 'served-cold': 4.907176572135087,\n",
       " 'served-hot': 6.46007891032377,\n",
       " 'served-hot-new-years': 3.505408271474019,\n",
       " 'shakes': 3.533791086528069,\n",
       " 'shellfish': 5.410168980802322,\n",
       " 'short-grain-rice': 3.6923911981501787,\n",
       " 'shrimp': 4.865016059012459,\n",
       " 'shrimp-main-dish': 3.50666622555993,\n",
       " 'side-dishes': 6.659972286866462,\n",
       " 'side-dishes-beans': 3.5021526418786695,\n",
       " 'simply-potatoes': 3.6319130043958214,\n",
       " 'simply-potatoes2': 3.5130217028380635,\n",
       " 'small-appliance': 5.251955843711153,\n",
       " 'smoker': 3.589240997229917,\n",
       " 'smoothies': 3.4976321425339596,\n",
       " 'snacks': 4.959322165952473,\n",
       " 'snacks-kid-friendly': 3.4996491228070177,\n",
       " 'snacks-sweet': 3.506890005583473,\n",
       " 'sole-and-flounder': 3.5714567338758254,\n",
       " 'somalian': 3.5191334167982147,\n",
       " 'soul': 3.562954983188065,\n",
       " 'soups-stews': 5.926374531026479,\n",
       " 'sourdough': 3.5903192057697444,\n",
       " 'south-african': 3.622869750456482,\n",
       " 'south-american': 3.931873077478891,\n",
       " 'south-west-pacific': 4.417230516367621,\n",
       " 'southern-united-states': 5.248305091372583,\n",
       " 'southwestern-united-states': 4.487561178317481,\n",
       " 'soy-tofu': 3.9221735607544694,\n",
       " 'spaghetti': 4.091952515910397,\n",
       " 'spaghetti-sauce': 3.514806276658537,\n",
       " 'spanish': 3.8625630528547408,\n",
       " 'spicy': 5.476870639123889,\n",
       " 'spinach': 4.184390873175844,\n",
       " 'spreads': 3.8443345857227604,\n",
       " 'spring': 4.5469235213403625,\n",
       " 'squash': 4.6800459140222905,\n",
       " 'squid': 3.5554755907400746,\n",
       " 'st-patricks-day': 3.7763757853375637,\n",
       " 'steak': 3.9367578756578068,\n",
       " 'steaks': 3.8912379387350944,\n",
       " 'steam': 3.68575207251379,\n",
       " 'stews': 4.104815177552731,\n",
       " 'stews-poultry': 3.4930027166560236,\n",
       " 'stir-fry': 4.176065112540193,\n",
       " 'stocks': 3.633396981563589,\n",
       " 'stove-top': 7.27377818756847,\n",
       " 'strawberries': 4.111041077812466,\n",
       " 'stuffings-dressings': 3.71682126866471,\n",
       " 'sudanese': 3.4880474803539046,\n",
       " 'sugar-cookies': 3.541582127855584,\n",
       " 'summer': 5.286744385953695,\n",
       " 'super-bowl': 3.570275300839754,\n",
       " 'superbowl': 4.054849085350674,\n",
       " 'swedish': 3.636753637999127,\n",
       " 'sweet': 6.055109189730188,\n",
       " 'sweet-sauces': 3.6280361366691327,\n",
       " 'swiss': 3.6497755385460064,\n",
       " 'szechuan': 3.5630911739763858,\n",
       " 'tarts': 3.76117071699414,\n",
       " 'taste-mood': 8.452851299598903,\n",
       " 'technique': 5.326935857416172,\n",
       " 'tempeh': 3.5286878873364578,\n",
       " 'tex-mex': 3.9473048789148497,\n",
       " 'thai': 3.8886296357207466,\n",
       " 'thanksgiving': 4.951320109867497,\n",
       " 'tilapia': 3.6120321866393046,\n",
       " 'time-to-make': 9.273696361453974,\n",
       " 'to-go': 6.415374160754573,\n",
       " 'toddler-friendly': 4.6012407660381625,\n",
       " 'tomatoes': 4.848657762716369,\n",
       " 'tropical-fruit': 4.599217501986144,\n",
       " 'trout': 3.571139075012257,\n",
       " 'tuna': 3.870439864657029,\n",
       " 'turkey': 4.421590512054039,\n",
       " 'turkey-breasts': 3.6143835166998404,\n",
       " 'turkey-burgers': 3.4800070401619236,\n",
       " 'turkish': 3.612384187106344,\n",
       " 'unprocessed-freezer': 3.5259176739263633,\n",
       " 'valentines-day': 4.469183521172576,\n",
       " 'veal': 3.672906211725431,\n",
       " 'vegan': 5.207876729398529,\n",
       " 'vegetables': 8.099553608793906,\n",
       " 'vegetarian': 7.211780818850504,\n",
       " 'veggie-burgers': 3.5187839978728825,\n",
       " 'venezuelan': 3.4928084106923163,\n",
       " 'very-low-carbs': 5.328461763415704,\n",
       " 'vietnamese': 3.661009911160163,\n",
       " 'water-bath': 3.7188028627195835,\n",
       " 'wedding': 3.906928165254729,\n",
       " 'weeknight': 7.416409196642625,\n",
       " 'welsh': 3.5824476194624735,\n",
       " 'white-rice': 3.8399812539054365,\n",
       " 'whitefish': 3.510362408404697,\n",
       " 'whole-chicken': 4.0467690035343145,\n",
       " 'whole-duck': 3.544987572493786,\n",
       " 'whole-turkey': 3.686850924051893,\n",
       " 'wild-game': 3.6985245564468117,\n",
       " 'wings': 3.705266744030065,\n",
       " 'winter': 5.478508985884303,\n",
       " 'yams-sweet-potatoes': 4.0080080182456,\n",
       " 'yeast': 5.155893930955056,\n",
       " 'zucchini': 3.5875697593303104}"
      ]
     },
     "execution_count": 7,
     "metadata": {},
     "output_type": "execute_result"
    }
   ],
   "source": [
    "%%time\n",
    "files = [f'tag_nsteps_{i}.csv' for i in range(9)]\n",
    "lst = []\n",
    "for file in files:\n",
    "    lst.append(get_tag_sum_count_from_file(file))\n",
    "agg = agg_results(lst)\n",
    "get_tag_mean_n_steps(agg)"
   ]
  },
  {
   "cell_type": "markdown",
   "metadata": {},
   "source": [
    "<p class=\"task\" id=\"5\"></p>\n",
    "\n",
    "5\\. Повторите решение задачи 4, распараллелив вызовы функции `get_tag_sum_count_from_file` для различных файлов с помощью `multiprocessing.Pool`. Для обработки каждого файла создайте свой собственный процесс. Выведите на экран результат для тэга \"30-minutes-or-less\". Определите, за какое время задача решается для всех файлов. При замере времени учитывайте время расчета статистики для каждого файла, агрегации результатов и, собственно, вычисления средного. Временем, затрачиваемым на процедуру разбиения исходного файла можно пренебречь."
   ]
  },
  {
   "cell_type": "code",
   "execution_count": 7,
   "metadata": {},
   "outputs": [
    {
     "name": "stdout",
     "output_type": "stream",
     "text": [
      "Overwriting get_tsc_file.py\n"
     ]
    }
   ],
   "source": [
    "%%file get_tsc_file.py\n",
    "import pandas as pd\n",
    "def get_tag_sum_count_from_file(file: str) -> dict:\n",
    "    df = pd.read_csv(file)\n",
    "    dic = df.groupby('tags').agg(\n",
    "        sum=('n_steps', 'sum'), count=('n_steps', 'count')\n",
    "    ).to_dict('index')\n",
    "    return dic"
   ]
  },
  {
   "cell_type": "code",
   "execution_count": 8,
   "metadata": {},
   "outputs": [],
   "source": [
    "from get_tsc_file import get_tag_sum_count_from_file"
   ]
  },
  {
   "cell_type": "code",
   "execution_count": 15,
   "metadata": {},
   "outputs": [
    {
     "name": "stdout",
     "output_type": "stream",
     "text": [
      "7.608917333275011\n",
      "CPU times: total: 62.5 ms\n",
      "Wall time: 5.42 s\n"
     ]
    }
   ],
   "source": [
    "%%time\n",
    "with multiprocessing.Pool(processes=9) as pool:\n",
    "    r = pool.map(get_tag_sum_count_from_file, files)\n",
    "    \n",
    "    agg = agg_results(r)\n",
    "    res = get_tag_mean_n_steps(agg)\n",
    "    print(res['30-minutes-or-less'])"
   ]
  },
  {
   "cell_type": "markdown",
   "metadata": {},
   "source": [
    "<p class=\"task\" id=\"6\"></p>\n",
    "\n",
    "6\\. Повторите решение задачи 4, распараллелив вычисления функции `get_tag_sum_count_from_file` для различных файлов с помощью `multiprocessing.Process`. Для обработки каждого файла создайте свой собственный процесс. Для обмена данными между процессами используйте `multiprocessing.Queue`.\n",
    "\n",
    "Выведите на экран результат для тэга \"30-minutes-or-less\". Определите, за какое время задача решается для всех файлов. При замере времени учитывайте время расчета статистики для каждого файла, агрегации результатов и, собственно, вычисления средного. Временем, затрачиваемым на процедуру разбиения исходного файла можно пренебречь."
   ]
  },
  {
   "cell_type": "code",
   "execution_count": 9,
   "metadata": {},
   "outputs": [
    {
     "name": "stdout",
     "output_type": "stream",
     "text": [
      "Overwriting get_tsc_q_file.py\n"
     ]
    }
   ],
   "source": [
    "%%file get_tsc_q_file.py\n",
    "import pandas as pd\n",
    "def get_tag_sum_count_from_file_q(file, queue) -> dict:\n",
    "    df = pd.read_csv(file)\n",
    "    dic = df.groupby('tags').agg(\n",
    "        sum=('n_steps', 'sum'), count=('n_steps', 'count')\n",
    "    ).to_dict('index')\n",
    "    queue.put(dic)    "
   ]
  },
  {
   "cell_type": "code",
   "execution_count": 10,
   "metadata": {},
   "outputs": [],
   "source": [
    "from get_tsc_q_file import get_tag_sum_count_from_file_q"
   ]
  },
  {
   "cell_type": "code",
   "execution_count": 11,
   "metadata": {},
   "outputs": [],
   "source": [
    "files = [f'tag_nsteps_{i}.csv' for i in range(9)]"
   ]
  },
  {
   "cell_type": "code",
   "execution_count": 12,
   "metadata": {},
   "outputs": [
    {
     "name": "stdout",
     "output_type": "stream",
     "text": [
      "CPU times: total: 5.53 s\n",
      "Wall time: 6.3 s\n"
     ]
    },
    {
     "data": {
      "text/plain": [
       "7.608917333275011"
      ]
     },
     "execution_count": 12,
     "metadata": {},
     "output_type": "execute_result"
    }
   ],
   "source": [
    "%%time\n",
    "queue = multiprocessing.Queue()\n",
    "\n",
    "processes = []\n",
    "for file in files:\n",
    "    p = multiprocessing.Process(target=get_tag_sum_count_from_file_q, args=(file, queue))\n",
    "    p.start()\n",
    "    processes.append(p)\n",
    "\n",
    "res = []\n",
    "while len(res) < len(files):\n",
    "    if not queue.empty():\n",
    "        r = queue.get()\n",
    "        res.append(r)\n",
    "        \n",
    "for p in processes:\n",
    "    p.join()\n",
    "\n",
    "\n",
    "agg = agg_results(res)\n",
    "ans = get_tag_mean_n_steps(agg)\n",
    "ans['30-minutes-or-less']"
   ]
  },
  {
   "cell_type": "markdown",
   "metadata": {},
   "source": [
    "<p class=\"task\" id=\"7\"></p>\n",
    "\n",
    "7\\. Исследуйте, как влияет количество запущенных одновременно процессов на скорость решения задачи. Узнайте количество ядер вашего процессора $K$ (воспользуйтесь функцией `multiprocessing.cpu_count`). Повторите решение задачи 1, разбив исходный файл на $\\frac{K}{2}$, $K$ и $2K$ фрагментов. Для каждого из разбиений повторите решение задачи 5. Визуализируйте зависимость времени выполнения кода от количества файлов в разбиении. Сделайте вывод в виде текстового комментария."
   ]
  },
  {
   "cell_type": "code",
   "execution_count": 14,
   "metadata": {},
   "outputs": [
    {
     "data": {
      "text/plain": [
       "8"
      ]
     },
     "execution_count": 14,
     "metadata": {},
     "output_type": "execute_result"
    }
   ],
   "source": [
    "K = multiprocessing.cpu_count()\n",
    "K"
   ]
  },
  {
   "cell_type": "code",
   "execution_count": 15,
   "metadata": {},
   "outputs": [
    {
     "name": "stdout",
     "output_type": "stream",
     "text": [
      "file: tag_nsteps4_0.csv #rows: 18000000\n",
      "file: tag_nsteps4_1.csv #rows: 18000000\n",
      "file: tag_nsteps4_2.csv #rows: 18000000\n",
      "file: tag_nsteps4_3.csv #rows: 16695585\n"
     ]
    }
   ],
   "source": [
    "# K/2\n",
    "for i,chunk in enumerate(pd.read_csv('tag_nsteps.csv', chunksize=18_000_000)):\n",
    "    chunk.to_csv(f'tag_nsteps4_{i}.csv', index=False)\n",
    "    print(f'file: tag_nsteps4_{i}.csv #rows: {chunk.shape[0]}')"
   ]
  },
  {
   "cell_type": "code",
   "execution_count": 19,
   "metadata": {},
   "outputs": [],
   "source": [
    "files4 = [f'tag_nsteps4_{i}.csv' for i in range(4)]"
   ]
  },
  {
   "cell_type": "code",
   "execution_count": 20,
   "metadata": {},
   "outputs": [
    {
     "name": "stdout",
     "output_type": "stream",
     "text": [
      "7.608917333275011\n",
      "CPU times: total: 15.6 ms\n",
      "Wall time: 7.22 s\n"
     ]
    }
   ],
   "source": [
    "%%time\n",
    "with multiprocessing.Pool(processes=4) as pool:\n",
    "    r = pool.map(get_tag_sum_count_from_file, files4)\n",
    "\n",
    "    agg = agg_results(r)\n",
    "    res = get_tag_mean_n_steps(agg)\n",
    "    print(res['30-minutes-or-less'])"
   ]
  },
  {
   "cell_type": "code",
   "execution_count": 21,
   "metadata": {},
   "outputs": [
    {
     "name": "stdout",
     "output_type": "stream",
     "text": [
      "file: tag_nsteps8_0.csv #rows: 9000000\n",
      "file: tag_nsteps8_1.csv #rows: 9000000\n",
      "file: tag_nsteps8_2.csv #rows: 9000000\n",
      "file: tag_nsteps8_3.csv #rows: 9000000\n",
      "file: tag_nsteps8_4.csv #rows: 9000000\n",
      "file: tag_nsteps8_5.csv #rows: 9000000\n",
      "file: tag_nsteps8_6.csv #rows: 9000000\n",
      "file: tag_nsteps8_7.csv #rows: 7695585\n"
     ]
    }
   ],
   "source": [
    "# K\n",
    "for i,chunk in enumerate(pd.read_csv('tag_nsteps.csv', chunksize=9_000_000)):\n",
    "    chunk.to_csv(f'tag_nsteps8_{i}.csv', index=False)\n",
    "    print(f'file: tag_nsteps8_{i}.csv #rows: {chunk.shape[0]}')"
   ]
  },
  {
   "cell_type": "code",
   "execution_count": 27,
   "metadata": {},
   "outputs": [],
   "source": [
    "files8 = [f'tag_nsteps8_{i}.csv' for i in range(8)]"
   ]
  },
  {
   "cell_type": "code",
   "execution_count": 35,
   "metadata": {},
   "outputs": [
    {
     "name": "stdout",
     "output_type": "stream",
     "text": [
      "7.608917333275011\n",
      "CPU times: total: 46.9 ms\n",
      "Wall time: 5.34 s\n"
     ]
    }
   ],
   "source": [
    "%%time\n",
    "with multiprocessing.Pool(processes=8) as pool:\n",
    "    r = pool.map(get_tag_sum_count_from_file, files8)\n",
    "\n",
    "    agg = agg_results(r)\n",
    "    res = get_tag_mean_n_steps(agg)\n",
    "    print(res['30-minutes-or-less'])"
   ]
  },
  {
   "cell_type": "code",
   "execution_count": 29,
   "metadata": {},
   "outputs": [
    {
     "name": "stdout",
     "output_type": "stream",
     "text": [
      "file: tag_nsteps16_0.csv #rows: 4500000\n",
      "file: tag_nsteps16_1.csv #rows: 4500000\n",
      "file: tag_nsteps16_2.csv #rows: 4500000\n",
      "file: tag_nsteps16_3.csv #rows: 4500000\n",
      "file: tag_nsteps16_4.csv #rows: 4500000\n",
      "file: tag_nsteps16_5.csv #rows: 4500000\n",
      "file: tag_nsteps16_6.csv #rows: 4500000\n",
      "file: tag_nsteps16_7.csv #rows: 4500000\n",
      "file: tag_nsteps16_8.csv #rows: 4500000\n",
      "file: tag_nsteps16_9.csv #rows: 4500000\n",
      "file: tag_nsteps16_10.csv #rows: 4500000\n",
      "file: tag_nsteps16_11.csv #rows: 4500000\n",
      "file: tag_nsteps16_12.csv #rows: 4500000\n",
      "file: tag_nsteps16_13.csv #rows: 4500000\n",
      "file: tag_nsteps16_14.csv #rows: 4500000\n",
      "file: tag_nsteps16_15.csv #rows: 3195585\n"
     ]
    }
   ],
   "source": [
    "# 2K\n",
    "for i,chunk in enumerate(pd.read_csv('tag_nsteps.csv', chunksize=4_500_000)):\n",
    "    chunk.to_csv(f'tag_nsteps16_{i}.csv', index=False)\n",
    "    print(f'file: tag_nsteps16_{i}.csv #rows: {chunk.shape[0]}')"
   ]
  },
  {
   "cell_type": "code",
   "execution_count": 30,
   "metadata": {},
   "outputs": [],
   "source": [
    "files16 = [f'tag_nsteps16_{i}.csv' for i in range(16)]"
   ]
  },
  {
   "cell_type": "code",
   "execution_count": 31,
   "metadata": {},
   "outputs": [
    {
     "name": "stdout",
     "output_type": "stream",
     "text": [
      "7.608917333275011\n",
      "CPU times: total: 141 ms\n",
      "Wall time: 6.51 s\n"
     ]
    }
   ],
   "source": [
    "%%time\n",
    "with multiprocessing.Pool(processes=16) as pool:\n",
    "    r = pool.map(get_tag_sum_count_from_file, files16)\n",
    "\n",
    "    agg = agg_results(r)\n",
    "    res = get_tag_mean_n_steps(agg)\n",
    "    print(res['30-minutes-or-less'])"
   ]
  },
  {
   "cell_type": "code",
   "execution_count": 32,
   "metadata": {},
   "outputs": [],
   "source": [
    "import matplotlib.pyplot as plt"
   ]
  },
  {
   "cell_type": "code",
   "execution_count": 36,
   "metadata": {},
   "outputs": [
    {
     "data": {
      "image/png": "[encoded data removed]",
      "text/plain": [
       "<Figure size 432x288 with 1 Axes>"
      ]
     },
     "metadata": {
      "needs_background": "light"
     },
     "output_type": "display_data"
    }
   ],
   "source": [
    "x = [4, 8, 16]\n",
    "y = [7.22, 5.34, 6.51]\n",
    "plt.plot(x, y);"
   ]
  },
  {
   "cell_type": "code",
   "execution_count": null,
   "metadata": {},
   "outputs": [],
   "source": []
  }
 ],
 "metadata": {
  "kernelspec": {
   "display_name": "Python 3 (ipykernel)",
   "language": "python",
   "name": "python3"
  },
  "language_info": {
   "codemirror_mode": {
    "name": "ipython",
    "version": 3
   },
   "file_extension": ".py",
   "mimetype": "text/x-python",
   "name": "python",
   "nbconvert_exporter": "python",
   "pygments_lexer": "ipython3",
   "version": "3.9.12"
  }
 },
 "nbformat": 4,
 "nbformat_minor": 4
}
