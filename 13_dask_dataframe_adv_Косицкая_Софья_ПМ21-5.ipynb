{
 "cells": [
  {
   "cell_type": "markdown",
   "metadata": {},
   "source": [
    "# Dask DataFrame (2)"
   ]
  },
  {
   "cell_type": "markdown",
   "metadata": {},
   "source": [
    "__Автор задач: Блохин Н.В. (NVBlokhin@fa.ru)__\n",
    "\n",
    "Материалы: \n",
    "* Макрушин С.В. Лекция \"Dask DataFrame\"\n",
    "* https://docs.dask.org/en/latest/dataframe.html\n",
    "* Jesse C. Daniel. Data Science with Python and Dask. \n",
    "\n",
    "* https://docs.dask.org/en/stable/generated/dask.dataframe.groupby.DataFrameGroupBy.apply.html\n",
    "* https://docs.dask.org/en/stable/generated/dask.dataframe.Series.map_overlap.html#dask.dataframe.Series.map_overlap\n",
    "* https://docs.dask.org/en/stable/_modules/dask/dataframe/rolling.html#Rolling.apply\n",
    "* https://dask-sql.readthedocs.io/en/latest/quickstart.html"
   ]
  },
  {
   "cell_type": "markdown",
   "metadata": {},
   "source": [
    "## Задачи для совместного разбора"
   ]
  },
  {
   "cell_type": "markdown",
   "metadata": {},
   "source": [
    "1. Загрузите данные о пользователях из архива каталога users. Посчитайте средний возраст каждого представленного пола."
   ]
  },
  {
   "cell_type": "code",
   "execution_count": 1,
   "metadata": {},
   "outputs": [],
   "source": [
    "import dask.dataframe as dd"
   ]
  },
  {
   "cell_type": "code",
   "execution_count": 5,
   "metadata": {},
   "outputs": [
    {
     "data": {
      "text/html": [
       "<div>\n",
       "<style scoped>\n",
       "    .dataframe tbody tr th:only-of-type {\n",
       "        vertical-align: middle;\n",
       "    }\n",
       "\n",
       "    .dataframe tbody tr th {\n",
       "        vertical-align: top;\n",
       "    }\n",
       "\n",
       "    .dataframe thead th {\n",
       "        text-align: right;\n",
       "    }\n",
       "</style>\n",
       "<table border=\"1\" class=\"dataframe\">\n",
       "  <thead>\n",
       "    <tr style=\"text-align: right;\">\n",
       "      <th></th>\n",
       "      <th>id</th>\n",
       "      <th>name</th>\n",
       "      <th>age</th>\n",
       "      <th>gender</th>\n",
       "    </tr>\n",
       "  </thead>\n",
       "  <tbody>\n",
       "    <tr>\n",
       "      <th>0</th>\n",
       "      <td>0</td>\n",
       "      <td>GBWAKSZR</td>\n",
       "      <td>57</td>\n",
       "      <td>female</td>\n",
       "    </tr>\n",
       "    <tr>\n",
       "      <th>1</th>\n",
       "      <td>1</td>\n",
       "      <td>JZFLVFWE</td>\n",
       "      <td>71</td>\n",
       "      <td>female</td>\n",
       "    </tr>\n",
       "    <tr>\n",
       "      <th>2</th>\n",
       "      <td>2</td>\n",
       "      <td>FVKATMOC</td>\n",
       "      <td>65</td>\n",
       "      <td>female</td>\n",
       "    </tr>\n",
       "  </tbody>\n",
       "</table>\n",
       "</div>"
      ],
      "text/plain": [
       "   id      name  age  gender\n",
       "0   0  GBWAKSZR   57  female\n",
       "1   1  JZFLVFWE   71  female\n",
       "2   2  FVKATMOC   65  female"
      ]
     },
     "execution_count": 5,
     "metadata": {},
     "output_type": "execute_result"
    }
   ],
   "source": [
    "df = dd.read_csv('users/*.csv')\n",
    "df.head(3)"
   ]
  },
  {
   "cell_type": "code",
   "execution_count": 4,
   "metadata": {},
   "outputs": [
    {
     "data": {
      "text/plain": [
       "gender\n",
       "female    48.303251\n",
       "male      48.155142\n",
       "Name: age, dtype: float64"
      ]
     },
     "execution_count": 4,
     "metadata": {},
     "output_type": "execute_result"
    }
   ],
   "source": [
    "df.groupby('gender')['age'].mean().compute()"
   ]
  },
  {
   "cell_type": "code",
   "execution_count": 6,
   "metadata": {},
   "outputs": [
    {
     "data": {
      "text/plain": [
       "<dask.dataframe.groupby.DataFrameGroupBy at 0x20056030d90>"
      ]
     },
     "execution_count": 6,
     "metadata": {},
     "output_type": "execute_result"
    }
   ],
   "source": [
    "df.groupby('gender') #apply, transform"
   ]
  },
  {
   "cell_type": "markdown",
   "metadata": {},
   "source": [
    "2. Создайте bag на основе данных из файла users.txt. Преобразуйте его в dataframe и объедините с фреймом из задачи 1. \n"
   ]
  },
  {
   "cell_type": "code",
   "execution_count": 7,
   "metadata": {},
   "outputs": [],
   "source": [
    "import dask.bag as db"
   ]
  },
  {
   "cell_type": "code",
   "execution_count": 12,
   "metadata": {},
   "outputs": [
    {
     "data": {
      "text/plain": [
       "('uid:0 street_number:253 street_name:smalfbhbmq city:druxufva state:QU zip_code:12277\\n',\n",
       " 'uid:1 street_number:591 street_name:xduktcwwbn city:rnbfaehq state:KT zip_code:44340\\n')"
      ]
     },
     "execution_count": 12,
     "metadata": {},
     "output_type": "execute_result"
    }
   ],
   "source": [
    "bag = db.read_text('users.txt').repartition(4)\n",
    "bag.take(2)"
   ]
  },
  {
   "cell_type": "code",
   "execution_count": 15,
   "metadata": {},
   "outputs": [
    {
     "data": {
      "text/plain": [
       "{1: 2, 3: 4}"
      ]
     },
     "execution_count": 15,
     "metadata": {},
     "output_type": "execute_result"
    }
   ],
   "source": [
    "dict([[1,2], [3,4]])"
   ]
  },
  {
   "cell_type": "code",
   "execution_count": 16,
   "metadata": {},
   "outputs": [
    {
     "data": {
      "text/plain": [
       "({'uid': 0,\n",
       "  'street_number': '253',\n",
       "  'street_name': 'smalfbhbmq',\n",
       "  'city': 'druxufva',\n",
       "  'state': 'QU',\n",
       "  'zip_code': '12277'},\n",
       " {'uid': 1,\n",
       "  'street_number': '591',\n",
       "  'street_name': 'xduktcwwbn',\n",
       "  'city': 'rnbfaehq',\n",
       "  'state': 'KT',\n",
       "  'zip_code': '44340'})"
      ]
     },
     "execution_count": 16,
     "metadata": {},
     "output_type": "execute_result"
    }
   ],
   "source": [
    "def f(row):\n",
    "    kv = row.strip().split()\n",
    "    r = []\n",
    "    for el in kv:\n",
    "        r.append(el.split(':'))\n",
    "    r = dict(r)\n",
    "    r['uid'] = int(r['uid'])\n",
    "    return r\n",
    "\n",
    "bag = db.read_text('users.txt').repartition(4).map(f)\n",
    "bag.take(2)"
   ]
  },
  {
   "cell_type": "code",
   "execution_count": 18,
   "metadata": {},
   "outputs": [
    {
     "data": {
      "text/html": [
       "<div>\n",
       "<style scoped>\n",
       "    .dataframe tbody tr th:only-of-type {\n",
       "        vertical-align: middle;\n",
       "    }\n",
       "\n",
       "    .dataframe tbody tr th {\n",
       "        vertical-align: top;\n",
       "    }\n",
       "\n",
       "    .dataframe thead th {\n",
       "        text-align: right;\n",
       "    }\n",
       "</style>\n",
       "<table border=\"1\" class=\"dataframe\">\n",
       "  <thead>\n",
       "    <tr style=\"text-align: right;\">\n",
       "      <th></th>\n",
       "      <th>uid</th>\n",
       "      <th>street_number</th>\n",
       "      <th>street_name</th>\n",
       "      <th>city</th>\n",
       "      <th>state</th>\n",
       "      <th>zip_code</th>\n",
       "    </tr>\n",
       "  </thead>\n",
       "  <tbody>\n",
       "    <tr>\n",
       "      <th>0</th>\n",
       "      <td>0</td>\n",
       "      <td>253</td>\n",
       "      <td>smalfbhbmq</td>\n",
       "      <td>druxufva</td>\n",
       "      <td>QU</td>\n",
       "      <td>12277</td>\n",
       "    </tr>\n",
       "    <tr>\n",
       "      <th>1</th>\n",
       "      <td>1</td>\n",
       "      <td>591</td>\n",
       "      <td>xduktcwwbn</td>\n",
       "      <td>rnbfaehq</td>\n",
       "      <td>KT</td>\n",
       "      <td>44340</td>\n",
       "    </tr>\n",
       "    <tr>\n",
       "      <th>2</th>\n",
       "      <td>2</td>\n",
       "      <td>660</td>\n",
       "      <td>omggxsgdnb</td>\n",
       "      <td>rchrmqzu</td>\n",
       "      <td>SE</td>\n",
       "      <td>80696</td>\n",
       "    </tr>\n",
       "    <tr>\n",
       "      <th>3</th>\n",
       "      <td>3</td>\n",
       "      <td>810</td>\n",
       "      <td>jmpllqdjmy</td>\n",
       "      <td>boujamgy</td>\n",
       "      <td>QR</td>\n",
       "      <td>45706</td>\n",
       "    </tr>\n",
       "    <tr>\n",
       "      <th>4</th>\n",
       "      <td>4</td>\n",
       "      <td>344</td>\n",
       "      <td>iwzdcewpnq</td>\n",
       "      <td>rjjuktgk</td>\n",
       "      <td>QO</td>\n",
       "      <td>78134</td>\n",
       "    </tr>\n",
       "  </tbody>\n",
       "</table>\n",
       "</div>"
      ],
      "text/plain": [
       "   uid street_number street_name      city state zip_code\n",
       "0    0           253  smalfbhbmq  druxufva    QU    12277\n",
       "1    1           591  xduktcwwbn  rnbfaehq    KT    44340\n",
       "2    2           660  omggxsgdnb  rchrmqzu    SE    80696\n",
       "3    3           810  jmpllqdjmy  boujamgy    QR    45706\n",
       "4    4           344  iwzdcewpnq  rjjuktgk    QO    78134"
      ]
     },
     "execution_count": 18,
     "metadata": {},
     "output_type": "execute_result"
    }
   ],
   "source": [
    "df2 = bag.to_dataframe()\n",
    "df2.head()"
   ]
  },
  {
   "cell_type": "code",
   "execution_count": 19,
   "metadata": {
    "scrolled": true
   },
   "outputs": [
    {
     "data": {
      "text/html": [
       "<div>\n",
       "<style scoped>\n",
       "    .dataframe tbody tr th:only-of-type {\n",
       "        vertical-align: middle;\n",
       "    }\n",
       "\n",
       "    .dataframe tbody tr th {\n",
       "        vertical-align: top;\n",
       "    }\n",
       "\n",
       "    .dataframe thead th {\n",
       "        text-align: right;\n",
       "    }\n",
       "</style>\n",
       "<table border=\"1\" class=\"dataframe\">\n",
       "  <thead>\n",
       "    <tr style=\"text-align: right;\">\n",
       "      <th></th>\n",
       "      <th>id</th>\n",
       "      <th>name</th>\n",
       "      <th>age</th>\n",
       "      <th>gender</th>\n",
       "      <th>uid</th>\n",
       "      <th>street_number</th>\n",
       "      <th>street_name</th>\n",
       "      <th>city</th>\n",
       "      <th>state</th>\n",
       "      <th>zip_code</th>\n",
       "    </tr>\n",
       "  </thead>\n",
       "  <tbody>\n",
       "    <tr>\n",
       "      <th>0</th>\n",
       "      <td>2500</td>\n",
       "      <td>ZNOXHMSI</td>\n",
       "      <td>35</td>\n",
       "      <td>male</td>\n",
       "      <td>2500</td>\n",
       "      <td>631</td>\n",
       "      <td>lbxyjvwiur</td>\n",
       "      <td>ybogayph</td>\n",
       "      <td>PA</td>\n",
       "      <td>29890</td>\n",
       "    </tr>\n",
       "    <tr>\n",
       "      <th>1</th>\n",
       "      <td>2502</td>\n",
       "      <td>BWGBPUHI</td>\n",
       "      <td>51</td>\n",
       "      <td>male</td>\n",
       "      <td>2502</td>\n",
       "      <td>691</td>\n",
       "      <td>kvrhycoxrp</td>\n",
       "      <td>hivflnka</td>\n",
       "      <td>JR</td>\n",
       "      <td>85055</td>\n",
       "    </tr>\n",
       "  </tbody>\n",
       "</table>\n",
       "</div>"
      ],
      "text/plain": [
       "     id      name  age gender   uid street_number street_name      city state  \\\n",
       "0  2500  ZNOXHMSI   35   male  2500           631  lbxyjvwiur  ybogayph    PA   \n",
       "1  2502  BWGBPUHI   51   male  2502           691  kvrhycoxrp  hivflnka    JR   \n",
       "\n",
       "  zip_code  \n",
       "0    29890  \n",
       "1    85055  "
      ]
     },
     "execution_count": 19,
     "metadata": {},
     "output_type": "execute_result"
    }
   ],
   "source": [
    "df.merge(df2, left_on=\"id\", right_on=\"uid\").head(2)"
   ]
  },
  {
   "cell_type": "markdown",
   "metadata": {},
   "source": [
    "3. Вычислите произведение каждой пары последовательно идущих возрастов людей."
   ]
  },
  {
   "cell_type": "code",
   "execution_count": 20,
   "metadata": {},
   "outputs": [
    {
     "data": {
      "text/plain": [
       "0    57\n",
       "1    71\n",
       "2    65\n",
       "Name: age, dtype: int64"
      ]
     },
     "execution_count": 20,
     "metadata": {},
     "output_type": "execute_result"
    }
   ],
   "source": [
    "df['age'].head(3)"
   ]
  },
  {
   "cell_type": "code",
   "execution_count": 23,
   "metadata": {},
   "outputs": [
    {
     "data": {
      "text/plain": [
       "0     NaN\n",
       "1    64.0\n",
       "2    68.0\n",
       "3    67.5\n",
       "Name: age, dtype: float64"
      ]
     },
     "execution_count": 23,
     "metadata": {},
     "output_type": "execute_result"
    }
   ],
   "source": [
    "df['age'].rolling(window=2).mean().head(4)"
   ]
  },
  {
   "cell_type": "code",
   "execution_count": 24,
   "metadata": {},
   "outputs": [
    {
     "data": {
      "text/plain": [
       "0       NaN\n",
       "1    4047.0\n",
       "2    4615.0\n",
       "3    4550.0\n",
       "4    5320.0\n",
       "Name: age, dtype: float64"
      ]
     },
     "execution_count": 24,
     "metadata": {},
     "output_type": "execute_result"
    }
   ],
   "source": [
    "def prod(s):\n",
    "    return s.prod()\n",
    "\n",
    "df['age'].rolling(window=2).apply(prod, raw=False).head()"
   ]
  },
  {
   "cell_type": "markdown",
   "metadata": {},
   "source": [
    "4. Используя dask_sql, найдите топ-5 возрастов, имеющих наибольшее кол-во представителей."
   ]
  },
  {
   "cell_type": "code",
   "execution_count": 30,
   "metadata": {},
   "outputs": [],
   "source": [
    "#!pip install dask_sql"
   ]
  },
  {
   "cell_type": "code",
   "execution_count": 32,
   "metadata": {},
   "outputs": [],
   "source": [
    "#!pip install threadpoolctl==3.1.0"
   ]
  },
  {
   "cell_type": "code",
   "execution_count": 33,
   "metadata": {},
   "outputs": [],
   "source": [
    "import dask_sql\n",
    "from dask_sql import Context"
   ]
  },
  {
   "cell_type": "code",
   "execution_count": 34,
   "metadata": {},
   "outputs": [],
   "source": [
    "c = Context()"
   ]
  },
  {
   "cell_type": "code",
   "execution_count": 35,
   "metadata": {},
   "outputs": [],
   "source": [
    "c.create_table(\"users\", df)"
   ]
  },
  {
   "cell_type": "code",
   "execution_count": 38,
   "metadata": {},
   "outputs": [
    {
     "data": {
      "text/html": [
       "<div>\n",
       "<style scoped>\n",
       "    .dataframe tbody tr th:only-of-type {\n",
       "        vertical-align: middle;\n",
       "    }\n",
       "\n",
       "    .dataframe tbody tr th {\n",
       "        vertical-align: top;\n",
       "    }\n",
       "\n",
       "    .dataframe thead th {\n",
       "        text-align: right;\n",
       "    }\n",
       "</style>\n",
       "<table border=\"1\" class=\"dataframe\">\n",
       "  <thead>\n",
       "    <tr style=\"text-align: right;\">\n",
       "      <th></th>\n",
       "      <th>id</th>\n",
       "      <th>name</th>\n",
       "      <th>age</th>\n",
       "      <th>gender</th>\n",
       "    </tr>\n",
       "  </thead>\n",
       "  <tbody>\n",
       "    <tr>\n",
       "      <th>0</th>\n",
       "      <td>0</td>\n",
       "      <td>GBWAKSZR</td>\n",
       "      <td>57</td>\n",
       "      <td>female</td>\n",
       "    </tr>\n",
       "    <tr>\n",
       "      <th>1</th>\n",
       "      <td>1</td>\n",
       "      <td>JZFLVFWE</td>\n",
       "      <td>71</td>\n",
       "      <td>female</td>\n",
       "    </tr>\n",
       "    <tr>\n",
       "      <th>2</th>\n",
       "      <td>2</td>\n",
       "      <td>FVKATMOC</td>\n",
       "      <td>65</td>\n",
       "      <td>female</td>\n",
       "    </tr>\n",
       "    <tr>\n",
       "      <th>3</th>\n",
       "      <td>3</td>\n",
       "      <td>IIJOOMKY</td>\n",
       "      <td>70</td>\n",
       "      <td>male</td>\n",
       "    </tr>\n",
       "    <tr>\n",
       "      <th>4</th>\n",
       "      <td>4</td>\n",
       "      <td>IEBIJZHJ</td>\n",
       "      <td>76</td>\n",
       "      <td>male</td>\n",
       "    </tr>\n",
       "  </tbody>\n",
       "</table>\n",
       "</div>"
      ],
      "text/plain": [
       "   id      name  age  gender\n",
       "0   0  GBWAKSZR   57  female\n",
       "1   1  JZFLVFWE   71  female\n",
       "2   2  FVKATMOC   65  female\n",
       "3   3  IIJOOMKY   70    male\n",
       "4   4  IEBIJZHJ   76    male"
      ]
     },
     "execution_count": 38,
     "metadata": {},
     "output_type": "execute_result"
    }
   ],
   "source": [
    "c.sql('''\n",
    "SELECT * \n",
    "FROM users\n",
    "''').head()"
   ]
  },
  {
   "cell_type": "code",
   "execution_count": 39,
   "metadata": {},
   "outputs": [
    {
     "data": {
      "text/html": [
       "<div>\n",
       "<style scoped>\n",
       "    .dataframe tbody tr th:only-of-type {\n",
       "        vertical-align: middle;\n",
       "    }\n",
       "\n",
       "    .dataframe tbody tr th {\n",
       "        vertical-align: top;\n",
       "    }\n",
       "\n",
       "    .dataframe thead th {\n",
       "        text-align: right;\n",
       "    }\n",
       "</style>\n",
       "<table border=\"1\" class=\"dataframe\">\n",
       "  <thead>\n",
       "    <tr style=\"text-align: right;\">\n",
       "      <th></th>\n",
       "      <th>age</th>\n",
       "      <th>sm</th>\n",
       "    </tr>\n",
       "  </thead>\n",
       "  <tbody>\n",
       "    <tr>\n",
       "      <th>28</th>\n",
       "      <td>55</td>\n",
       "      <td>192</td>\n",
       "    </tr>\n",
       "    <tr>\n",
       "      <th>24</th>\n",
       "      <td>42</td>\n",
       "      <td>186</td>\n",
       "    </tr>\n",
       "    <tr>\n",
       "      <th>17</th>\n",
       "      <td>25</td>\n",
       "      <td>180</td>\n",
       "    </tr>\n",
       "    <tr>\n",
       "      <th>2</th>\n",
       "      <td>65</td>\n",
       "      <td>180</td>\n",
       "    </tr>\n",
       "    <tr>\n",
       "      <th>44</th>\n",
       "      <td>38</td>\n",
       "      <td>179</td>\n",
       "    </tr>\n",
       "  </tbody>\n",
       "</table>\n",
       "</div>"
      ],
      "text/plain": [
       "    age   sm\n",
       "28   55  192\n",
       "24   42  186\n",
       "17   25  180\n",
       "2    65  180\n",
       "44   38  179"
      ]
     },
     "execution_count": 39,
     "metadata": {},
     "output_type": "execute_result"
    }
   ],
   "source": [
    "c.sql('''\n",
    "SELECT DISTINCT(Age), COUNT(Age) AS sm\n",
    "FROM users\n",
    "GROUP BY Age\n",
    "ORDER BY sm DESC\n",
    "LIMIT 5\n",
    "''').head()"
   ]
  },
  {
   "cell_type": "markdown",
   "metadata": {},
   "source": [
    "5. Создайте функцию rename_gender и сделайте выборку из таблицы с ее использованием при помощи dask_sql"
   ]
  },
  {
   "cell_type": "code",
   "execution_count": 40,
   "metadata": {},
   "outputs": [],
   "source": [
    "def rename_gender(genders):\n",
    "    return genders.map({\"female\":\"ж\", \"male\":\"м\"})\n",
    "\n",
    "c.register_function(\n",
    "    rename_gender,\n",
    "    \"ren\",\n",
    "    [(\"genders\", str)],\n",
    "    str\n",
    ")"
   ]
  },
  {
   "cell_type": "code",
   "execution_count": 42,
   "metadata": {},
   "outputs": [
    {
     "data": {
      "text/html": [
       "<div>\n",
       "<style scoped>\n",
       "    .dataframe tbody tr th:only-of-type {\n",
       "        vertical-align: middle;\n",
       "    }\n",
       "\n",
       "    .dataframe tbody tr th {\n",
       "        vertical-align: top;\n",
       "    }\n",
       "\n",
       "    .dataframe thead th {\n",
       "        text-align: right;\n",
       "    }\n",
       "</style>\n",
       "<table border=\"1\" class=\"dataframe\">\n",
       "  <thead>\n",
       "    <tr style=\"text-align: right;\">\n",
       "      <th></th>\n",
       "      <th>id</th>\n",
       "      <th>name</th>\n",
       "      <th>age</th>\n",
       "      <th>gender</th>\n",
       "      <th>renamed</th>\n",
       "    </tr>\n",
       "  </thead>\n",
       "  <tbody>\n",
       "    <tr>\n",
       "      <th>0</th>\n",
       "      <td>0</td>\n",
       "      <td>GBWAKSZR</td>\n",
       "      <td>57</td>\n",
       "      <td>female</td>\n",
       "      <td>ж</td>\n",
       "    </tr>\n",
       "    <tr>\n",
       "      <th>1</th>\n",
       "      <td>1</td>\n",
       "      <td>JZFLVFWE</td>\n",
       "      <td>71</td>\n",
       "      <td>female</td>\n",
       "      <td>ж</td>\n",
       "    </tr>\n",
       "    <tr>\n",
       "      <th>2</th>\n",
       "      <td>2</td>\n",
       "      <td>FVKATMOC</td>\n",
       "      <td>65</td>\n",
       "      <td>female</td>\n",
       "      <td>ж</td>\n",
       "    </tr>\n",
       "    <tr>\n",
       "      <th>3</th>\n",
       "      <td>3</td>\n",
       "      <td>IIJOOMKY</td>\n",
       "      <td>70</td>\n",
       "      <td>male</td>\n",
       "      <td>м</td>\n",
       "    </tr>\n",
       "    <tr>\n",
       "      <th>4</th>\n",
       "      <td>4</td>\n",
       "      <td>IEBIJZHJ</td>\n",
       "      <td>76</td>\n",
       "      <td>male</td>\n",
       "      <td>м</td>\n",
       "    </tr>\n",
       "  </tbody>\n",
       "</table>\n",
       "</div>"
      ],
      "text/plain": [
       "   id      name  age  gender renamed\n",
       "0   0  GBWAKSZR   57  female       ж\n",
       "1   1  JZFLVFWE   71  female       ж\n",
       "2   2  FVKATMOC   65  female       ж\n",
       "3   3  IIJOOMKY   70    male       м\n",
       "4   4  IEBIJZHJ   76    male       м"
      ]
     },
     "execution_count": 42,
     "metadata": {},
     "output_type": "execute_result"
    }
   ],
   "source": [
    "c.sql(\"\"\"\n",
    "SELECT *, ren(gender) as renamed\n",
    "FROM users\n",
    "\"\"\").head()"
   ]
  },
  {
   "cell_type": "markdown",
   "metadata": {},
   "source": [
    "## Лабораторная работа 13"
   ]
  },
  {
   "cell_type": "markdown",
   "metadata": {},
   "source": [
    "__При решении данных задач не подразумевается использования циклов или генераторов Python в ходе работы с пакетами `numpy`, `pandas` и `dask`, если в задании не сказано обратного. Решения задач, в которых для обработки массивов `numpy`, структур `pandas` или структур `dask` используются явные циклы (без согласования с преподавателем), могут быть признаны некорректными и не засчитаны.__"
   ]
  },
  {
   "cell_type": "markdown",
   "metadata": {},
   "source": [
    "В ходе выполнения все операции вычислений проводятся над `dask.DataFrame` и средствами пакета `dask`, если в задании не сказано обратного. Переход от коллекций `dask` возможен исключительно для демонстрации результата в конце решения задачи. Если в задаче используются результаты выполнения предыдущих задач, то подразумевается, что вы используете результаты в виде `dask.DataFrame` (то есть то, что было получено до вызова `compute`, а не после)."
   ]
  },
  {
   "cell_type": "code",
   "execution_count": 1,
   "metadata": {},
   "outputs": [],
   "source": [
    "import dask.dataframe as dd"
   ]
  },
  {
   "cell_type": "markdown",
   "metadata": {},
   "source": [
    "<p class=\"task\" id=\"1\"></p>\n",
    "\n",
    "1\\. В архиве `recipes_full.zip` находятся файлы, содержащие информацию об рецептах блюд. Загрузите данные из файлов этого архива в виде `dd.DataFrame` с названием `recipes`. Для каждого автора рассчитайте максимальное количество ингредиентов, которые используются в его рецептах."
   ]
  },
  {
   "cell_type": "code",
   "execution_count": 2,
   "metadata": {},
   "outputs": [
    {
     "data": {
      "text/html": [
       "<div>\n",
       "<style scoped>\n",
       "    .dataframe tbody tr th:only-of-type {\n",
       "        vertical-align: middle;\n",
       "    }\n",
       "\n",
       "    .dataframe tbody tr th {\n",
       "        vertical-align: top;\n",
       "    }\n",
       "\n",
       "    .dataframe thead th {\n",
       "        text-align: right;\n",
       "    }\n",
       "</style>\n",
       "<table border=\"1\" class=\"dataframe\">\n",
       "  <thead>\n",
       "    <tr style=\"text-align: right;\">\n",
       "      <th></th>\n",
       "      <th>id</th>\n",
       "      <th>name</th>\n",
       "      <th>minutes</th>\n",
       "      <th>contributor_id</th>\n",
       "      <th>submitted</th>\n",
       "      <th>n_steps</th>\n",
       "      <th>description</th>\n",
       "      <th>n_ingredients</th>\n",
       "    </tr>\n",
       "  </thead>\n",
       "  <tbody>\n",
       "    <tr>\n",
       "      <th>0</th>\n",
       "      <td>683970.0</td>\n",
       "      <td>vant ivoire mickies nothing</td>\n",
       "      <td>33.0</td>\n",
       "      <td>803776.0</td>\n",
       "      <td>2019-08-22</td>\n",
       "      <td>4.0</td>\n",
       "      <td>pat and gina neely and their family own and op...</td>\n",
       "      <td>9.0</td>\n",
       "    </tr>\n",
       "    <tr>\n",
       "      <th>1</th>\n",
       "      <td>1089012.0</td>\n",
       "      <td>kremsils mariposa baccala cookies class borage...</td>\n",
       "      <td>23.0</td>\n",
       "      <td>51579.0</td>\n",
       "      <td>2013-03-02</td>\n",
       "      <td>1.0</td>\n",
       "      <td>a light, tasty and easy to put together chicke...</td>\n",
       "      <td>5.0</td>\n",
       "    </tr>\n",
       "    <tr>\n",
       "      <th>2</th>\n",
       "      <td>1428572.0</td>\n",
       "      <td>tania lander</td>\n",
       "      <td>0.0</td>\n",
       "      <td>68884.0</td>\n",
       "      <td>1980-11-09</td>\n",
       "      <td>1.0</td>\n",
       "      <td>a delicious melt in your mouth appetizer. for ...</td>\n",
       "      <td>5.0</td>\n",
       "    </tr>\n",
       "  </tbody>\n",
       "</table>\n",
       "</div>"
      ],
      "text/plain": [
       "          id                                               name  minutes  \\\n",
       "0   683970.0                        vant ivoire mickies nothing     33.0   \n",
       "1  1089012.0  kremsils mariposa baccala cookies class borage...     23.0   \n",
       "2  1428572.0                                       tania lander      0.0   \n",
       "\n",
       "   contributor_id  submitted  n_steps  \\\n",
       "0        803776.0 2019-08-22      4.0   \n",
       "1         51579.0 2013-03-02      1.0   \n",
       "2         68884.0 1980-11-09      1.0   \n",
       "\n",
       "                                         description  n_ingredients  \n",
       "0  pat and gina neely and their family own and op...            9.0  \n",
       "1  a light, tasty and easy to put together chicke...            5.0  \n",
       "2  a delicious melt in your mouth appetizer. for ...            5.0  "
      ]
     },
     "execution_count": 2,
     "metadata": {},
     "output_type": "execute_result"
    }
   ],
   "source": [
    "recipes = dd.read_csv('recipes_full/recipes_full_*.csv', assume_missing=True, parse_dates=['submitted'])\n",
    "recipes.head(3)"
   ]
  },
  {
   "cell_type": "code",
   "execution_count": 15,
   "metadata": {},
   "outputs": [
    {
     "data": {
      "text/plain": [
       "id\n",
       "40.0          6.0\n",
       "45.0          9.0\n",
       "81.0          5.0\n",
       "153.0        12.0\n",
       "174.0         8.0\n",
       "             ... \n",
       "2231582.0     1.0\n",
       "2231605.0     6.0\n",
       "2231607.0     7.0\n",
       "2231616.0     3.0\n",
       "2231625.0     4.0\n",
       "Name: n_ingredients, Length: 2128101, dtype: float64"
      ]
     },
     "execution_count": 15,
     "metadata": {},
     "output_type": "execute_result"
    }
   ],
   "source": [
    "recipes.groupby('id')['n_ingredients'].max().compute()"
   ]
  },
  {
   "cell_type": "markdown",
   "metadata": {},
   "source": [
    "<p class=\"task\" id=\"2\"></p>\n",
    "\n",
    "2\\. Удалите строки, которые содержат пропуске в столбце `contributor_id` и приведите его тип к целочисленному. Для каждого `contributor_id` найдите топ-5 слов, которых этот пользователь наиболее часто использовал в названиях своих рецептов. Для разбиения на слова воспользуйтесь методом `.str.split`.\n",
    "\n",
    "Выведите на экран статистику для пользователя с ID 1530."
   ]
  },
  {
   "cell_type": "code",
   "execution_count": 3,
   "metadata": {},
   "outputs": [],
   "source": [
    "recipes = recipes.dropna(subset=['contributor_id'])\n",
    "recipes['contributor_id'] = recipes['contributor_id'].astype(int)"
   ]
  },
  {
   "cell_type": "code",
   "execution_count": 24,
   "metadata": {},
   "outputs": [
    {
     "data": {
      "text/plain": [
       "9                                      [tuna, fritters]\n",
       "9                                       [wafers, wight]\n",
       "12    [itches, rasberry, swai, kroketten, huzarensla...\n",
       "14    [hooper, riz, tamales, bek, appleade, burritos...\n",
       "14                                                 [li]\n",
       "Name: name, dtype: object"
      ]
     },
     "execution_count": 24,
     "metadata": {},
     "output_type": "execute_result"
    }
   ],
   "source": [
    "def f(ser):\n",
    "    ser = ''.join\n",
    "    return ser\n",
    "recipes.groupby('contributor_id')['name'].apply(f, meta={'name':str}).head()"
   ]
  },
  {
   "cell_type": "code",
   "execution_count": 61,
   "metadata": {},
   "outputs": [],
   "source": [
    "def word_count(cont_id):\n",
    "    rec = recipes[recipes['contributor_id'] == cont_id]\n",
    "    return (cont_id, rec[\"name\"].str.split().to_bag().flatten().frequencies().topk(5, key=lambda x: x[1]))"
   ]
  },
  {
   "cell_type": "code",
   "execution_count": 62,
   "metadata": {},
   "outputs": [
    {
     "data": {
      "text/plain": [
       "dask.bag<distinct-aggregate, npartitions=1>"
      ]
     },
     "execution_count": 62,
     "metadata": {},
     "output_type": "execute_result"
    }
   ],
   "source": [
    "words = recipes['contributor_id'].to_bag().distinct()\n",
    "words"
   ]
  },
  {
   "cell_type": "code",
   "execution_count": 64,
   "metadata": {},
   "outputs": [
    {
     "data": {
      "text/plain": [
       "(1530, dask.bag<topk-aggregate, npartitions=1>)"
      ]
     },
     "execution_count": 64,
     "metadata": {},
     "output_type": "execute_result"
    }
   ],
   "source": [
    "res = words.map(word_count)\n",
    "res = res.filter(lambda x: x[0] == 1530).compute()[0]\n",
    "res"
   ]
  },
  {
   "cell_type": "code",
   "execution_count": 65,
   "metadata": {},
   "outputs": [
    {
     "data": {
      "text/plain": [
       "(1530,\n",
       " [('chocolate', 7), ('muffins', 6), ('bread', 5), ('and', 4), ('whole', 3)])"
      ]
     },
     "execution_count": 65,
     "metadata": {},
     "output_type": "execute_result"
    }
   ],
   "source": [
    "res[0], res[1].compute()"
   ]
  },
  {
   "cell_type": "markdown",
   "metadata": {},
   "source": [
    "<p class=\"task\" id=\"3\"></p>\n",
    "\n",
    "3\\. В архиве `stats.zip` находятся файлы, содержащие статистику по рецептам. Загрузите данные из файлов этого архива в виде `dd.DataFrame` с названием `stats`. Объедините две таблицы `recipes` и `stats`. Для каждого рецепта посчитайте среднее количество лайков за период, начиная с даты публикации рецепта и до 1 апреля 2023 года (включительно). Выведите на экран информацию о рецепте, имеющем максимальное значение этой величины."
   ]
  },
  {
   "cell_type": "code",
   "execution_count": 4,
   "metadata": {},
   "outputs": [
    {
     "data": {
      "text/html": [
       "<div>\n",
       "<style scoped>\n",
       "    .dataframe tbody tr th:only-of-type {\n",
       "        vertical-align: middle;\n",
       "    }\n",
       "\n",
       "    .dataframe tbody tr th {\n",
       "        vertical-align: top;\n",
       "    }\n",
       "\n",
       "    .dataframe thead th {\n",
       "        text-align: right;\n",
       "    }\n",
       "</style>\n",
       "<table border=\"1\" class=\"dataframe\">\n",
       "  <thead>\n",
       "    <tr style=\"text-align: right;\">\n",
       "      <th></th>\n",
       "      <th>recipe_id</th>\n",
       "      <th>views</th>\n",
       "      <th>likes</th>\n",
       "      <th>verified</th>\n",
       "    </tr>\n",
       "  </thead>\n",
       "  <tbody>\n",
       "    <tr>\n",
       "      <th>0</th>\n",
       "      <td>1979735</td>\n",
       "      <td>3331.0</td>\n",
       "      <td>552.0</td>\n",
       "      <td>False</td>\n",
       "    </tr>\n",
       "    <tr>\n",
       "      <th>1</th>\n",
       "      <td>283100</td>\n",
       "      <td>2168.0</td>\n",
       "      <td>2699.0</td>\n",
       "      <td>False</td>\n",
       "    </tr>\n",
       "    <tr>\n",
       "      <th>2</th>\n",
       "      <td>52604</td>\n",
       "      <td>2378.0</td>\n",
       "      <td>8444.0</td>\n",
       "      <td>False</td>\n",
       "    </tr>\n",
       "    <tr>\n",
       "      <th>3</th>\n",
       "      <td>1968356</td>\n",
       "      <td>3543.0</td>\n",
       "      <td>3097.0</td>\n",
       "      <td>True</td>\n",
       "    </tr>\n",
       "    <tr>\n",
       "      <th>4</th>\n",
       "      <td>1054c1</td>\n",
       "      <td>3164.0</td>\n",
       "      <td>4782.0</td>\n",
       "      <td>True</td>\n",
       "    </tr>\n",
       "  </tbody>\n",
       "</table>\n",
       "</div>"
      ],
      "text/plain": [
       "  recipe_id   views   likes  verified\n",
       "0   1979735  3331.0   552.0     False\n",
       "1    283100  2168.0  2699.0     False\n",
       "2     52604  2378.0  8444.0     False\n",
       "3   1968356  3543.0  3097.0      True\n",
       "4    1054c1  3164.0  4782.0      True"
      ]
     },
     "execution_count": 4,
     "metadata": {},
     "output_type": "execute_result"
    }
   ],
   "source": [
    "stats = dd.read_csv('stats/stats_*.csv', assume_missing=True)\n",
    "stats.head()"
   ]
  },
  {
   "cell_type": "code",
   "execution_count": 5,
   "metadata": {},
   "outputs": [],
   "source": [
    "recipes['id'] = recipes['id'].astype(int).astype(str)\n",
    "stats['recipe_id'] = stats['recipe_id'].astype(str)\n",
    "merged = recipes.merge(stats, left_on=\"id\", right_on=\"recipe_id\")"
   ]
  },
  {
   "cell_type": "code",
   "execution_count": 56,
   "metadata": {},
   "outputs": [
    {
     "data": {
      "text/plain": [
       "56748.0"
      ]
     },
     "execution_count": 56,
     "metadata": {},
     "output_type": "execute_result"
    }
   ],
   "source": [
    "res = merged[merged['submitted']<='2023-04-01'].groupby('id')['likes'].sum()\n",
    "res.max().compute()"
   ]
  },
  {
   "cell_type": "code",
   "execution_count": 6,
   "metadata": {},
   "outputs": [],
   "source": [
    "merged['mean_likes'] = merged['likes'] / (datetime.datetime(2023, 4, 2) - merged['submitted']).dt.days  \n",
    "\n",
    "merged[merged['mean_likes'] == merged['mean_likes'].max()]"
   ]
  },
  {
   "cell_type": "markdown",
   "metadata": {},
   "source": [
    "<p class=\"task\" id=\"4\"></p>\n",
    "\n",
    "4\\. Используя `dask_sql`, выберите из таблицы `recipes` id, название и описание тех рецептов, которые были добавлены в 2010 году. Выведите полученный результат на экран в виде `pd.DataFrame`. Выведите на экран количество  рецептов, которые были добавлены в 2010 году."
   ]
  },
  {
   "cell_type": "code",
   "execution_count": 10,
   "metadata": {},
   "outputs": [],
   "source": [
    "import dask_sql\n",
    "from dask_sql import Context"
   ]
  },
  {
   "cell_type": "code",
   "execution_count": null,
   "metadata": {},
   "outputs": [],
   "source": [
    "recipes['n_ingredients']"
   ]
  },
  {
   "cell_type": "code",
   "execution_count": 11,
   "metadata": {},
   "outputs": [],
   "source": [
    "c = Context()\n",
    "c.create_table(\"Recipe\", recipes)"
   ]
  },
  {
   "cell_type": "code",
   "execution_count": 64,
   "metadata": {},
   "outputs": [
    {
     "name": "stderr",
     "output_type": "stream",
     "text": [
      "WARNING:datafusion_optimizer.optimizer:Skipping optimizer rule 'type_coercion' due to unexpected error: Error during planning: Coercion from [Timestamp(Nanosecond, None)] to the signature OneOf([Exact([Int8]), Exact([Int16]), Exact([Int32]), Exact([Int64]), Exact([UInt8]), Exact([UInt16]), Exact([UInt32]), Exact([UInt64]), Exact([Float16]), Exact([Float32]), Exact([Float64])]) failed.\n",
      "WARNING:datafusion_optimizer.optimizer:Skipping optimizer rule 'type_coercion' due to unexpected error: Error during planning: Coercion from [Timestamp(Nanosecond, None)] to the signature OneOf([Exact([Int8]), Exact([Int16]), Exact([Int32]), Exact([Int64]), Exact([UInt8]), Exact([UInt16]), Exact([UInt32]), Exact([UInt64]), Exact([Float16]), Exact([Float32]), Exact([Float64])]) failed.\n"
     ]
    },
    {
     "data": {
      "text/html": [
       "<div>\n",
       "<style scoped>\n",
       "    .dataframe tbody tr th:only-of-type {\n",
       "        vertical-align: middle;\n",
       "    }\n",
       "\n",
       "    .dataframe tbody tr th {\n",
       "        vertical-align: top;\n",
       "    }\n",
       "\n",
       "    .dataframe thead th {\n",
       "        text-align: right;\n",
       "    }\n",
       "</style>\n",
       "<table border=\"1\" class=\"dataframe\">\n",
       "  <thead>\n",
       "    <tr style=\"text-align: right;\">\n",
       "      <th></th>\n",
       "      <th>id</th>\n",
       "      <th>name</th>\n",
       "    </tr>\n",
       "  </thead>\n",
       "  <tbody>\n",
       "    <tr>\n",
       "      <th>8</th>\n",
       "      <td>818815</td>\n",
       "      <td>beirox dalmation gittle rougeux</td>\n",
       "    </tr>\n",
       "    <tr>\n",
       "      <th>379</th>\n",
       "      <td>380095</td>\n",
       "      <td>shabbos sourest includes chevops schelvisch en...</td>\n",
       "    </tr>\n",
       "    <tr>\n",
       "      <th>381</th>\n",
       "      <td>1006702</td>\n",
       "      <td>stitch frisch roses oranged levana</td>\n",
       "    </tr>\n",
       "    <tr>\n",
       "      <th>388</th>\n",
       "      <td>1519209</td>\n",
       "      <td>gingernuts anconetana reuben</td>\n",
       "    </tr>\n",
       "    <tr>\n",
       "      <th>407</th>\n",
       "      <td>438167</td>\n",
       "      <td>deep chocolate   pistachio brownies</td>\n",
       "    </tr>\n",
       "  </tbody>\n",
       "</table>\n",
       "</div>"
      ],
      "text/plain": [
       "          id                                               name\n",
       "8     818815                    beirox dalmation gittle rougeux\n",
       "379   380095  shabbos sourest includes chevops schelvisch en...\n",
       "381  1006702                 stitch frisch roses oranged levana\n",
       "388  1519209                       gingernuts anconetana reuben\n",
       "407   438167                deep chocolate   pistachio brownies"
      ]
     },
     "execution_count": 64,
     "metadata": {},
     "output_type": "execute_result"
    }
   ],
   "source": [
    "answer = c.sql('''\n",
    "SELECT id, name, description\n",
    "FROM Recipe\n",
    "WHERE YEAR(submitted) = 2010\n",
    "''')\n",
    "answer.head(npartitions=-1)"
   ]
  },
  {
   "cell_type": "code",
   "execution_count": 65,
   "metadata": {},
   "outputs": [
    {
     "data": {
      "text/plain": [
       "50839"
      ]
     },
     "execution_count": 65,
     "metadata": {},
     "output_type": "execute_result"
    }
   ],
   "source": [
    "len(answer)"
   ]
  },
  {
   "cell_type": "markdown",
   "metadata": {},
   "source": [
    "<p class=\"task\" id=\"5\"></p>\n",
    "\n",
    "5\\. Создайте функцию `get_recipe_types`, которая определяет сложность рецепта по следующему правилу: если кол-во ингредиентов не больше 5, то рецепт простой (\"easy\"); если не кол-во ингредиентов не больше 15, то рецепт средней сложности (\"medium\"); иначе рецепт является сложным (\"hard\"). \n",
    "\n",
    "```python\n",
    "def get_type(ingredients: int) -> str:\n",
    "    pass\n",
    "```\n",
    "\n",
    "Зарегистрируйте эту функцию для применения в SQL-запросе."
   ]
  },
  {
   "cell_type": "code",
   "execution_count": 12,
   "metadata": {},
   "outputs": [],
   "source": [
    "def get_type(ingredients: int) -> str:\n",
    "    def pr(num):\n",
    "        if num <= 5.0:\n",
    "            return \"easy\"\n",
    "        if 5 < num <= 15.0:\n",
    "            return \"medium\"\n",
    "        else:\n",
    "            return \"hard\"\n",
    "    return ingredients.map(pr)"
   ]
  },
  {
   "cell_type": "code",
   "execution_count": 13,
   "metadata": {},
   "outputs": [],
   "source": [
    "c.register_function(\n",
    "    get_type,\n",
    "    \"get_type\",\n",
    "    [(\"ingredients\", float)],\n",
    "    str\n",
    ")"
   ]
  },
  {
   "cell_type": "markdown",
   "metadata": {},
   "source": [
    "<p class=\"task\" id=\"6\"></p>\n",
    "\n",
    "6\\. Используя `dask_sql`, посчитайте количество рецептов с группировкой по их типу (простой, средний или сложный). Для определения типа рецепта в SQL-запросе воспользуйтесь функцией, зарегистрированной в предыдущем задании. Выведите на экран в виде серии с индексами \"easy\", \"medium\" и \"hard\". "
   ]
  },
  {
   "cell_type": "code",
   "execution_count": 39,
   "metadata": {},
   "outputs": [],
   "source": [
    "ans = c.sql(\"\"\"\n",
    "SELECT COUNT(id) as counted_id, type FROM\n",
    "    (SELECT id, get_type(n_ingredients) as type FROM Recipe) \n",
    "    GROUP BY type\n",
    "\"\"\").compute()"
   ]
  },
  {
   "cell_type": "code",
   "execution_count": 50,
   "metadata": {},
   "outputs": [
    {
     "data": {
      "text/html": [
       "<div>\n",
       "<style scoped>\n",
       "    .dataframe tbody tr th:only-of-type {\n",
       "        vertical-align: middle;\n",
       "    }\n",
       "\n",
       "    .dataframe tbody tr th {\n",
       "        vertical-align: top;\n",
       "    }\n",
       "\n",
       "    .dataframe thead th {\n",
       "        text-align: right;\n",
       "    }\n",
       "</style>\n",
       "<table border=\"1\" class=\"dataframe\">\n",
       "  <thead>\n",
       "    <tr style=\"text-align: right;\">\n",
       "      <th></th>\n",
       "      <th>counted_id</th>\n",
       "    </tr>\n",
       "    <tr>\n",
       "      <th>type</th>\n",
       "      <th></th>\n",
       "    </tr>\n",
       "  </thead>\n",
       "  <tbody>\n",
       "    <tr>\n",
       "      <th>medium</th>\n",
       "      <td>1067731</td>\n",
       "    </tr>\n",
       "    <tr>\n",
       "      <th>easy</th>\n",
       "      <td>1151285</td>\n",
       "    </tr>\n",
       "    <tr>\n",
       "      <th>hard</th>\n",
       "      <td>12621</td>\n",
       "    </tr>\n",
       "  </tbody>\n",
       "</table>\n",
       "</div>"
      ],
      "text/plain": [
       "        counted_id\n",
       "type              \n",
       "medium     1067731\n",
       "easy       1151285\n",
       "hard         12621"
      ]
     },
     "execution_count": 50,
     "metadata": {},
     "output_type": "execute_result"
    }
   ],
   "source": [
    "ans.set_index('type')"
   ]
  },
  {
   "cell_type": "markdown",
   "metadata": {},
   "source": [
    "<p class=\"task\" id=\"7\"></p>\n",
    "\n",
    "7\\. Используя `dask_sql`, объедините таблицы и посчитайте и выведите на экран, сколько рецептов являются верифицированными и не верифицированными. Если информация о верификации рецепта отсутствует, то считайте его не верифицированным. Вся логика подсчета значений должна быть реализована в виде запроса на языке SQL."
   ]
  },
  {
   "cell_type": "code",
   "execution_count": 53,
   "metadata": {},
   "outputs": [],
   "source": [
    "c.create_table(\"Stat\", stats)"
   ]
  },
  {
   "cell_type": "code",
   "execution_count": 60,
   "metadata": {},
   "outputs": [
    {
     "name": "stderr",
     "output_type": "stream",
     "text": [
      "WARNING:datafusion_optimizer.optimizer:Skipping optimizer rule 'type_coercion' due to unexpected error: Error during planning: 'Boolean = Int64' can't be evaluated because there isn't a common type to coerce the types to\n",
      "WARNING:datafusion_optimizer.optimizer:Skipping optimizer rule 'common_sub_expression_eliminate' due to unexpected error: Error during planning: 'Boolean = Int64' can't be evaluated because there isn't a common type to coerce the types to\n",
      "WARNING:datafusion_optimizer.optimizer:Skipping optimizer rule 'type_coercion' due to unexpected error: Error during planning: 'Boolean = Int64' can't be evaluated because there isn't a common type to coerce the types to\n"
     ]
    },
    {
     "data": {
      "text/html": [
       "<div>\n",
       "<style scoped>\n",
       "    .dataframe tbody tr th:only-of-type {\n",
       "        vertical-align: middle;\n",
       "    }\n",
       "\n",
       "    .dataframe tbody tr th {\n",
       "        vertical-align: top;\n",
       "    }\n",
       "\n",
       "    .dataframe thead th {\n",
       "        text-align: right;\n",
       "    }\n",
       "</style>\n",
       "<table border=\"1\" class=\"dataframe\">\n",
       "  <thead>\n",
       "    <tr style=\"text-align: right;\">\n",
       "      <th></th>\n",
       "      <th>count_verified</th>\n",
       "    </tr>\n",
       "  </thead>\n",
       "  <tbody>\n",
       "    <tr>\n",
       "      <th>0</th>\n",
       "      <td>443936</td>\n",
       "    </tr>\n",
       "  </tbody>\n",
       "</table>\n",
       "</div>"
      ],
      "text/plain": [
       "   count_verified\n",
       "0          443936"
      ]
     },
     "execution_count": 60,
     "metadata": {},
     "output_type": "execute_result"
    }
   ],
   "source": [
    "c.sql(\"\"\"\n",
    "SELECT COUNT(*) as count_verified\n",
    "FROM Recipe\n",
    "JOIN Stat ON Stat.recipe_id = Recipe.id\n",
    "WHERE Stat.verified = 1\n",
    "\"\"\").compute()"
   ]
  },
  {
   "cell_type": "markdown",
   "metadata": {},
   "source": [
    "<p class=\"task\" id=\"8\"></p>\n",
    "\n",
    "8\\. В файлах архива `site_logs.zip` находятся логи системы. Считайте эти логи в виде `dask.bag`, выделите их них дату, время, id службы, уровень лога и сообщение. Объедините дату и время в одну строку в формате \"ГГГГММДД ЧЧММСС\". В итоге каждый элемент `Bag` должен представлять собой словарь с ключами `datetime`, `service_id`, `msg`, `level`.\n",
    "\n",
    "Преобразуйте `dask.bag` в `dask.dataframe`, предварительно оставив только логи уровня \"INFO\". Подтвердите корректность решения, выведя на экран уникальные значения столбца `level` полученной таблицы.\n",
    "\n",
    "```\n",
    "date(ymd)   time(HMS)   service_id level   msg\n",
    "081110      103041      34         INFO    dfs.FSNamesystem: BLOCK* NameSystem.delete: ...\n",
    "```"
   ]
  },
  {
   "cell_type": "code",
   "execution_count": 2,
   "metadata": {},
   "outputs": [],
   "source": [
    "import dask.bag as db"
   ]
  },
  {
   "cell_type": "code",
   "execution_count": 3,
   "metadata": {},
   "outputs": [
    {
     "data": {
      "text/plain": [
       "('081109 203518 143 INFO dfs.DataNode$DataXceiver: Receiving block blk_-1608999687919862906 src: /10.250.19.102:54106 dest: /10.250.19.102:50010\\n',\n",
       " '081109 203518 35 INFO dfs.FSNamesystem: BLOCK* NameSystem.allocateBlock: /mnt/hadoop/mapred/system/job_200811092030_0001/job.jar. blk_-1608999687919862906\\n',\n",
       " '081109 203519 143 INFO dfs.DataNode$DataXceiver: Receiving block blk_-1608999687919862906 src: /10.250.10.6:40524 dest: /10.250.10.6:50010\\n',\n",
       " '081109 203519 145 INFO dfs.DataNode$DataXceiver: Receiving block blk_-1608999687919862906 src: /10.250.14.224:42420 dest: /10.250.14.224:50010\\n',\n",
       " '081109 203519 145 INFO dfs.DataNode$PacketResponder: PacketResponder 1 for block blk_-1608999687919862906 terminating\\n')"
      ]
     },
     "execution_count": 3,
     "metadata": {},
     "output_type": "execute_result"
    }
   ],
   "source": [
    "bag = db.read_text('site_logs/logs_*')\n",
    "bag.take(5)"
   ]
  },
  {
   "cell_type": "code",
   "execution_count": 4,
   "metadata": {},
   "outputs": [],
   "source": [
    "def f8(line):\n",
    "    line = line.strip().split()\n",
    "    date = '20' + line[0] + ' ' + line[1]\n",
    "    msg = ''.join(line[3:])\n",
    "    return dict(zip(['datetime', 'service_id', 'level', 'msg'],[date, line[2], line[3], msg]))"
   ]
  },
  {
   "cell_type": "code",
   "execution_count": 5,
   "metadata": {},
   "outputs": [
    {
     "data": {
      "text/plain": [
       "({'datetime': '20081109 203518',\n",
       "  'service_id': '143',\n",
       "  'level': 'INFO',\n",
       "  'msg': 'INFOdfs.DataNode$DataXceiver:Receivingblockblk_-1608999687919862906src:/10.250.19.102:54106dest:/10.250.19.102:50010'},)"
      ]
     },
     "execution_count": 5,
     "metadata": {},
     "output_type": "execute_result"
    }
   ],
   "source": [
    "bag = bag.map(f8)\n",
    "bag.take(1)"
   ]
  },
  {
   "cell_type": "code",
   "execution_count": 6,
   "metadata": {},
   "outputs": [
    {
     "data": {
      "text/html": [
       "<div>\n",
       "<style scoped>\n",
       "    .dataframe tbody tr th:only-of-type {\n",
       "        vertical-align: middle;\n",
       "    }\n",
       "\n",
       "    .dataframe tbody tr th {\n",
       "        vertical-align: top;\n",
       "    }\n",
       "\n",
       "    .dataframe thead th {\n",
       "        text-align: right;\n",
       "    }\n",
       "</style>\n",
       "<table border=\"1\" class=\"dataframe\">\n",
       "  <thead>\n",
       "    <tr style=\"text-align: right;\">\n",
       "      <th></th>\n",
       "      <th>datetime</th>\n",
       "      <th>service_id</th>\n",
       "      <th>level</th>\n",
       "      <th>msg</th>\n",
       "    </tr>\n",
       "  </thead>\n",
       "  <tbody>\n",
       "    <tr>\n",
       "      <th>0</th>\n",
       "      <td>20081109 203518</td>\n",
       "      <td>143</td>\n",
       "      <td>INFO</td>\n",
       "      <td>INFOdfs.DataNode$DataXceiver:Receivingblockblk...</td>\n",
       "    </tr>\n",
       "    <tr>\n",
       "      <th>1</th>\n",
       "      <td>20081109 203518</td>\n",
       "      <td>35</td>\n",
       "      <td>INFO</td>\n",
       "      <td>INFOdfs.FSNamesystem:BLOCK*NameSystem.allocate...</td>\n",
       "    </tr>\n",
       "    <tr>\n",
       "      <th>2</th>\n",
       "      <td>20081109 203519</td>\n",
       "      <td>143</td>\n",
       "      <td>INFO</td>\n",
       "      <td>INFOdfs.DataNode$DataXceiver:Receivingblockblk...</td>\n",
       "    </tr>\n",
       "    <tr>\n",
       "      <th>3</th>\n",
       "      <td>20081109 203519</td>\n",
       "      <td>145</td>\n",
       "      <td>INFO</td>\n",
       "      <td>INFOdfs.DataNode$DataXceiver:Receivingblockblk...</td>\n",
       "    </tr>\n",
       "    <tr>\n",
       "      <th>4</th>\n",
       "      <td>20081109 203519</td>\n",
       "      <td>145</td>\n",
       "      <td>INFO</td>\n",
       "      <td>INFOdfs.DataNode$PacketResponder:PacketRespond...</td>\n",
       "    </tr>\n",
       "  </tbody>\n",
       "</table>\n",
       "</div>"
      ],
      "text/plain": [
       "          datetime service_id level  \\\n",
       "0  20081109 203518        143  INFO   \n",
       "1  20081109 203518         35  INFO   \n",
       "2  20081109 203519        143  INFO   \n",
       "3  20081109 203519        145  INFO   \n",
       "4  20081109 203519        145  INFO   \n",
       "\n",
       "                                                 msg  \n",
       "0  INFOdfs.DataNode$DataXceiver:Receivingblockblk...  \n",
       "1  INFOdfs.FSNamesystem:BLOCK*NameSystem.allocate...  \n",
       "2  INFOdfs.DataNode$DataXceiver:Receivingblockblk...  \n",
       "3  INFOdfs.DataNode$DataXceiver:Receivingblockblk...  \n",
       "4  INFOdfs.DataNode$PacketResponder:PacketRespond...  "
      ]
     },
     "execution_count": 6,
     "metadata": {},
     "output_type": "execute_result"
    }
   ],
   "source": [
    "df = bag.filter(\n",
    "    lambda x: x['level']=='INFO'\n",
    ").to_dataframe(\n",
    "    meta={'datetime':str, 'service_id':str, 'level':str, 'msg':str}\n",
    ")\n",
    "df.head(npartitions=-1)"
   ]
  },
  {
   "cell_type": "code",
   "execution_count": 10,
   "metadata": {},
   "outputs": [
    {
     "data": {
      "text/plain": [
       "0    INFO\n",
       "Name: level, dtype: object"
      ]
     },
     "execution_count": 10,
     "metadata": {},
     "output_type": "execute_result"
    }
   ],
   "source": [
    "df['level'].unique().compute()"
   ]
  },
  {
   "cell_type": "markdown",
   "metadata": {},
   "source": [
    "<p class=\"task\" id=\"9\"></p>\n",
    "\n",
    "9\\. Добавьте в таблицу из предыдущего задания столбец `is_delete_op`, который содержит флаг: является ли данная операция удалением чего-либо или нет. Для выяснения этого факта проанализизируйте сообщение лога. \n",
    "\n",
    "Для каждого лога подсчитайте, сколько из записанных перед ним последних 100 логов являются операциями удаления. Для вычислений используйте метод `map_overlap`. Посчитайте и выведите на экран, сколько существует подпоследовательностей длины 100, состоящих не менее чем из 75 сообщений, содержащих операции удаления."
   ]
  },
  {
   "cell_type": "code",
   "execution_count": 7,
   "metadata": {},
   "outputs": [],
   "source": [
    "df['is_delete_op'] = df['msg'].str.contains('delete').astype(int)"
   ]
  },
  {
   "cell_type": "code",
   "execution_count": 8,
   "metadata": {},
   "outputs": [
    {
     "data": {
      "text/plain": [
       "1384650"
      ]
     },
     "execution_count": 8,
     "metadata": {},
     "output_type": "execute_result"
    }
   ],
   "source": [
    "res = df['is_delete_op'].map_overlap(lambda part: part.rolling(100).sum(), 0, 1)\n",
    "res[res >= 75].size.compute()"
   ]
  },
  {
   "cell_type": "markdown",
   "metadata": {},
   "source": [
    "<p class=\"task\" id=\"10\"></p>\n",
    "\n",
    "10\\. Сгруппируйте таблицу с логами по часу, в котором был оставлен лог. Под часом имеется в виду час конкретного дня, то связь связка год-месяц-день-час.  Посчитайте, сколько логов было записано за каждый час. Визуализируйте полученную динамику. Добавьте подписи засечек, подписи осей и название рисунка."
   ]
  },
  {
   "cell_type": "code",
   "execution_count": 16,
   "metadata": {},
   "outputs": [],
   "source": [
    "df['datetime'] = dd.to_datetime(df['datetime'], format='%Y%m%d %H%M%S')\n",
    "grouped = df.set_index('datetime').resample('H')\n",
    "counted = grouped.count().compute()"
   ]
  },
  {
   "cell_type": "code",
   "execution_count": 38,
   "metadata": {},
   "outputs": [
    {
     "data": {
      "text/html": [
       "<div>\n",
       "<style scoped>\n",
       "    .dataframe tbody tr th:only-of-type {\n",
       "        vertical-align: middle;\n",
       "    }\n",
       "\n",
       "    .dataframe tbody tr th {\n",
       "        vertical-align: top;\n",
       "    }\n",
       "\n",
       "    .dataframe thead th {\n",
       "        text-align: right;\n",
       "    }\n",
       "</style>\n",
       "<table border=\"1\" class=\"dataframe\">\n",
       "  <thead>\n",
       "    <tr style=\"text-align: right;\">\n",
       "      <th></th>\n",
       "      <th>service_id</th>\n",
       "      <th>level</th>\n",
       "      <th>msg</th>\n",
       "      <th>is_delete_op</th>\n",
       "    </tr>\n",
       "    <tr>\n",
       "      <th>datetime</th>\n",
       "      <th></th>\n",
       "      <th></th>\n",
       "      <th></th>\n",
       "      <th></th>\n",
       "    </tr>\n",
       "  </thead>\n",
       "  <tbody>\n",
       "    <tr>\n",
       "      <th>2008-11-09 20:00:00</th>\n",
       "      <td>188715</td>\n",
       "      <td>188715</td>\n",
       "      <td>188715</td>\n",
       "      <td>188715</td>\n",
       "    </tr>\n",
       "    <tr>\n",
       "      <th>2008-11-09 21:00:00</th>\n",
       "      <td>307477</td>\n",
       "      <td>307477</td>\n",
       "      <td>307477</td>\n",
       "      <td>307477</td>\n",
       "    </tr>\n",
       "    <tr>\n",
       "      <th>2008-11-09 22:00:00</th>\n",
       "      <td>24344</td>\n",
       "      <td>24344</td>\n",
       "      <td>24344</td>\n",
       "      <td>24344</td>\n",
       "    </tr>\n",
       "    <tr>\n",
       "      <th>2008-11-09 23:00:00</th>\n",
       "      <td>267017</td>\n",
       "      <td>267017</td>\n",
       "      <td>267017</td>\n",
       "      <td>267017</td>\n",
       "    </tr>\n",
       "    <tr>\n",
       "      <th>2008-11-10 00:00:00</th>\n",
       "      <td>177398</td>\n",
       "      <td>177398</td>\n",
       "      <td>177398</td>\n",
       "      <td>177398</td>\n",
       "    </tr>\n",
       "  </tbody>\n",
       "</table>\n",
       "</div>"
      ],
      "text/plain": [
       "                     service_id   level     msg  is_delete_op\n",
       "datetime                                                     \n",
       "2008-11-09 20:00:00      188715  188715  188715        188715\n",
       "2008-11-09 21:00:00      307477  307477  307477        307477\n",
       "2008-11-09 22:00:00       24344   24344   24344         24344\n",
       "2008-11-09 23:00:00      267017  267017  267017        267017\n",
       "2008-11-10 00:00:00      177398  177398  177398        177398"
      ]
     },
     "execution_count": 38,
     "metadata": {},
     "output_type": "execute_result"
    }
   ],
   "source": [
    "counted.head()"
   ]
  },
  {
   "cell_type": "code",
   "execution_count": 18,
   "metadata": {},
   "outputs": [],
   "source": [
    "import matplotlib.pyplot as plt"
   ]
  },
  {
   "cell_type": "code",
   "execution_count": 37,
   "metadata": {},
   "outputs": [
    {
     "data": {
      "image/png": "[encoded data removed]",
      "text/plain": [
       "<Figure size 864x432 with 1 Axes>"
      ]
     },
     "metadata": {
      "needs_background": "light"
     },
     "output_type": "display_data"
    }
   ],
   "source": [
    "fig, ax = plt.subplots(figsize=(12, 6)) # задаем размер фигуры\n",
    "counted.plot(kind='bar', y='service_id', ax=ax, fontsize=12)\n",
    "\n",
    "ax.set_xlabel('Date and Hour')\n",
    "ax.set_ylabel('Counts')\n",
    "ax.set_title('Number of logs per hour')\n",
    "ax.tick_params(axis='x', labelrotation=45)"
   ]
  },
  {
   "cell_type": "code",
   "execution_count": null,
   "metadata": {},
   "outputs": [],
   "source": []
  }
 ],
 "metadata": {
  "kernelspec": {
   "display_name": "Python 3 (ipykernel)",
   "language": "python",
   "name": "python3"
  },
  "language_info": {
   "codemirror_mode": {
    "name": "ipython",
    "version": 3
   },
   "file_extension": ".py",
   "mimetype": "text/x-python",
   "name": "python",
   "nbconvert_exporter": "python",
   "pygments_lexer": "ipython3",
   "version": "3.9.12"
  }
 },
 "nbformat": 4,
 "nbformat_minor": 4
}
