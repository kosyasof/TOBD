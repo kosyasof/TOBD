{
 "cells": [
  {
   "cell_type": "markdown",
   "id": "34ba1b39",
   "metadata": {},
   "source": [
    "Источник: http://books.toscrape.com/\n",
    "\n",
    "1. Напишите функцию, которая парсит одну страницу с книгой. Функция принимает на вход URL, возвращает словарь со всей информацией о книге (включая количество звездочек, ссылку на изображение, доступное количество и жанр). В случае 404 ошибки возбудите ValueError \n",
    "2. Напишите функцию, которая обрабатывает одну страницу из каталога книг (возвращает список словарей по каждой из книг).\n",
    "3. Создайте массив NumPy, содержащий информацию о ценах книг. Магазин вводит скидку 15% на все книги. Найдите минимальную цену книги после введения скидки\n",
    "4. Создайте массив NumPy, содержащий информацию о количестве книг. Посчитайте общую выручку, которую магазин получит, продав все книги\n",
    "5. Создайте массив NumPy с закодированными значениями жанра. Магазин вводит скидку на каждый жанр по отдельной. Создайте массив NumPy со значениями скидок (размер массива зависит от кол-ва жанров в выборке). Примените скидку к каждой книге в зависимости от жанра.\n",
    "6. Соберите словарь вида {жанр: список книг жанра}. Сохраните словарь в формат JSON. Прочитайте файл.\n",
    "7. Соберите кортеж из двух элементов (список книг, облагаемых налогами; список книг, не облагаемых налогами). Сохраните кортеж в формат Pickle. Считайте файл.\n",
    "8. Создайте pd.DataFrame, содержащий всю полученную информацию о книгах. Сохраните его в файл xlsx.\n",
    "9. При помощи xlwings добавьте в xlsx файл столбец с ценой в рублях. Используйте протягиваемые формулы. Курс зафиксируйте на отдельном листе.\n",
    "10. При помощи xlwings раскрасьте столбец с названием книги. Если в наличии более 20 книг, сделайте заливку зеленым, иначе - желтым.\n",
    "11. Напишите функцию, которая извлекает из текстов описаний имена собственные. Имя собственное - это слово, начинающееся с заглавной буквы и за которым следует одна или несколько строчных букв. \n",
    "12. Представьте каждое описание в виде вектора при помощи TfidfVectorizer. Для каждой пары описаний посчитайте косинусную близость между ними. Визуализируйте результат в виде heatmap.\n",
    "13. Найдите собственные числа матрицы косинусной близости. Найдите разность между максимальным и минимальным собственным значением. \n",
    "14. Используя pandas, найдите самую дорогую книгу в каждом из жанров\n",
    "15. Используя pandas, разбейте книги на 3 ценовые категории. Для каждой категории посчитайте количество книг с разбивкой по рейтингам.\n",
    "16. Сохраните данные о книгах в БД sqlite3. Напишите функцию, которая по введенному пользователем названию жанра возвращает кол-во книг в этом жанре.\n",
    "17. Напишите функцию, которая добавляет новую запись в таблицу. Продемонстрируйте результат\n",
    "18. Воспользовавшись модулем multiprocessing, соберите информацию о всех книгах с сайта (распаралелльте вычисления по страницам каталога)\n",
    "18. Воспользовавшись dask.delayed, скачайте изображения книг с сайта (распаралелльте вычисления по страницам каталога) (использование Dask должно приводить к истинной параллельной обработке данных).\n",
    "19. Сохраните информацию о книгах в формате JSONl с разбивкой на файлы по жанрам.\n",
    "20. Считайте данные в виде Dask Bag. Посчитайте, для скольких книг описание имеет больше 10 предложений. Выполните задание с использованием dask.bag, распараллелив процесс обработки данных (использование Dask должно приводить к истинной параллельной обработке данных).\n",
    "21. Сохраните данные о книгах в виде нескольких csv-файлов. Считайте их в виде Dask DataFrame. Выясните, есть ли в датасете книги, на которые оставили хоть один отзыв\n",
    "22. Посчитайте кол-во обложек книг, которые по ширине больше, чем по длине. Разбейте весь набор файлов на 4 группы и выполните обработку в 4 процесса."
   ]
  },
  {
   "cell_type": "markdown",
   "id": "af4adc0a",
   "metadata": {},
   "source": [
    "1. Напишите функцию, которая парсит одну страницу с книгой. Функция принимает на вход URL, возвращает словарь со всей информацией о книге (включая количество звездочек, ссылку на изображение, доступное количество и жанр). В случае 404 ошибки возбудите ValueError"
   ]
  },
  {
   "cell_type": "code",
   "execution_count": 1,
   "id": "426bfeec",
   "metadata": {},
   "outputs": [],
   "source": [
    "#1\n",
    "import requests\n",
    "from bs4 import BeautifulSoup as bs"
   ]
  },
  {
   "cell_type": "code",
   "execution_count": 2,
   "id": "a3506c32",
   "metadata": {},
   "outputs": [],
   "source": [
    "def parse_book(url):\n",
    "    d = {}\n",
    "    req = requests.get(url)\n",
    "    content = bs(req.text, 'lxml')\n",
    "    if req.status_code != \"404\":\n",
    "        inf = list(\n",
    "                map(\n",
    "                lambda x: x.text.strip(),\n",
    "                content.find(\"ul\", {\"class\":\"breadcrumb\"}).find_all(\"li\")\n",
    "                )\n",
    "            )\n",
    "        d[\"title\"] = inf[-1]\n",
    "        d[\"genre\"] = inf[2]\n",
    "        d[\"description\"] = content.find(\"meta\", {\"name\":\"description\"})[\"content\"].strip()\n",
    "        d[\"img\"] = content.find(\"div\", class_=\"item active\").find(\"img\")[\"src\"]\n",
    "        d[\"stars\"] = content.find(\"p\", class_=\"star-rating\")[\"class\"][1]\n",
    "        inf2 = dict(\n",
    "                    zip(\n",
    "                        map(\n",
    "                            lambda x: x.text,\n",
    "                            content.find(\"table\", class_=\"table table-striped\").find_all(\"th\")\n",
    "                           ),\n",
    "                        map(\n",
    "                            lambda x: x.text,\n",
    "                            content.find(\"table\", class_=\"table table-striped\").find_all(\"td\")\n",
    "                            )\n",
    "                    )\n",
    "                )\n",
    "        d.update(inf2)\n",
    "    else:\n",
    "        raise ValueError\n",
    "    return d"
   ]
  },
  {
   "cell_type": "markdown",
   "id": "a2734aa9",
   "metadata": {},
   "source": [
    "2. Напишите функцию, которая обрабатывает одну страницу из каталога книг (возвращает список словарей по каждой из книг)."
   ]
  },
  {
   "cell_type": "code",
   "execution_count": 3,
   "id": "03169ec8",
   "metadata": {},
   "outputs": [],
   "source": [
    "def parse_page(url):\n",
    "    lst = []\n",
    "    req = requests.get(url)\n",
    "    content = bs(req.text, 'lxml')\n",
    "    links = list(map(\n",
    "        lambda x: \"http://books.toscrape.com/\" + x.find(\"a\")[\"href\"],\n",
    "        content.find(\"ol\", class_=\"row\").find_all(\"div\", class_=\"image_container\")))\n",
    "    for link in links:\n",
    "        lst.append(parse_book(link))\n",
    "    return lst"
   ]
  },
  {
   "cell_type": "code",
   "execution_count": 4,
   "id": "226c51f6",
   "metadata": {},
   "outputs": [],
   "source": [
    "url = \"http://books.toscrape.com/\"\n",
    "books = parse_page(url)"
   ]
  },
  {
   "cell_type": "markdown",
   "id": "01059b69",
   "metadata": {},
   "source": [
    "3. Создайте массив NumPy, содержащий информацию о ценах книг. Магазин вводит скидку 15% на все книги. Найдите минимальную цену книги после введения скидки"
   ]
  },
  {
   "cell_type": "code",
   "execution_count": 5,
   "id": "f0398827",
   "metadata": {},
   "outputs": [],
   "source": [
    "import re\n",
    "import numpy as np"
   ]
  },
  {
   "cell_type": "code",
   "execution_count": 6,
   "id": "cc38f1eb",
   "metadata": {},
   "outputs": [],
   "source": [
    "prices = np.array(list(map(lambda x: float(re.findall(r'\\d+\\.?\\d+', x[\"Price (excl. tax)\"])[0]), books)))"
   ]
  },
  {
   "cell_type": "code",
   "execution_count": 7,
   "id": "054b270c",
   "metadata": {},
   "outputs": [
    {
     "data": {
      "text/plain": [
       "11.8915"
      ]
     },
     "execution_count": 7,
     "metadata": {},
     "output_type": "execute_result"
    }
   ],
   "source": [
    "min(prices * 0.85)"
   ]
  },
  {
   "cell_type": "markdown",
   "id": "d7eabf09",
   "metadata": {},
   "source": [
    "4. Создайте массив NumPy, содержащий информацию о количестве книг. Посчитайте общую выручку, которую магазин получит, продав все книги"
   ]
  },
  {
   "cell_type": "code",
   "execution_count": 8,
   "id": "a93494b1",
   "metadata": {},
   "outputs": [],
   "source": [
    "availability = np.array(list(map(\n",
    "    lambda x: int(re.findall(r'\\d+', x[\"Availability\"])[0]),\n",
    "    books\n",
    ")))"
   ]
  },
  {
   "cell_type": "code",
   "execution_count": 9,
   "id": "7666afb8",
   "metadata": {},
   "outputs": [
    {
     "data": {
      "text/plain": [
       "14819.630000000001"
      ]
     },
     "execution_count": 9,
     "metadata": {},
     "output_type": "execute_result"
    }
   ],
   "source": [
    "sum(availability * prices)"
   ]
  },
  {
   "cell_type": "markdown",
   "id": "db87d0f8",
   "metadata": {},
   "source": [
    "5. Создайте массив NumPy с закодированными значениями жанра. Магазин вводит скидку на каждый жанр по отдельной. Создайте массив NumPy со значениями скидок (размер массива зависит от кол-ва жанров в выборке). Примените скидку к каждой книге в зависимости от жанра."
   ]
  },
  {
   "cell_type": "code",
   "execution_count": 108,
   "id": "2d5a2e8a",
   "metadata": {},
   "outputs": [
    {
     "data": {
      "text/plain": [
       "array([ 2, 13, 13,  3, 11, 12,  6,  9, 11, 12,  6,  9, 12])"
      ]
     },
     "execution_count": 108,
     "metadata": {},
     "output_type": "execute_result"
    }
   ],
   "source": [
    "genres = np.array(list(map(lambda x: x[\"genre\"], books))) # все жанры\n",
    "genres_set = set(genres) # множество жанров\n",
    "mask = np.arange(0, len(genres_set)) # маска \n",
    "dic = dict(zip(genres_set, mask)) # словарь кодировки\n",
    "genres_coded = list(map(lambda x: dic[x], genres))\n",
    "discount = np.random.randint(1, len(genres_set)+1, len(genres_set))\n",
    "discount"
   ]
  },
  {
   "cell_type": "code",
   "execution_count": 109,
   "id": "311910f3",
   "metadata": {},
   "outputs": [
    {
     "data": {
      "text/plain": [
       "[2, 12, 4, 6, 5, 3, 8, 7, 7, 2, 7, 2, 3, 9, 10, 10, 2, 1, 11, 0]"
      ]
     },
     "execution_count": 109,
     "metadata": {},
     "output_type": "execute_result"
    }
   ],
   "source": [
    "genres_coded"
   ]
  },
  {
   "cell_type": "code",
   "execution_count": 111,
   "id": "cfed4642",
   "metadata": {},
   "outputs": [
    {
     "data": {
      "text/plain": [
       "array([13, 12, 11,  6, 12,  3, 11,  9,  9, 13,  9, 13,  3, 12,  6,  6, 13,\n",
       "       13,  9,  2])"
      ]
     },
     "execution_count": 111,
     "metadata": {},
     "output_type": "execute_result"
    }
   ],
   "source": [
    "discount[genres_coded]"
   ]
  },
  {
   "cell_type": "code",
   "execution_count": 110,
   "id": "77cffb8d",
   "metadata": {},
   "outputs": [
    {
     "data": {
      "text/plain": [
       "array([45.0399, 47.2912, 44.589 , 44.9508, 47.7224, 21.9705, 29.6726,\n",
       "       16.3163, 20.566 , 45.3705, 12.7309, 17.9742, 16.9362, 46.0152,\n",
       "       32.9188, 53.815 , 20.7756, 32.7033, 46.7103, 44.2666])"
      ]
     },
     "execution_count": 110,
     "metadata": {},
     "output_type": "execute_result"
    }
   ],
   "source": [
    "prices * (1 - 0.01 * discount[genres_coded])"
   ]
  },
  {
   "cell_type": "markdown",
   "id": "a2036146",
   "metadata": {},
   "source": [
    "6. Соберите словарь вида {жанр: список книг жанра}. Сохраните словарь в формат JSON. Прочитайте файл."
   ]
  },
  {
   "cell_type": "code",
   "execution_count": 11,
   "id": "e8697f3c",
   "metadata": {},
   "outputs": [],
   "source": [
    "from functools import reduce\n",
    "import json"
   ]
  },
  {
   "cell_type": "code",
   "execution_count": 12,
   "id": "13b5aa32",
   "metadata": {},
   "outputs": [],
   "source": [
    "def collect_genres(acc, val):\n",
    "    if val[\"genre\"] not in acc.keys():\n",
    "        acc.setdefault(val[\"genre\"], [])\n",
    "    acc[val[\"genre\"]].append(val[\"title\"])\n",
    "    return acc"
   ]
  },
  {
   "cell_type": "code",
   "execution_count": 13,
   "id": "402c2b38",
   "metadata": {},
   "outputs": [],
   "source": [
    "genres_col = reduce(collect_genres, books, {})"
   ]
  },
  {
   "cell_type": "code",
   "execution_count": 14,
   "id": "90fc9dce",
   "metadata": {},
   "outputs": [],
   "source": [
    "with open(\"genres_col.json\", \"w\") as fp:\n",
    "    json.dump(genres_col, fp)"
   ]
  },
  {
   "cell_type": "code",
   "execution_count": 15,
   "id": "1655f914",
   "metadata": {},
   "outputs": [],
   "source": [
    "with open(\"genres_col.json\", \"r\") as fp:\n",
    "    data = json.load(fp)"
   ]
  },
  {
   "cell_type": "code",
   "execution_count": 16,
   "id": "965669bf",
   "metadata": {},
   "outputs": [
    {
     "data": {
      "text/plain": [
       "{'Poetry': ['A Light in the Attic',\n",
       "  'The Black Maria',\n",
       "  \"Shakespeare's Sonnets\",\n",
       "  'Olio'],\n",
       " 'Historical Fiction': ['Tipping the Velvet'],\n",
       " 'Fiction': ['Soumission'],\n",
       " 'Mystery': ['Sharp Objects'],\n",
       " 'History': ['Sapiens: A Brief History of Humankind'],\n",
       " 'Young Adult': ['The Requiem Red', 'Set Me Free'],\n",
       " 'Business': ['The Dirty Little Secrets of Getting Your Dream Job'],\n",
       " 'Default': ['The Coming Woman: A Novel Based on the Life of the Infamous Feminist, Victoria Woodhull',\n",
       "  'The Boys in the Boat: Nine Americans and Their Epic Quest for Gold at the 1936 Berlin Olympics',\n",
       "  'Starving Hearts (Triangular Trade Trilogy, #1)'],\n",
       " 'Sequential Art': [\"Scott Pilgrim's Precious Little Life (Scott Pilgrim #1)\"],\n",
       " 'Music': ['Rip it Up and Start Again',\n",
       "  'Our Band Could Be Your Life: Scenes from the American Indie Underground, 1981-1991'],\n",
       " 'Science Fiction': ['Mesaerion: The Best Science Fiction Stories 1800-1849'],\n",
       " 'Politics': ['Libertarianism for Beginners'],\n",
       " 'Travel': [\"It's Only the Himalayas\"]}"
      ]
     },
     "execution_count": 16,
     "metadata": {},
     "output_type": "execute_result"
    }
   ],
   "source": [
    "data"
   ]
  },
  {
   "cell_type": "markdown",
   "id": "6df766d9",
   "metadata": {},
   "source": [
    "7. Соберите кортеж из двух элементов (список книг, облагаемых налогами; список книг, не облагаемых налогами). Сохраните кортеж в формат Pickle. Считайте файл."
   ]
  },
  {
   "cell_type": "code",
   "execution_count": 17,
   "id": "f6fe7890",
   "metadata": {},
   "outputs": [],
   "source": [
    "def collect_tax_book(acc, val):\n",
    "    if float(re.findall(r'\\d+.?\\d+', val[\"Tax\"])[0]) > 0:\n",
    "        acc[1].append(val[\"title\"])\n",
    "    else:\n",
    "        acc[0].append(val[\"title\"])\n",
    "    return acc"
   ]
  },
  {
   "cell_type": "code",
   "execution_count": 18,
   "id": "2834a353",
   "metadata": {},
   "outputs": [],
   "source": [
    "wtax = reduce(collect_tax_book, books, ([], []))"
   ]
  },
  {
   "cell_type": "code",
   "execution_count": 19,
   "id": "f1c41d1b",
   "metadata": {},
   "outputs": [],
   "source": [
    "import pickle"
   ]
  },
  {
   "cell_type": "code",
   "execution_count": 20,
   "id": "9b26692c",
   "metadata": {},
   "outputs": [],
   "source": [
    "with open('wtax.pickle', 'wb') as f:\n",
    "    pickle.dump(wtax, f)"
   ]
  },
  {
   "cell_type": "code",
   "execution_count": 21,
   "id": "530b3e06",
   "metadata": {},
   "outputs": [],
   "source": [
    "with open('wtax.pickle', 'rb') as f:\n",
    "    data = pickle.load(f)"
   ]
  },
  {
   "cell_type": "code",
   "execution_count": 22,
   "id": "36c382d2",
   "metadata": {},
   "outputs": [
    {
     "data": {
      "text/plain": [
       "(['A Light in the Attic',\n",
       "  'Tipping the Velvet',\n",
       "  'Soumission',\n",
       "  'Sharp Objects',\n",
       "  'Sapiens: A Brief History of Humankind',\n",
       "  'The Requiem Red',\n",
       "  'The Dirty Little Secrets of Getting Your Dream Job',\n",
       "  'The Coming Woman: A Novel Based on the Life of the Infamous Feminist, Victoria Woodhull',\n",
       "  'The Boys in the Boat: Nine Americans and Their Epic Quest for Gold at the 1936 Berlin Olympics',\n",
       "  'The Black Maria',\n",
       "  'Starving Hearts (Triangular Trade Trilogy, #1)',\n",
       "  \"Shakespeare's Sonnets\",\n",
       "  'Set Me Free',\n",
       "  \"Scott Pilgrim's Precious Little Life (Scott Pilgrim #1)\",\n",
       "  'Rip it Up and Start Again',\n",
       "  'Our Band Could Be Your Life: Scenes from the American Indie Underground, 1981-1991',\n",
       "  'Olio',\n",
       "  'Mesaerion: The Best Science Fiction Stories 1800-1849',\n",
       "  'Libertarianism for Beginners',\n",
       "  \"It's Only the Himalayas\"],\n",
       " [])"
      ]
     },
     "execution_count": 22,
     "metadata": {},
     "output_type": "execute_result"
    }
   ],
   "source": [
    "data"
   ]
  },
  {
   "cell_type": "markdown",
   "id": "1763d687",
   "metadata": {},
   "source": [
    "8. Создайте pd.DataFrame, содержащий всю полученную информацию о книгах. Сохраните его в файл xlsx."
   ]
  },
  {
   "cell_type": "code",
   "execution_count": 23,
   "id": "f4a6fe5c",
   "metadata": {},
   "outputs": [
    {
     "data": {
      "text/plain": [
       "array([51.77, 53.74, 50.1 , 47.82, 54.23, 22.65, 33.34, 17.93, 22.6 ,\n",
       "       52.15, 13.99, 20.66, 17.46, 52.29, 35.02, 57.25, 23.88, 37.59,\n",
       "       51.33, 45.17])"
      ]
     },
     "execution_count": 23,
     "metadata": {},
     "output_type": "execute_result"
    }
   ],
   "source": [
    "prices"
   ]
  },
  {
   "cell_type": "code",
   "execution_count": 24,
   "id": "eb67860a",
   "metadata": {},
   "outputs": [],
   "source": [
    "import pandas as pd"
   ]
  },
  {
   "cell_type": "code",
   "execution_count": 25,
   "id": "a8b60420",
   "metadata": {},
   "outputs": [
    {
     "data": {
      "text/html": [
       "<div>\n",
       "<style scoped>\n",
       "    .dataframe tbody tr th:only-of-type {\n",
       "        vertical-align: middle;\n",
       "    }\n",
       "\n",
       "    .dataframe tbody tr th {\n",
       "        vertical-align: top;\n",
       "    }\n",
       "\n",
       "    .dataframe thead th {\n",
       "        text-align: right;\n",
       "    }\n",
       "</style>\n",
       "<table border=\"1\" class=\"dataframe\">\n",
       "  <thead>\n",
       "    <tr style=\"text-align: right;\">\n",
       "      <th></th>\n",
       "      <th>title</th>\n",
       "      <th>genre</th>\n",
       "      <th>description</th>\n",
       "      <th>img</th>\n",
       "      <th>stars</th>\n",
       "      <th>UPC</th>\n",
       "      <th>Product Type</th>\n",
       "      <th>Price (excl. tax)</th>\n",
       "      <th>Price (incl. tax)</th>\n",
       "      <th>Tax</th>\n",
       "      <th>Availability</th>\n",
       "      <th>Number of reviews</th>\n",
       "      <th>price</th>\n",
       "    </tr>\n",
       "  </thead>\n",
       "  <tbody>\n",
       "    <tr>\n",
       "      <th>0</th>\n",
       "      <td>A Light in the Attic</td>\n",
       "      <td>Poetry</td>\n",
       "      <td>It's hard to imagine a world without A Light i...</td>\n",
       "      <td>../../media/cache/fe/72/fe72f0532301ec28892ae7...</td>\n",
       "      <td>Three</td>\n",
       "      <td>a897fe39b1053632</td>\n",
       "      <td>Books</td>\n",
       "      <td>Â£51.77</td>\n",
       "      <td>Â£51.77</td>\n",
       "      <td>Â£0.00</td>\n",
       "      <td>In stock (22 available)</td>\n",
       "      <td>0</td>\n",
       "      <td>51.77</td>\n",
       "    </tr>\n",
       "    <tr>\n",
       "      <th>1</th>\n",
       "      <td>Tipping the Velvet</td>\n",
       "      <td>Historical Fiction</td>\n",
       "      <td>\"Erotic and absorbing...Written with starling ...</td>\n",
       "      <td>../../media/cache/08/e9/08e94f3731d7d6b760dfbf...</td>\n",
       "      <td>One</td>\n",
       "      <td>90fa61229261140a</td>\n",
       "      <td>Books</td>\n",
       "      <td>Â£53.74</td>\n",
       "      <td>Â£53.74</td>\n",
       "      <td>Â£0.00</td>\n",
       "      <td>In stock (20 available)</td>\n",
       "      <td>0</td>\n",
       "      <td>53.74</td>\n",
       "    </tr>\n",
       "    <tr>\n",
       "      <th>2</th>\n",
       "      <td>Soumission</td>\n",
       "      <td>Fiction</td>\n",
       "      <td>Dans une France assez proche de la nÃ´tre, un ...</td>\n",
       "      <td>../../media/cache/ee/cf/eecfe998905e455df12064...</td>\n",
       "      <td>One</td>\n",
       "      <td>6957f44c3847a760</td>\n",
       "      <td>Books</td>\n",
       "      <td>Â£50.10</td>\n",
       "      <td>Â£50.10</td>\n",
       "      <td>Â£0.00</td>\n",
       "      <td>In stock (20 available)</td>\n",
       "      <td>0</td>\n",
       "      <td>50.10</td>\n",
       "    </tr>\n",
       "    <tr>\n",
       "      <th>3</th>\n",
       "      <td>Sharp Objects</td>\n",
       "      <td>Mystery</td>\n",
       "      <td>WICKED above her hipbone, GIRL across her hear...</td>\n",
       "      <td>../../media/cache/c0/59/c05972805aa7201171b8fc...</td>\n",
       "      <td>Four</td>\n",
       "      <td>e00eb4fd7b871a48</td>\n",
       "      <td>Books</td>\n",
       "      <td>Â£47.82</td>\n",
       "      <td>Â£47.82</td>\n",
       "      <td>Â£0.00</td>\n",
       "      <td>In stock (20 available)</td>\n",
       "      <td>0</td>\n",
       "      <td>47.82</td>\n",
       "    </tr>\n",
       "    <tr>\n",
       "      <th>4</th>\n",
       "      <td>Sapiens: A Brief History of Humankind</td>\n",
       "      <td>History</td>\n",
       "      <td>From a renowned historian comes a groundbreaki...</td>\n",
       "      <td>../../media/cache/ce/5f/ce5f052c65cc963cf4422b...</td>\n",
       "      <td>Five</td>\n",
       "      <td>4165285e1663650f</td>\n",
       "      <td>Books</td>\n",
       "      <td>Â£54.23</td>\n",
       "      <td>Â£54.23</td>\n",
       "      <td>Â£0.00</td>\n",
       "      <td>In stock (20 available)</td>\n",
       "      <td>0</td>\n",
       "      <td>54.23</td>\n",
       "    </tr>\n",
       "  </tbody>\n",
       "</table>\n",
       "</div>"
      ],
      "text/plain": [
       "                                   title               genre  \\\n",
       "0                   A Light in the Attic              Poetry   \n",
       "1                     Tipping the Velvet  Historical Fiction   \n",
       "2                             Soumission             Fiction   \n",
       "3                          Sharp Objects             Mystery   \n",
       "4  Sapiens: A Brief History of Humankind             History   \n",
       "\n",
       "                                         description  \\\n",
       "0  It's hard to imagine a world without A Light i...   \n",
       "1  \"Erotic and absorbing...Written with starling ...   \n",
       "2  Dans une France assez proche de la nÃ´tre, un ...   \n",
       "3  WICKED above her hipbone, GIRL across her hear...   \n",
       "4  From a renowned historian comes a groundbreaki...   \n",
       "\n",
       "                                                 img  stars               UPC  \\\n",
       "0  ../../media/cache/fe/72/fe72f0532301ec28892ae7...  Three  a897fe39b1053632   \n",
       "1  ../../media/cache/08/e9/08e94f3731d7d6b760dfbf...    One  90fa61229261140a   \n",
       "2  ../../media/cache/ee/cf/eecfe998905e455df12064...    One  6957f44c3847a760   \n",
       "3  ../../media/cache/c0/59/c05972805aa7201171b8fc...   Four  e00eb4fd7b871a48   \n",
       "4  ../../media/cache/ce/5f/ce5f052c65cc963cf4422b...   Five  4165285e1663650f   \n",
       "\n",
       "  Product Type Price (excl. tax) Price (incl. tax)     Tax  \\\n",
       "0        Books           Â£51.77           Â£51.77  Â£0.00   \n",
       "1        Books           Â£53.74           Â£53.74  Â£0.00   \n",
       "2        Books           Â£50.10           Â£50.10  Â£0.00   \n",
       "3        Books           Â£47.82           Â£47.82  Â£0.00   \n",
       "4        Books           Â£54.23           Â£54.23  Â£0.00   \n",
       "\n",
       "              Availability Number of reviews  price  \n",
       "0  In stock (22 available)                 0  51.77  \n",
       "1  In stock (20 available)                 0  53.74  \n",
       "2  In stock (20 available)                 0  50.10  \n",
       "3  In stock (20 available)                 0  47.82  \n",
       "4  In stock (20 available)                 0  54.23  "
      ]
     },
     "execution_count": 25,
     "metadata": {},
     "output_type": "execute_result"
    }
   ],
   "source": [
    "df = pd.DataFrame(books)\n",
    "df['price'] = prices\n",
    "df.head()"
   ]
  },
  {
   "cell_type": "code",
   "execution_count": 26,
   "id": "7974ff72",
   "metadata": {},
   "outputs": [],
   "source": [
    "df.to_excel(\"books.xlsx\", index=False)"
   ]
  },
  {
   "cell_type": "markdown",
   "id": "91887c97",
   "metadata": {},
   "source": [
    "9. При помощи xlwings добавьте в xlsx файл столбец с ценой в рублях. Используйте протягиваемые формулы. Курс зафиксируйте на отдельном листе."
   ]
  },
  {
   "cell_type": "code",
   "execution_count": 27,
   "id": "3e4cae6c",
   "metadata": {},
   "outputs": [],
   "source": [
    "import xlwings as xw"
   ]
  },
  {
   "cell_type": "code",
   "execution_count": 28,
   "id": "a801c009",
   "metadata": {},
   "outputs": [],
   "source": [
    "wb = xw.Book(\"books.xlsx\")"
   ]
  },
  {
   "cell_type": "code",
   "execution_count": 29,
   "id": "ad09aa17",
   "metadata": {},
   "outputs": [],
   "source": [
    "sht = wb.sheets['Sheet1']"
   ]
  },
  {
   "cell_type": "code",
   "execution_count": 30,
   "id": "a6a195aa",
   "metadata": {},
   "outputs": [],
   "source": [
    "sht.range('N1').value = 'Price in rubles'"
   ]
  },
  {
   "cell_type": "code",
   "execution_count": 31,
   "id": "89eb4afe",
   "metadata": {},
   "outputs": [],
   "source": [
    "sht.range('N1').api.Font.Bold = True"
   ]
  },
  {
   "cell_type": "code",
   "execution_count": 32,
   "id": "6d21713d",
   "metadata": {},
   "outputs": [
    {
     "data": {
      "text/plain": [
       "<Sheet [books.xlsx]Sheet2>"
      ]
     },
     "execution_count": 32,
     "metadata": {},
     "output_type": "execute_result"
    }
   ],
   "source": [
    "wb.sheets.add('Sheet2', after='Sheet1')"
   ]
  },
  {
   "cell_type": "code",
   "execution_count": 33,
   "id": "f2f0a080",
   "metadata": {},
   "outputs": [],
   "source": [
    "sht2 = wb.sheets['Sheet2']"
   ]
  },
  {
   "cell_type": "code",
   "execution_count": 34,
   "id": "898e3e9f",
   "metadata": {},
   "outputs": [],
   "source": [
    "sht2.range('A1').value = 'Курс фунта к рублю'"
   ]
  },
  {
   "cell_type": "code",
   "execution_count": 35,
   "id": "a829b344",
   "metadata": {},
   "outputs": [],
   "source": [
    "sht2.range('A1').api.Font.Bold = True"
   ]
  },
  {
   "cell_type": "code",
   "execution_count": 36,
   "id": "318a799c",
   "metadata": {},
   "outputs": [],
   "source": [
    "sht2.range('A2').value = 106.59"
   ]
  },
  {
   "cell_type": "code",
   "execution_count": 37,
   "id": "6a073644",
   "metadata": {},
   "outputs": [],
   "source": [
    "rng = sht.range('N2').expand('down').address\n",
    "sht.range(rng).formula = '=Sheet2!$A$2*Sheet1!M2'"
   ]
  },
  {
   "cell_type": "code",
   "execution_count": 41,
   "id": "118f7e9f",
   "metadata": {},
   "outputs": [
    {
     "data": {
      "text/plain": [
       "'$N$2'"
      ]
     },
     "execution_count": 41,
     "metadata": {},
     "output_type": "execute_result"
    }
   ],
   "source": [
    "rng = sht.range('N2').get_address()\n",
    "rng"
   ]
  },
  {
   "cell_type": "markdown",
   "id": "077fdf44",
   "metadata": {},
   "source": [
    "10. При помощи xlwings раскрасьте столбец с названием книги. Если в наличии более 20 книг, сделайте заливку зеленым, иначе - желтым."
   ]
  },
  {
   "cell_type": "code",
   "execution_count": 42,
   "id": "fcb5d72a",
   "metadata": {},
   "outputs": [],
   "source": [
    "rng1 = sht.range('K2').expand('down').address"
   ]
  },
  {
   "cell_type": "code",
   "execution_count": 43,
   "id": "45a81e0e",
   "metadata": {},
   "outputs": [],
   "source": [
    "rng2 = sht.range('A2').expand('down').address"
   ]
  },
  {
   "cell_type": "code",
   "execution_count": 44,
   "id": "e1ad75e0",
   "metadata": {},
   "outputs": [
    {
     "name": "stdout",
     "output_type": "stream",
     "text": [
      "$\n",
      "N\n",
      "$\n",
      "2\n"
     ]
    }
   ],
   "source": [
    "for i in rng:\n",
    "    print(i)\n",
    "#     if sht.range()\n",
    "# (255, 255, 0)\n",
    "sht.range(rng2).color = (173, 255, 47) if sht.range(rng1) == 'In stock (22 available)' else (255, 255, 0)"
   ]
  },
  {
   "cell_type": "markdown",
   "id": "2d7ab45c",
   "metadata": {},
   "source": [
    "11. Напишите функцию, которая извлекает из текстов описаний имена собственные. Имя собственное - это слово, начинающееся с заглавной буквы и за которым следует одна или несколько строчных букв."
   ]
  },
  {
   "cell_type": "code",
   "execution_count": 41,
   "id": "df1db2ca",
   "metadata": {},
   "outputs": [],
   "source": [
    "def extract_names(data):\n",
    "    descriptions = ''.join(list(map(lambda x: x[\"description\"], data)))\n",
    "    names = re.findall(r'[A-Z][a-zA-Z]+', descriptions)\n",
    "    return names"
   ]
  },
  {
   "cell_type": "markdown",
   "id": "22802c48",
   "metadata": {},
   "source": [
    "12. Представьте каждое описание в виде вектора при помощи TfidfVectorizer. Для каждой пары описаний посчитайте косинусную близость между ними. Визуализируйте результат в виде heatmap."
   ]
  },
  {
   "cell_type": "code",
   "execution_count": 42,
   "id": "89b80024",
   "metadata": {},
   "outputs": [],
   "source": [
    "descriptions = list(map(lambda x: x[\"description\"], books))"
   ]
  },
  {
   "cell_type": "code",
   "execution_count": 43,
   "id": "4cd38d43",
   "metadata": {},
   "outputs": [],
   "source": [
    "from sklearn.feature_extraction.text import TfidfVectorizer\n",
    "\n",
    "vectorizer = TfidfVectorizer()\n",
    "vectors = vectorizer.fit_transform(descriptions)"
   ]
  },
  {
   "cell_type": "code",
   "execution_count": 44,
   "id": "715eb96f",
   "metadata": {},
   "outputs": [
    {
     "data": {
      "text/plain": [
       "(20, 1670)"
      ]
     },
     "execution_count": 44,
     "metadata": {},
     "output_type": "execute_result"
    }
   ],
   "source": [
    "vectors.shape"
   ]
  },
  {
   "cell_type": "code",
   "execution_count": 45,
   "id": "cbc8e381",
   "metadata": {},
   "outputs": [],
   "source": [
    "pairwise_similarity = vectors @ vectors.T"
   ]
  },
  {
   "cell_type": "code",
   "execution_count": 46,
   "id": "ec3848c1",
   "metadata": {},
   "outputs": [],
   "source": [
    "from seaborn import heatmap\n",
    "import matplotlib as plt"
   ]
  },
  {
   "cell_type": "code",
   "execution_count": 47,
   "id": "45402cad",
   "metadata": {},
   "outputs": [
    {
     "data": {
      "image/png": "[encoded data removed]",
      "text/plain": [
       "<Figure size 432x288 with 2 Axes>"
      ]
     },
     "metadata": {
      "needs_background": "light"
     },
     "output_type": "display_data"
    }
   ],
   "source": [
    "heatmap(pairwise_similarity.toarray());"
   ]
  },
  {
   "cell_type": "markdown",
   "id": "11d21121",
   "metadata": {},
   "source": [
    "13. Найдите собственные числа матрицы косинусной близости. Найдите разность между максимальным и минимальным собственным значением."
   ]
  },
  {
   "cell_type": "code",
   "execution_count": 48,
   "id": "461c90f3",
   "metadata": {},
   "outputs": [],
   "source": [
    "from numpy.linalg import eig"
   ]
  },
  {
   "cell_type": "code",
   "execution_count": 49,
   "id": "be647a69",
   "metadata": {},
   "outputs": [
    {
     "data": {
      "text/plain": [
       "3.2090557727587137"
      ]
     },
     "execution_count": 49,
     "metadata": {},
     "output_type": "execute_result"
    }
   ],
   "source": [
    "eigvalues = eig(pairwise_similarity.toarray())[0]\n",
    "eigvalues.max() - eigvalues.min()"
   ]
  },
  {
   "cell_type": "markdown",
   "id": "a96ae5f7",
   "metadata": {},
   "source": [
    "14. Используя pandas, найдите самую дорогую книгу в каждом из жанров"
   ]
  },
  {
   "cell_type": "code",
   "execution_count": 50,
   "id": "9c53b05e",
   "metadata": {},
   "outputs": [
    {
     "data": {
      "text/html": [
       "<div>\n",
       "<style scoped>\n",
       "    .dataframe tbody tr th:only-of-type {\n",
       "        vertical-align: middle;\n",
       "    }\n",
       "\n",
       "    .dataframe tbody tr th {\n",
       "        vertical-align: top;\n",
       "    }\n",
       "\n",
       "    .dataframe thead th {\n",
       "        text-align: right;\n",
       "    }\n",
       "</style>\n",
       "<table border=\"1\" class=\"dataframe\">\n",
       "  <thead>\n",
       "    <tr style=\"text-align: right;\">\n",
       "      <th></th>\n",
       "      <th>title</th>\n",
       "      <th>genre</th>\n",
       "      <th>description</th>\n",
       "      <th>img</th>\n",
       "      <th>stars</th>\n",
       "      <th>UPC</th>\n",
       "      <th>Product Type</th>\n",
       "      <th>Price (excl. tax)</th>\n",
       "      <th>Price (incl. tax)</th>\n",
       "      <th>Tax</th>\n",
       "      <th>Availability</th>\n",
       "      <th>Number of reviews</th>\n",
       "      <th>price</th>\n",
       "    </tr>\n",
       "  </thead>\n",
       "  <tbody>\n",
       "    <tr>\n",
       "      <th>0</th>\n",
       "      <td>A Light in the Attic</td>\n",
       "      <td>Poetry</td>\n",
       "      <td>It's hard to imagine a world without A Light i...</td>\n",
       "      <td>../../media/cache/fe/72/fe72f0532301ec28892ae7...</td>\n",
       "      <td>Three</td>\n",
       "      <td>a897fe39b1053632</td>\n",
       "      <td>Books</td>\n",
       "      <td>Â£51.77</td>\n",
       "      <td>Â£51.77</td>\n",
       "      <td>Â£0.00</td>\n",
       "      <td>In stock (22 available)</td>\n",
       "      <td>0</td>\n",
       "      <td>51.77</td>\n",
       "    </tr>\n",
       "    <tr>\n",
       "      <th>1</th>\n",
       "      <td>Tipping the Velvet</td>\n",
       "      <td>Historical Fiction</td>\n",
       "      <td>\"Erotic and absorbing...Written with starling ...</td>\n",
       "      <td>../../media/cache/08/e9/08e94f3731d7d6b760dfbf...</td>\n",
       "      <td>One</td>\n",
       "      <td>90fa61229261140a</td>\n",
       "      <td>Books</td>\n",
       "      <td>Â£53.74</td>\n",
       "      <td>Â£53.74</td>\n",
       "      <td>Â£0.00</td>\n",
       "      <td>In stock (20 available)</td>\n",
       "      <td>0</td>\n",
       "      <td>53.74</td>\n",
       "    </tr>\n",
       "    <tr>\n",
       "      <th>2</th>\n",
       "      <td>Soumission</td>\n",
       "      <td>Fiction</td>\n",
       "      <td>Dans une France assez proche de la nÃ´tre, un ...</td>\n",
       "      <td>../../media/cache/ee/cf/eecfe998905e455df12064...</td>\n",
       "      <td>One</td>\n",
       "      <td>6957f44c3847a760</td>\n",
       "      <td>Books</td>\n",
       "      <td>Â£50.10</td>\n",
       "      <td>Â£50.10</td>\n",
       "      <td>Â£0.00</td>\n",
       "      <td>In stock (20 available)</td>\n",
       "      <td>0</td>\n",
       "      <td>50.10</td>\n",
       "    </tr>\n",
       "    <tr>\n",
       "      <th>3</th>\n",
       "      <td>Sharp Objects</td>\n",
       "      <td>Mystery</td>\n",
       "      <td>WICKED above her hipbone, GIRL across her hear...</td>\n",
       "      <td>../../media/cache/c0/59/c05972805aa7201171b8fc...</td>\n",
       "      <td>Four</td>\n",
       "      <td>e00eb4fd7b871a48</td>\n",
       "      <td>Books</td>\n",
       "      <td>Â£47.82</td>\n",
       "      <td>Â£47.82</td>\n",
       "      <td>Â£0.00</td>\n",
       "      <td>In stock (20 available)</td>\n",
       "      <td>0</td>\n",
       "      <td>47.82</td>\n",
       "    </tr>\n",
       "    <tr>\n",
       "      <th>4</th>\n",
       "      <td>Sapiens: A Brief History of Humankind</td>\n",
       "      <td>History</td>\n",
       "      <td>From a renowned historian comes a groundbreaki...</td>\n",
       "      <td>../../media/cache/ce/5f/ce5f052c65cc963cf4422b...</td>\n",
       "      <td>Five</td>\n",
       "      <td>4165285e1663650f</td>\n",
       "      <td>Books</td>\n",
       "      <td>Â£54.23</td>\n",
       "      <td>Â£54.23</td>\n",
       "      <td>Â£0.00</td>\n",
       "      <td>In stock (20 available)</td>\n",
       "      <td>0</td>\n",
       "      <td>54.23</td>\n",
       "    </tr>\n",
       "  </tbody>\n",
       "</table>\n",
       "</div>"
      ],
      "text/plain": [
       "                                   title               genre  \\\n",
       "0                   A Light in the Attic              Poetry   \n",
       "1                     Tipping the Velvet  Historical Fiction   \n",
       "2                             Soumission             Fiction   \n",
       "3                          Sharp Objects             Mystery   \n",
       "4  Sapiens: A Brief History of Humankind             History   \n",
       "\n",
       "                                         description  \\\n",
       "0  It's hard to imagine a world without A Light i...   \n",
       "1  \"Erotic and absorbing...Written with starling ...   \n",
       "2  Dans une France assez proche de la nÃ´tre, un ...   \n",
       "3  WICKED above her hipbone, GIRL across her hear...   \n",
       "4  From a renowned historian comes a groundbreaki...   \n",
       "\n",
       "                                                 img  stars               UPC  \\\n",
       "0  ../../media/cache/fe/72/fe72f0532301ec28892ae7...  Three  a897fe39b1053632   \n",
       "1  ../../media/cache/08/e9/08e94f3731d7d6b760dfbf...    One  90fa61229261140a   \n",
       "2  ../../media/cache/ee/cf/eecfe998905e455df12064...    One  6957f44c3847a760   \n",
       "3  ../../media/cache/c0/59/c05972805aa7201171b8fc...   Four  e00eb4fd7b871a48   \n",
       "4  ../../media/cache/ce/5f/ce5f052c65cc963cf4422b...   Five  4165285e1663650f   \n",
       "\n",
       "  Product Type Price (excl. tax) Price (incl. tax)     Tax  \\\n",
       "0        Books           Â£51.77           Â£51.77  Â£0.00   \n",
       "1        Books           Â£53.74           Â£53.74  Â£0.00   \n",
       "2        Books           Â£50.10           Â£50.10  Â£0.00   \n",
       "3        Books           Â£47.82           Â£47.82  Â£0.00   \n",
       "4        Books           Â£54.23           Â£54.23  Â£0.00   \n",
       "\n",
       "              Availability Number of reviews  price  \n",
       "0  In stock (22 available)                 0  51.77  \n",
       "1  In stock (20 available)                 0  53.74  \n",
       "2  In stock (20 available)                 0  50.10  \n",
       "3  In stock (20 available)                 0  47.82  \n",
       "4  In stock (20 available)                 0  54.23  "
      ]
     },
     "execution_count": 50,
     "metadata": {},
     "output_type": "execute_result"
    }
   ],
   "source": [
    "df.head()"
   ]
  },
  {
   "cell_type": "code",
   "execution_count": 51,
   "id": "3bae2f16",
   "metadata": {},
   "outputs": [
    {
     "data": {
      "text/plain": [
       "genre\n",
       "Business              Â£33.34\n",
       "Default               Â£22.60\n",
       "Fiction               Â£50.10\n",
       "Historical Fiction    Â£53.74\n",
       "History               Â£54.23\n",
       "Music                 Â£57.25\n",
       "Mystery               Â£47.82\n",
       "Poetry                Â£52.15\n",
       "Politics              Â£51.33\n",
       "Science Fiction       Â£37.59\n",
       "Sequential Art        Â£52.29\n",
       "Travel                Â£45.17\n",
       "Young Adult           Â£22.65\n",
       "Name: Price (excl. tax), dtype: object"
      ]
     },
     "execution_count": 51,
     "metadata": {},
     "output_type": "execute_result"
    }
   ],
   "source": [
    "df.groupby('genre')['Price (excl. tax)'].max()"
   ]
  },
  {
   "cell_type": "markdown",
   "id": "4a28c0bc",
   "metadata": {},
   "source": [
    "15. Используя pandas, разбейте книги на 3 ценовые категории. Для каждой категории посчитайте количество книг с разбивкой по рейтингам."
   ]
  },
  {
   "cell_type": "code",
   "execution_count": 52,
   "id": "dac69bf4",
   "metadata": {},
   "outputs": [],
   "source": [
    "exp = df[df['Price (excl. tax)'] >= 'Â£40']\n",
    "mid = df[df['Price (excl. tax)'].between('Â£30', 'Â£40')]\n",
    "cheap = df[df['Price (excl. tax)'] <= 'Â£20']"
   ]
  },
  {
   "cell_type": "code",
   "execution_count": 53,
   "id": "1652ed3c",
   "metadata": {},
   "outputs": [
    {
     "data": {
      "text/plain": [
       "stars\n",
       "Five     2\n",
       "Four     1\n",
       "One      3\n",
       "Three    2\n",
       "Two      2\n",
       "Name: title, dtype: int64"
      ]
     },
     "execution_count": 53,
     "metadata": {},
     "output_type": "execute_result"
    }
   ],
   "source": [
    "exp.groupby('stars')['title'].count()"
   ]
  },
  {
   "cell_type": "code",
   "execution_count": 54,
   "id": "7ca64517",
   "metadata": {},
   "outputs": [
    {
     "data": {
      "text/plain": [
       "stars\n",
       "Five    1\n",
       "Four    1\n",
       "One     1\n",
       "Name: title, dtype: int64"
      ]
     },
     "execution_count": 54,
     "metadata": {},
     "output_type": "execute_result"
    }
   ],
   "source": [
    "mid.groupby('stars')['title'].count()"
   ]
  },
  {
   "cell_type": "markdown",
   "id": "61ee4014",
   "metadata": {},
   "source": [
    "16. Сохраните данные о книгах в БД sqlite3. Напишите функцию, которая по введенному пользователем названию жанра возвращает кол-во книг в этом жанре."
   ]
  },
  {
   "cell_type": "code",
   "execution_count": 55,
   "id": "81bb15c7",
   "metadata": {},
   "outputs": [],
   "source": [
    "import sqlite3"
   ]
  },
  {
   "cell_type": "code",
   "execution_count": 56,
   "id": "308f9606",
   "metadata": {},
   "outputs": [],
   "source": [
    "con = sqlite3.connect(\"books.db\")\n",
    "cur = con.cursor()\n",
    "# cur.close()\n",
    "# con.close()"
   ]
  },
  {
   "cell_type": "code",
   "execution_count": 57,
   "id": "47332bdb",
   "metadata": {},
   "outputs": [
    {
     "data": {
      "text/plain": [
       "20"
      ]
     },
     "execution_count": 57,
     "metadata": {},
     "output_type": "execute_result"
    }
   ],
   "source": [
    "df.to_sql('Books', con, if_exists='replace', index=False)"
   ]
  },
  {
   "cell_type": "code",
   "execution_count": 58,
   "id": "cdb18e75",
   "metadata": {},
   "outputs": [],
   "source": [
    "def count_genre(gnr):\n",
    "    sql = \"\"\"\n",
    "    SELECT COUNT(title)\n",
    "    FROM Books WHERE genre = (?)\n",
    "    \"\"\"\n",
    "    res = cur.execute(sql, [gnr])\n",
    "    return res.fetchmany()[0]"
   ]
  },
  {
   "cell_type": "code",
   "execution_count": 59,
   "id": "576c25b2",
   "metadata": {},
   "outputs": [],
   "source": [
    "sql = \"\"\"\n",
    "    SELECT COUNT(title)\n",
    "    FROM Books WHERE genre = (?)\n",
    "\"\"\""
   ]
  },
  {
   "cell_type": "code",
   "execution_count": 60,
   "id": "f76c8ee3",
   "metadata": {},
   "outputs": [
    {
     "name": "stdout",
     "output_type": "stream",
     "text": [
      "poetry\n"
     ]
    },
    {
     "data": {
      "text/plain": [
       "(4,)"
      ]
     },
     "execution_count": 60,
     "metadata": {},
     "output_type": "execute_result"
    }
   ],
   "source": [
    "gnr = input().capitalize()\n",
    "count_genre(gnr)"
   ]
  },
  {
   "cell_type": "markdown",
   "id": "2d4995e0",
   "metadata": {},
   "source": [
    "17. Напишите функцию, которая добавляет новую запись в таблицу. Продемонстрируйте результат"
   ]
  },
  {
   "cell_type": "code",
   "execution_count": 217,
   "id": "41fc7f07",
   "metadata": {},
   "outputs": [],
   "source": [
    "def insert_record(vals):\n",
    "    print(len([*vals]))\n",
    "    sql = \"\"\"\n",
    "        INSERT INTO Books\n",
    "        VALUES (?, ?, ?, ?, ?, ?, ?, ?, ?, ?, ?, ?, ?)\n",
    "        \n",
    "    \"\"\"\n",
    "    if cur.execute(sql, vals):\n",
    "        return \"запись добавлена\"\n",
    "    return \"ошибка\""
   ]
  },
  {
   "cell_type": "code",
   "execution_count": 218,
   "id": "46d62dc6",
   "metadata": {},
   "outputs": [
    {
     "name": "stdout",
     "output_type": "stream",
     "text": [
      "13\n"
     ]
    },
    {
     "data": {
      "text/plain": [
       "'запись добавлена'"
      ]
     },
     "execution_count": 218,
     "metadata": {},
     "output_type": "execute_result"
    }
   ],
   "source": [
    "insert_record(\n",
    "    [\"Alice in Wonderland\", \"Nowel\", \"Excellent!\",\n",
    "    None, \"Five\", None, \"Books\", \"Â£50.77\", \"Â£50.77\",\n",
    "    \"Â£0.00\", \"In stock (19 available)\",\n",
    "    3, 50.77]\n",
    ")"
   ]
  },
  {
   "cell_type": "code",
   "execution_count": 229,
   "id": "594a0fc0",
   "metadata": {},
   "outputs": [
    {
     "data": {
      "text/plain": [
       "('Alice in Wonderland',\n",
       " 'Nowel',\n",
       " 'Excellent!',\n",
       " None,\n",
       " 'Five',\n",
       " None,\n",
       " 'Books',\n",
       " 'Â£50.77',\n",
       " 'Â£50.77',\n",
       " 'Â£0.00',\n",
       " 'In stock (19 available)',\n",
       " '3',\n",
       " 50.77)"
      ]
     },
     "execution_count": 229,
     "metadata": {},
     "output_type": "execute_result"
    }
   ],
   "source": [
    "sql = \"\"\"SELECT * FROM Books WHERE title = 'Alice in Wonderland'\"\"\"\n",
    "res = cur.execute(sql)\n",
    "res.fetchone()"
   ]
  },
  {
   "cell_type": "markdown",
   "id": "4e79950d",
   "metadata": {},
   "source": [
    "18. Воспользовавшись модулем multiprocessing, соберите информацию о всех книгах с сайта (распаралелльте вычисления по страницам каталога)"
   ]
  },
  {
   "cell_type": "code",
   "execution_count": 81,
   "id": "78dc92c3",
   "metadata": {},
   "outputs": [],
   "source": [
    "import multiprocessing"
   ]
  },
  {
   "cell_type": "code",
   "execution_count": 82,
   "id": "b36696bb",
   "metadata": {},
   "outputs": [],
   "source": [
    "pages = [f'http://books.toscrape.com/catalogue/page-{i}.html' for i in range(1, 51)]"
   ]
  },
  {
   "cell_type": "code",
   "execution_count": 261,
   "id": "092bc24d",
   "metadata": {},
   "outputs": [
    {
     "name": "stdout",
     "output_type": "stream",
     "text": [
      "Writing scrap_func_multiprocessing.py\n"
     ]
    }
   ],
   "source": [
    "%%file scrap_func_multiprocessing.py\n",
    "import requests\n",
    "from bs4 import BeautifulSoup\n",
    "import re\n",
    "\n",
    "def parse_book(url):\n",
    "    req = requests.get(url)\n",
    "    if req.status_code == 404:\n",
    "        raise ValueError\n",
    "    soup = BeautifulSoup(req.content, 'lxml')\n",
    "    book_info = {}\n",
    "    try:\n",
    "        tile = soup.find('div', class_='col-sm-6 product_main')\n",
    "        book_info['title'] = tile.h1.text\n",
    "        book_info['rating'] = tile.find('p', class_='star-rating')['class'][1]\n",
    "        book_info['availability'] = int(re.findall(r'\\d+', (tile.find('p', class_='instock availability').text).strip())[0])\n",
    "        book_info['price'] = float(tile.find('p', class_='price_color').text[1:])\n",
    "        book_info['genre'] = soup.find('ul', class_='breadcrumb').findChildren()[5].text\n",
    "        book_info['description'] = soup.find('div', id='product_description').find_next_sibling().text\n",
    "    except Exception as ex_:\n",
    "        print(url, ex_)\n",
    "    return book_info\n",
    "\n",
    "def scrap_books(page_url):\n",
    "    req = requests.get(page_url)\n",
    "    soup = BeautifulSoup(req.content, 'lxml')\n",
    "    books = soup.find('ol', class_='row').find_all('li')\n",
    "    book_urls = []\n",
    "    for book in books:\n",
    "        book_urls.append(f\"http://books.toscrape.com/catalogue/{book.find('a')['href']}\")\n",
    "    res = []\n",
    "    for URL in book_urls:\n",
    "        res.append(parse_book(URL))\n",
    "    return res"
   ]
  },
  {
   "cell_type": "code",
   "execution_count": 266,
   "id": "5e701b99",
   "metadata": {},
   "outputs": [],
   "source": [
    "from scrap_func_multiprocessing import scrap_books\n",
    "\n",
    "pages = [f'http://books.toscrape.com/catalogue/page-{i}.html' for i in range(1, 51)]"
   ]
  },
  {
   "cell_type": "code",
   "execution_count": 267,
   "id": "9d6a57ec",
   "metadata": {},
   "outputs": [
    {
     "name": "stdout",
     "output_type": "stream",
     "text": [
      "CPU times: total: 46.9 ms\n",
      "Wall time: 1min 5s\n"
     ]
    }
   ],
   "source": [
    "%%time\n",
    "with multiprocessing.Pool(processes=multiprocessing.cpu_count()) as pool:\n",
    "    res = pool.map(scrap_books, pages)"
   ]
  },
  {
   "cell_type": "markdown",
   "id": "1f46b1ab",
   "metadata": {},
   "source": [
    "19. Воспользовавшись dask.delayed, скачайте изображения книг с сайта (распаралелльте вычисления по страницам каталога) (использование Dask должно приводить к истинной параллельной обработке данных)."
   ]
  },
  {
   "cell_type": "code",
   "execution_count": 91,
   "id": "b9e5b419",
   "metadata": {},
   "outputs": [],
   "source": [
    "import dask.delayed as delayed\n",
    "import dask"
   ]
  },
  {
   "cell_type": "code",
   "execution_count": 84,
   "id": "55f48651",
   "metadata": {},
   "outputs": [],
   "source": [
    "url = \"http://books.toscrape.com/\"\n",
    "req = requests.get(url)\n",
    "content = bs(req.text, 'lxml')\n",
    "links = list(map(\n",
    "        lambda x: \"http://books.toscrape.com/\" + x.find(\"a\")[\"href\"],\n",
    "        content.find(\"ol\", class_=\"row\").find_all(\"div\", class_=\"image_container\")))"
   ]
  },
  {
   "cell_type": "code",
   "execution_count": 162,
   "id": "7bf7c89a",
   "metadata": {},
   "outputs": [],
   "source": [
    "def get_image(url):\n",
    "    \n",
    "    req = requests.get(url)\n",
    "    content = bs(req.text, 'lxml')\n",
    "    inf = list(\n",
    "                map(\n",
    "                lambda x: x.text.strip(),\n",
    "                content.find(\"ul\", {\"class\":\"breadcrumb\"}).find_all(\"li\")\n",
    "                )\n",
    "            )\n",
    "    title = inf[-1]\n",
    "    image =  content.find(\"div\", class_=\"item active\").find(\"img\")[\"src\"]\n",
    "    image_link = re.sub(r'\\.\\.\\/\\.\\.','http://books.toscrape.com', image)\n",
    "    with open('book_images/' + title + '.jpg', 'wb') as f:\n",
    "        f.write(requests.get(image_link).content)"
   ]
  },
  {
   "cell_type": "code",
   "execution_count": 163,
   "id": "dffcda5c",
   "metadata": {},
   "outputs": [],
   "source": [
    "get_image_delayed = delayed(get_image)"
   ]
  },
  {
   "cell_type": "code",
   "execution_count": 164,
   "id": "43bd6dc9",
   "metadata": {},
   "outputs": [],
   "source": [
    "res = [get_image_delayed(url) for url in links]"
   ]
  },
  {
   "cell_type": "code",
   "execution_count": 165,
   "id": "b634bf77",
   "metadata": {},
   "outputs": [
    {
     "name": "stdout",
     "output_type": "stream",
     "text": [
      "CPU times: total: 0 ns\n",
      "Wall time: 7.97 s\n"
     ]
    },
    {
     "data": {
      "text/plain": [
       "([None,\n",
       "  None,\n",
       "  None,\n",
       "  None,\n",
       "  None,\n",
       "  None,\n",
       "  None,\n",
       "  None,\n",
       "  None,\n",
       "  None,\n",
       "  None,\n",
       "  None,\n",
       "  None,\n",
       "  None,\n",
       "  None,\n",
       "  None,\n",
       "  None,\n",
       "  None,\n",
       "  None,\n",
       "  None],)"
      ]
     },
     "execution_count": 165,
     "metadata": {},
     "output_type": "execute_result"
    }
   ],
   "source": [
    "%%time\n",
    "dask.compute(res, scheduler='processes')"
   ]
  },
  {
   "cell_type": "code",
   "execution_count": null,
   "id": "8ea9c523",
   "metadata": {},
   "outputs": [],
   "source": []
  },
  {
   "cell_type": "markdown",
   "id": "530014b9",
   "metadata": {},
   "source": [
    "20. Сохраните информацию о книгах в формате JSONl с разбивкой на файлы по жанрам."
   ]
  },
  {
   "cell_type": "code",
   "execution_count": 116,
   "id": "6a609c04",
   "metadata": {},
   "outputs": [],
   "source": [
    "genres = {}\n",
    "for book in books:\n",
    "    genres.setdefault(book['genre'], []).append(book)"
   ]
  },
  {
   "cell_type": "code",
   "execution_count": 119,
   "id": "ac8706df",
   "metadata": {},
   "outputs": [],
   "source": [
    "for k, v in genres.items():\n",
    "    with open(f'books/{k}.jsonl', 'w') as file:\n",
    "        json.dump(v, file)"
   ]
  },
  {
   "cell_type": "markdown",
   "id": "6a563588",
   "metadata": {},
   "source": [
    "21. Считайте данные в виде Dask Bag. Посчитайте, для скольких книг описание имеет больше 10 предложений. Выполните задание с использованием dask.bag, распараллелив процесс обработки данных (использование Dask должно приводить к истинной параллельной обработке данных)."
   ]
  },
  {
   "cell_type": "code",
   "execution_count": 120,
   "id": "81f031be",
   "metadata": {},
   "outputs": [],
   "source": [
    "import dask.bag as db"
   ]
  },
  {
   "cell_type": "code",
   "execution_count": 121,
   "id": "4dc4ae2e",
   "metadata": {},
   "outputs": [],
   "source": [
    "bag = db.read_text('books/*.jsonl').map(json.loads)"
   ]
  },
  {
   "cell_type": "code",
   "execution_count": 131,
   "id": "cf33a37c",
   "metadata": {},
   "outputs": [],
   "source": [
    "sentences = bag.map(lambda x: x['description'])"
   ]
  },
  {
   "cell_type": "code",
   "execution_count": 134,
   "id": "6bb8bb78",
   "metadata": {},
   "outputs": [
    {
     "data": {
      "text/plain": [
       "[[{'title': 'The Dirty Little Secrets of Getting Your Dream Job',\n",
       "   'genre': 'Business',\n",
       "   'description': \"Drawing on his extensive experience evaluating applicants for his marketing agency, and featuring stories based on real-life situations, sample cover letters, resumes, and straightforward advice, Don Raskinâ\\x80\\x99s The Dirty Little Secrets of Getting Your Dream Job offers all the necessary tools for navigating the tough job market and securing your dream job.Don Raskin owns and Drawing on his extensive experience evaluating applicants for his marketing agency, and featuring stories based on real-life situations, sample cover letters, resumes, and straightforward advice, Don Raskinâ\\x80\\x99s The Dirty Little Secrets of Getting Your Dream Job offers all the necessary tools for navigating the tough job market and securing your dream job.Don Raskin owns and operates MME, an advertising and marketing agency in New York City. During his twenty-five years at the agency he has interviewed hundreds of new college graduates for positions within his agency and has placed a strong emphasis on entry-level recruitment for positions in creative, account management, traffic, and production. Raskin has also mentored countless students and their parents on best practices for the job search. Over the years, Raskin has kept exceptionally detailed notes on the interviews he has conducted, observing the good, the bad, the ridiculous, the irreverent. He also has a treasure trove of over-the-top cover letters, resumes, interviews, and post interview follow-ups he has conducted and received. Now, he wants to share all the wisdom and insider secrets he has gathered to help students and first-time job seekers find a job in this economy.Based on his remarkable expertise, Raskin's book provides exclusive insight into the job search process and lets readers in on all of the dirty little secrets to landing their first jobâ\\x80\\x94or a new oneâ\\x80\\x94and finding career success. ...more\",\n",
       "   'img': '../../media/cache/e1/1b/e11bea016d0ae1d7e2dd46fb3cb870b7.jpg',\n",
       "   'stars': 'Four',\n",
       "   'UPC': '2597b5a345f45e1b',\n",
       "   'Product Type': 'Books',\n",
       "   'Price (excl. tax)': 'Â£33.34',\n",
       "   'Price (incl. tax)': 'Â£33.34',\n",
       "   'Tax': 'Â£0.00',\n",
       "   'Availability': 'In stock (19 available)',\n",
       "   'Number of reviews': '0'}],\n",
       " [{'title': 'The Coming Woman: A Novel Based on the Life of the Infamous Feminist, Victoria Woodhull',\n",
       "   'genre': 'Default',\n",
       "   'description': '\"If you have a heart, if you have a soul, Karen Hicks\\' The Coming Woman will make you fall in love with Victoria Woodhull.\"-Kinky Friedman, author and Governor of the Heart of Texas \"What kind of confidence would it take for a woman to buck the old boy\\'s club of politics in 1872? More than 140 years pre-Hillary, there was Victoria Woodhull. This book takes you back with a \"If you have a heart, if you have a soul, Karen Hicks\\' The Coming Woman will make you fall in love with Victoria Woodhull.\"-Kinky Friedman, author and Governor of the Heart of Texas \"What kind of confidence would it take for a woman to buck the old boy\\'s club of politics in 1872? More than 140 years pre-Hillary, there was Victoria Woodhull. This book takes you back with a breathtaking, present-tense bird\\'s eye view into a time when women\\'s liberation was primarily confined to one woman\\'s very capable, independent mind. I couldn\\'t put it down.\"---Ruth Buzzi, Golden Globe Award winner and Television Hall of Fame inductee\"Sadly, too many Americans have never heard of Victoria Woodhull, let alone learned of her story: her revolutionary campaign for the presidency at a time when women weren\\'t even allowed to vote, her support for worker\\'s rights, or her feminist commitment to equality, a century before the official battle over the Equal Rights Amendment. But in The Coming Woman, Karen Hicks brings Woodhull\\'s efforts to life, and reminds us that some of our nation\\'s greatest figures aren\\'t always featured in the history books. It is a riveting account of an amazing woman and her struggle for justice and human dignity, told in an engaging and eminently readable style.\"-Tim Wise, author, \"White Like Me: Reflections on Race from a Privileged Son\"\"The Coming Woman\" is a novel based on the life of feminist Victoria Woodhull, the first woman to run for U.S. President, 50 years before women could even vote!Running for President wasn\\'t Victoria\\'s only first as a woman. She was also the first to own a successful Wall Street firm, the first to publish a successful national newspaper, and the first to head the two-million-member Spiritualist Association. She was the first woman to enter the Senate Judiciary Committee chambers to petition for woman\\'s suffrage, her argument changing the entire focus of the suffragist movement by pointing out that the 14th and 15th Amendments already gave women the vote.In her campaign for the Presidency, Victoria Woodhull boldly addressed many of the issues we still face today: equal pay for equal work; freedom in love; corporate greed and political corruption fueled by powerful lobbyists; and the increasing disparity between the rich and the poor, to name only a few. Her outspoken and common-sense ideas may shed a new perspective on the parallel conundrums of today\\'s world.This bold, beautiful, and sexually progressive woman dared to take on society and religion. To make an example of the hypocrisy in what Mark Twain dubbed The Gilded Age, she exposed the extramarital affairs of the most popular religious figure of the day (Henry Ward Beecher). This led to her persecution and imprisonment and the longest, most infamous trial of the 19th century. But it did not stop her fight for equality.Victoria\\'s epic story, set in the late 1800s, comes to life in a modern, fictional style, while staying true to the actual words and views of the many well-known characters. ...more',\n",
       "   'img': '../../media/cache/97/36/9736132a43b8e6e3989932218ef309ed.jpg',\n",
       "   'stars': 'Three',\n",
       "   'UPC': 'e72a5dfc7e9267b2',\n",
       "   'Product Type': 'Books',\n",
       "   'Price (excl. tax)': 'Â£17.93',\n",
       "   'Price (incl. tax)': 'Â£17.93',\n",
       "   'Tax': 'Â£0.00',\n",
       "   'Availability': 'In stock (19 available)',\n",
       "   'Number of reviews': '0'},\n",
       "  {'title': 'The Boys in the Boat: Nine Americans and Their Epic Quest for Gold at the 1936 Berlin Olympics',\n",
       "   'genre': 'Default',\n",
       "   'description': \"For readers of Laura Hillenbrand's Seabiscuit and Unbroken, the dramatic story of the American rowing team that stunned the world at Hitler's 1936 Berlin Olympics Daniel James Brownâ\\x80\\x99s robust book tells the story of the University of Washingtonâ\\x80\\x99s 1936 eight-oar crew and their epic quest for an Olympic gold medal, a team that transformed the sport and grabbed the attention o For readers of Laura Hillenbrand's Seabiscuit and Unbroken, the dramatic story of the American rowing team that stunned the world at Hitler's 1936 Berlin Olympics Daniel James Brownâ\\x80\\x99s robust book tells the story of the University of Washingtonâ\\x80\\x99s 1936 eight-oar crew and their epic quest for an Olympic gold medal, a team that transformed the sport and grabbed the attention of millions of Americans. The sons of loggers, shipyard workers, and farmers, the boys defeated elite rivals first from eastern and British universities and finally the German crew rowing for Adolf Hitler in the Olympic games in Berlin, 1936. The emotional heart of the story lies with one rower, Joe Rantz, a teenager without family or prospects, who rows not for glory, but to regain his shattered self-regard and to find a place he can call home. The crew is assembledÂ\\xa0 by an enigmatic coach and mentored by a visionary, eccentric British boat builder, but it is their trust in each other that makes them a victorious team. They remind the country of what can be done when everyone quite literally pulls togetherâ\\x80\\x94a perfect melding of commitment, determination, and optimism. Drawing on the boysâ\\x80\\x99 own diaries and journals, their photos and memories of a once-in-a-lifetime shared dream, The Boys in the Boat is an irresistible story about beating the odds and finding hope in the most desperate of timesâ\\x80\\x94the improbable, intimate story of nine working-class boys from the American west who, in the depths of the Great Depression, showed the world what true grit really meant. It will appeal to readers of Erik Larson, Timothy Egan, James Bradley, and David Halberstam's The Amateurs. ...more\",\n",
       "   'img': '../../media/cache/d1/2d/d12d26739b5369a6b5b3024e4d08f907.jpg',\n",
       "   'stars': 'Four',\n",
       "   'UPC': 'e10e1e165dc8be4a',\n",
       "   'Product Type': 'Books',\n",
       "   'Price (excl. tax)': 'Â£22.60',\n",
       "   'Price (incl. tax)': 'Â£22.60',\n",
       "   'Tax': 'Â£0.00',\n",
       "   'Availability': 'In stock (19 available)',\n",
       "   'Number of reviews': '0'},\n",
       "  {'title': 'Starving Hearts (Triangular Trade Trilogy, #1)',\n",
       "   'genre': 'Default',\n",
       "   'description': \"Since her assault, Miss Annette Chetwynd has been plagued by nightmares and worries about an arranged marriage. But she yearns to find her anonymous rescuer. Unfortunately, her health and intellect prevent it. Both repel suitors and cause Annette to doubt God's existence, at least until He answers her prayers in an unusual way ... Mr. Peter Adsley is joining the clergy, an Since her assault, Miss Annette Chetwynd has been plagued by nightmares and worries about an arranged marriage. But she yearns to find her anonymous rescuer. Unfortunately, her health and intellect prevent it. Both repel suitors and cause Annette to doubt God's existence, at least until He answers her prayers in an unusual way ... Mr. Peter Adsley is joining the clergy, and he desires a godly wife by his side. After his failed attempt to obtain one, he engages in a clandestine meeting with the bewitching young woman who keeps crossing his path. But she is so unsettling. Destined for disappointments, Peter and Annette endure disgraceful situations. Will Peter's faith sustain him through overwhelming setbacks? Can Annette overcome her doubts? Or will their starving hearts yield to the machinations of a mad man? ...more\",\n",
       "   'img': '../../media/cache/a0/7e/a07ed8f1c23f7b4baf7102722680bd30.jpg',\n",
       "   'stars': 'Two',\n",
       "   'UPC': '0312262ecafa5a40',\n",
       "   'Product Type': 'Books',\n",
       "   'Price (excl. tax)': 'Â£13.99',\n",
       "   'Price (incl. tax)': 'Â£13.99',\n",
       "   'Tax': 'Â£0.00',\n",
       "   'Availability': 'In stock (19 available)',\n",
       "   'Number of reviews': '0'}],\n",
       " [{'title': 'Soumission',\n",
       "   'genre': 'Fiction',\n",
       "   'description': 'Dans une France assez proche de la nÃ´tre, un homme sâ\\x80\\x99engage dans la carriÃ¨re universitaire. Peu motivÃ© par lâ\\x80\\x99enseignement, il sâ\\x80\\x99attend Ã\\xa0 une vie ennuyeuse mais calme, protÃ©gÃ©e des grands drames historiques. Cependant les forces en jeu dans le pays ont fissurÃ© le systÃ¨me politique jusquâ\\x80\\x99Ã\\xa0 provoquer son effondrement. Cette implosion sans soubresauts, sans vraie rÃ©volution, s Dans une France assez proche de la nÃ´tre, un homme sâ\\x80\\x99engage dans la carriÃ¨re universitaire. Peu motivÃ© par lâ\\x80\\x99enseignement, il sâ\\x80\\x99attend Ã\\xa0 une vie ennuyeuse mais calme, protÃ©gÃ©e des grands drames historiques. Cependant les forces en jeu dans le pays ont fissurÃ© le systÃ¨me politique jusquâ\\x80\\x99Ã\\xa0 provoquer son effondrement. Cette implosion sans soubresauts, sans vraie rÃ©volution, se dÃ©veloppe comme un mauvais rÃªve.Le talent de lâ\\x80\\x99auteur, sa force visionnaire nous entraÃ®nent sur un terrain ambigu et glissant ; son regard sur notre civilisation vieillissante fait coexister dans ce roman les intuitions poÃ©tiques, les effets comiques, une mÃ©lancolie fataliste.Ce livre est une saisissante fable politique et morale. ...more',\n",
       "   'img': '../../media/cache/ee/cf/eecfe998905e455df12064dba399c075.jpg',\n",
       "   'stars': 'One',\n",
       "   'UPC': '6957f44c3847a760',\n",
       "   'Product Type': 'Books',\n",
       "   'Price (excl. tax)': 'Â£50.10',\n",
       "   'Price (incl. tax)': 'Â£50.10',\n",
       "   'Tax': 'Â£0.00',\n",
       "   'Availability': 'In stock (20 available)',\n",
       "   'Number of reviews': '0'}],\n",
       " [{'title': 'Tipping the Velvet',\n",
       "   'genre': 'Historical Fiction',\n",
       "   'description': '\"Erotic and absorbing...Written with starling power.\"--\"The New York Times Book Review \" Nan King, an oyster girl, is captivated by the music hall phenomenon Kitty Butler, a male impersonator extraordinaire treading the boards in Canterbury. Through a friend at the box office, Nan manages to visit all her shows and finally meet her heroine. Soon after, she becomes Kitty\\'s \"Erotic and absorbing...Written with starling power.\"--\"The New York Times Book Review \" Nan King, an oyster girl, is captivated by the music hall phenomenon Kitty Butler, a male impersonator extraordinaire treading the boards in Canterbury. Through a friend at the box office, Nan manages to visit all her shows and finally meet her heroine. Soon after, she becomes Kitty\\'s dresser and the two head for the bright lights of Leicester Square where they begin a glittering career as music-hall stars in an all-singing and dancing double act. At the same time, behind closed doors, they admit their attraction to each other and their affair begins. ...more',\n",
       "   'img': '../../media/cache/08/e9/08e94f3731d7d6b760dfbfbc02ca5c62.jpg',\n",
       "   'stars': 'One',\n",
       "   'UPC': '90fa61229261140a',\n",
       "   'Product Type': 'Books',\n",
       "   'Price (excl. tax)': 'Â£53.74',\n",
       "   'Price (incl. tax)': 'Â£53.74',\n",
       "   'Tax': 'Â£0.00',\n",
       "   'Availability': 'In stock (20 available)',\n",
       "   'Number of reviews': '0'}],\n",
       " [{'title': 'Sapiens: A Brief History of Humankind',\n",
       "   'genre': 'History',\n",
       "   'description': 'From a renowned historian comes a groundbreaking narrative of humanityâ\\x80\\x99s creation and evolutionâ\\x80\\x94a #1 international bestsellerâ\\x80\\x94that explores the ways in which biology and history have defined us and enhanced our understanding of what it means to be â\\x80\\x9chuman.â\\x80\\x9dOne hundred thousand years ago, at least six different species of humans inhabited Earth. Yet today there is only oneâ\\x80\\x94h From a renowned historian comes a groundbreaking narrative of humanityâ\\x80\\x99s creation and evolutionâ\\x80\\x94a #1 international bestsellerâ\\x80\\x94that explores the ways in which biology and history have defined us and enhanced our understanding of what it means to be â\\x80\\x9chuman.â\\x80\\x9dOne hundred thousand years ago, at least six different species of humans inhabited Earth. Yet today there is only oneâ\\x80\\x94homo sapiens. What happened to the others? And what may happen to us?Most books about the history of humanity pursue either a historical or a biological approach, but Dr. Yuval Noah Harari breaks the mold with this highly original book that begins about 70,000 years ago with the appearance of modern cognition. From examining the role evolving humans have played in the global ecosystem to charting the rise of empires, Sapiens integrates history and science to reconsider accepted narratives, connect past developments with contemporary concerns, and examine specific events within the context of larger ideas.Dr. Harari also compels us to look ahead, because over the last few decades humans have begun to bend laws of natural selection that have governed life for the past four billion years. We are acquiring the ability to design not only the world around us, but also ourselves. Where is this leading us, and what do we want to become?Featuring 27 photographs, 6 maps, and 25 illustrations/diagrams, this provocative and insightful work is sure to spark debate and is essential reading for aficionados of Jared Diamond, James Gleick, Matt Ridley, Robert Wright, and Sharon Moalem. ...more',\n",
       "   'img': '../../media/cache/ce/5f/ce5f052c65cc963cf4422be096e915c9.jpg',\n",
       "   'stars': 'Five',\n",
       "   'UPC': '4165285e1663650f',\n",
       "   'Product Type': 'Books',\n",
       "   'Price (excl. tax)': 'Â£54.23',\n",
       "   'Price (incl. tax)': 'Â£54.23',\n",
       "   'Tax': 'Â£0.00',\n",
       "   'Availability': 'In stock (20 available)',\n",
       "   'Number of reviews': '0'}],\n",
       " [{'title': 'Rip it Up and Start Again',\n",
       "   'genre': 'Music',\n",
       "   'description': \"Punk's raw power rejuvenated rock, but by the summer of 1977 the movement had become a parody of itself. RIP IT UP AND START AGAIN is a celebration of what happened next.Post-punk bands like PiL, Joy Division, Talking Heads, The Fall and The Human League dedicated themselves to fulfilling punk's unfinished musical revolution. The post-punk groups were fervent modernists; w Punk's raw power rejuvenated rock, but by the summer of 1977 the movement had become a parody of itself. RIP IT UP AND START AGAIN is a celebration of what happened next.Post-punk bands like PiL, Joy Division, Talking Heads, The Fall and The Human League dedicated themselves to fulfilling punk's unfinished musical revolution. The post-punk groups were fervent modernists; whether experimenting with electronics and machine rhythm or adapting ideas from dub reggae and disco, they were totally confident they could invent a whole new future for music. ...more\",\n",
       "   'img': '../../media/cache/81/7f/817f5089c0e6e62738dce2931e7323d3.jpg',\n",
       "   'stars': 'Five',\n",
       "   'UPC': 'a34ba96d4081e6a4',\n",
       "   'Product Type': 'Books',\n",
       "   'Price (excl. tax)': 'Â£35.02',\n",
       "   'Price (incl. tax)': 'Â£35.02',\n",
       "   'Tax': 'Â£0.00',\n",
       "   'Availability': 'In stock (19 available)',\n",
       "   'Number of reviews': '0'},\n",
       "  {'title': 'Our Band Could Be Your Life: Scenes from the American Indie Underground, 1981-1991',\n",
       "   'genre': 'Music',\n",
       "   'description': \"This is the never-before-told story of the musical revolution that happened right under the nose of the Reagan Eighties--when a small but sprawling network of bands, labels, fanzines, radio stations, and other subversives reenergized American rock with punk rock's do-it-yourself credo and created music that was deeply personal, often brilliant, always challenging, and imme This is the never-before-told story of the musical revolution that happened right under the nose of the Reagan Eighties--when a small but sprawling network of bands, labels, fanzines, radio stations, and other subversives reenergized American rock with punk rock's do-it-yourself credo and created music that was deeply personal, often brilliant, always challenging, and immensely influential. This sweeping chronicle of music, politics, drugs, fear, loathing, and faith has been recognized as an indie rock classic in its own right. Among the bands profiled: Mission of Burma, Butthole Surfers, The Minutemen, Sonic Youth, Black Flag, Big Black, HÃ¼sker DÃ¼, Fugazi, Minor Threat, Mudhoney, The Replacements, Beat Happening, and Dinosaur Jr. ...more\",\n",
       "   'img': '../../media/cache/ad/96/ad96e9c9f1664cbcb0e9627b007fb6f9.jpg',\n",
       "   'stars': 'Three',\n",
       "   'UPC': 'deda3e61b9514b83',\n",
       "   'Product Type': 'Books',\n",
       "   'Price (excl. tax)': 'Â£57.25',\n",
       "   'Price (incl. tax)': 'Â£57.25',\n",
       "   'Tax': 'Â£0.00',\n",
       "   'Availability': 'In stock (19 available)',\n",
       "   'Number of reviews': '0'}],\n",
       " [{'title': 'Sharp Objects',\n",
       "   'genre': 'Mystery',\n",
       "   'description': 'WICKED above her hipbone, GIRL across her heart Words are like a road map to reporter Camille Preakerâ\\x80\\x99s troubled past. Fresh from a brief stay at a psych hospital, Camilleâ\\x80\\x99s first assignment from the second-rate daily paper where she works brings her reluctantly back to her hometown to cover the murders of two preteen girls. NASTY on her kneecap, BABYDOLL on her leg Since WICKED above her hipbone, GIRL across her heart Words are like a road map to reporter Camille Preakerâ\\x80\\x99s troubled past. Fresh from a brief stay at a psych hospital, Camilleâ\\x80\\x99s first assignment from the second-rate daily paper where she works brings her reluctantly back to her hometown to cover the murders of two preteen girls. NASTY on her kneecap, BABYDOLL on her leg Since she left town eight years ago, Camille has hardly spoken to her neurotic, hypochondriac mother or to the half-sister she barely knows: a beautiful thirteen-year-old with an eerie grip on the town. Now, installed again in her familyâ\\x80\\x99s Victorian mansion, Camille is haunted by the childhood tragedy she has spent her whole life trying to cut from her memory. HARMFUL on her wrist, WHORE on her ankle As Camille works to uncover the truth about these violent crimes, she finds herself identifying with the young victimsâ\\x80\\x94a bit too strongly. Clues keep leading to dead ends, forcing Camille to unravel the psychological puzzle of her own past to get at the story. Dogged by her own demons, Camille will have to confront what happened to her years before if she wants to survive this homecoming.With its taut, crafted writing, Sharp Objects is addictive, haunting, and unforgettable. ...more',\n",
       "   'img': '../../media/cache/c0/59/c05972805aa7201171b8fc71a5b00292.jpg',\n",
       "   'stars': 'Four',\n",
       "   'UPC': 'e00eb4fd7b871a48',\n",
       "   'Product Type': 'Books',\n",
       "   'Price (excl. tax)': 'Â£47.82',\n",
       "   'Price (incl. tax)': 'Â£47.82',\n",
       "   'Tax': 'Â£0.00',\n",
       "   'Availability': 'In stock (20 available)',\n",
       "   'Number of reviews': '0'}],\n",
       " [{'title': 'A Light in the Attic',\n",
       "   'genre': 'Poetry',\n",
       "   'description': \"It's hard to imagine a world without A Light in the Attic. This now-classic collection of poetry and drawings from Shel Silverstein celebrates its 20th anniversary with this special edition. Silverstein's humorous and creative verse can amuse the dowdiest of readers. Lemon-faced adults and fidgety kids sit still and read these rhythmic words and laugh and smile and love th It's hard to imagine a world without A Light in the Attic. This now-classic collection of poetry and drawings from Shel Silverstein celebrates its 20th anniversary with this special edition. Silverstein's humorous and creative verse can amuse the dowdiest of readers. Lemon-faced adults and fidgety kids sit still and read these rhythmic words and laugh and smile and love that Silverstein. Need proof of his genius? RockabyeRockabye baby, in the treetopDon't you know a treetopIs no safe place to rock?And who put you up there,And your cradle, too?Baby, I think someone down here'sGot it in for you. Shel, you never sounded so good. ...more\",\n",
       "   'img': '../../media/cache/fe/72/fe72f0532301ec28892ae79a629a293c.jpg',\n",
       "   'stars': 'Three',\n",
       "   'UPC': 'a897fe39b1053632',\n",
       "   'Product Type': 'Books',\n",
       "   'Price (excl. tax)': 'Â£51.77',\n",
       "   'Price (incl. tax)': 'Â£51.77',\n",
       "   'Tax': 'Â£0.00',\n",
       "   'Availability': 'In stock (22 available)',\n",
       "   'Number of reviews': '0'},\n",
       "  {'title': 'The Black Maria',\n",
       "   'genre': 'Poetry',\n",
       "   'description': 'Praise for Aracelis Girmay:\"[Girmay\\'s] every lossâ\\x80\\x94she calls them estrangementsâ\\x80\\x94is a yearning for connection across time and place; her every fragment is a bulwark against ruin.\" â\\x80\\x94 O, The Oprah Magazine \"In Aracelis Girmay we have a poet who collects, polishes, and shares stories with such brilliant invention, tenderness, and intellectual liveliness that it is understandabl Praise for Aracelis Girmay:\"[Girmay\\'s] every lossâ\\x80\\x94she calls them estrangementsâ\\x80\\x94is a yearning for connection across time and place; her every fragment is a bulwark against ruin.\" â\\x80\\x94 O, The Oprah Magazine \"In Aracelis Girmay we have a poet who collects, polishes, and shares stories with such brilliant invention, tenderness, and intellectual liveliness that it is understandable that we think of her as the blessed curator of our collective histories. There is in her art the vulnerability of one who lives inside of the stories that she gathers in this remarkable collection. Her poems set off alarms even as they transform the world she inhabits, showing us, in the process, exactly what she asks of Romare Beardenâ\\x80\\x99s art: â\\x80\\x98â\\x80¦how not to // assign all blackness near the sea / a captivity.â\\x80\\x99 This is one of the many sweet contradictions in the black maria, which â\\x80\\x98is a black flag / wounding the pastoral.â\\x80\\x99 I am deeply thankful that we have a poet of her unique and singular talent writing today.\" â\\x80\\x94Kwame DawesTaking its name from the moon\\'s dark plains, misidentified as seas by early astronomers, the black maria investigates African diasporic histories, the consequences of racism within American culture, and the question of human identity. Central to this project is a desire to recognize the lives of Eritrean refugees who have been made invisible by years of immigration crisis, refugee status, exile, and resulting statelessness. The recipient of a 2015 Whiting Award for Poetry, Girmay\\'s newest collection elegizes and celebrates life, while wrestling with the humanistic notion of seeing beyond: seeing violence, seeing grace, and seeing each other better.\"to the sea\"great storage house, historyon which we rode, we touchedthe brief pulse of your flutteringpages, spelled with salt & life,your rage, your indifferenceyour gentleness washing our feet,all of you going onwhether or not we live,to you we bring our carnationsyellow & pink, how they floatlike bright sentences atopyour memory\\'s dark hairAracelis Girmay is the author of three poetry collections, the black maria; Kingdom Animalia, which won the Isabella Gardner Award and was a finalist for the NBCC Award; and Teeth. The recipient of a 2015 Whiting Award, she has received grants and fellowships from the Jerome, Cave Canem, and Watson foundations, as well as Civitella Ranieri and the NEA. She currently teaches at Hampshire College\\'s School for Interdisciplinary Arts and in Drew University\\'s low residency MFA program. Originally from Santa Ana, California, she splits her time between New York and Amherst, Massachusetts. ...more',\n",
       "   'img': '../../media/cache/d1/7a/d17a3e313e52e1be5651719e4fba1d16.jpg',\n",
       "   'stars': 'One',\n",
       "   'UPC': '1dfe412b8ac00530',\n",
       "   'Product Type': 'Books',\n",
       "   'Price (excl. tax)': 'Â£52.15',\n",
       "   'Price (incl. tax)': 'Â£52.15',\n",
       "   'Tax': 'Â£0.00',\n",
       "   'Availability': 'In stock (19 available)',\n",
       "   'Number of reviews': '0'},\n",
       "  {'title': \"Shakespeare's Sonnets\",\n",
       "   'genre': 'Poetry',\n",
       "   'description': 'This book is an important and complete collection of the Sonnets of William Shakespeare. Most readers are aware of the great plays and manuscripts written for the stage, but are unaware of the magnificent Sonnets which were written around the same period. This is an excellent, complete collection of the Sonnets and poetry of William Shakespeare and should not be missed by This book is an important and complete collection of the Sonnets of William Shakespeare. Most readers are aware of the great plays and manuscripts written for the stage, but are unaware of the magnificent Sonnets which were written around the same period. This is an excellent, complete collection of the Sonnets and poetry of William Shakespeare and should not be missed by those interested in the completion of a collection of his writings and those interested in early poetic works. ...more',\n",
       "   'img': '../../media/cache/4d/7a/4d7a79a8be80a529b277ed5c4d8ba482.jpg',\n",
       "   'stars': 'Four',\n",
       "   'UPC': '30a7f60cd76ca58c',\n",
       "   'Product Type': 'Books',\n",
       "   'Price (excl. tax)': 'Â£20.66',\n",
       "   'Price (incl. tax)': 'Â£20.66',\n",
       "   'Tax': 'Â£0.00',\n",
       "   'Availability': 'In stock (19 available)',\n",
       "   'Number of reviews': '0'},\n",
       "  {'title': 'Olio',\n",
       "   'genre': 'Poetry',\n",
       "   'description': \"Part fact, part fiction, Tyehimba Jess's much anticipated second book weaves sonnet, song, and narrative to examine the lives of mostly unrecorded African American performers directly before and after the Civil War up to World War I. Olio is an effort to understand how they met, resisted, complicated, co-opted, and sometimes defeated attempts to minstrelize them.So, while Part fact, part fiction, Tyehimba Jess's much anticipated second book weaves sonnet, song, and narrative to examine the lives of mostly unrecorded African American performers directly before and after the Civil War up to World War I. Olio is an effort to understand how they met, resisted, complicated, co-opted, and sometimes defeated attempts to minstrelize them.So, while I lead this choir, I still find thatI'm being ledâ\\x80¦I'm a missionarymending my faith in the midst of this flockâ\\x80¦I toil in their fields of praise. When folks seethese freedmen stand and sing, they hear their Godspeak in tongues. These nine dark mouths sing shelter;they echo a hymn's haven from slavery's weather.Detroit native Tyehimba Jess' first book of poetry, leadbelly, was a winner of the 2004 National Poetry Series. Jess, a Cave Canem and NYU Alumni, has received fellowships from the Whiting Foundation, National Endowment for the Arts, Illinois Arts Council, and the Provincetown Fine Arts Work Center. Jess is also a veteran of the 2000 and 2001 Green Mill Poetry Slam Team. He exhibited his poetry at the 2011 TEDxNashville Conference. Jess is an Associate Professor of English at College of Staten Island. ...more\",\n",
       "   'img': '../../media/cache/b1/0e/b10eabab1e1c811a6d47969904fd5755.jpg',\n",
       "   'stars': 'One',\n",
       "   'UPC': 'feb7cc7701ecf901',\n",
       "   'Product Type': 'Books',\n",
       "   'Price (excl. tax)': 'Â£23.88',\n",
       "   'Price (incl. tax)': 'Â£23.88',\n",
       "   'Tax': 'Â£0.00',\n",
       "   'Availability': 'In stock (19 available)',\n",
       "   'Number of reviews': '0'}],\n",
       " [{'title': 'Libertarianism for Beginners',\n",
       "   'genre': 'Politics',\n",
       "   'description': 'Libertarianism isn\\'t about winning elections; it is first and foremost a political philosophy--a description of how, in the opinion of libertarians, free people ought to treat one another, at least when they use the law, which they regard as potentially dangerous. If libertarians are correct, the law should intrude into people\\'s lives as little as possible, rarely telling Libertarianism isn\\'t about winning elections; it is first and foremost a political philosophy--a description of how, in the opinion of libertarians, free people ought to treat one another, at least when they use the law, which they regard as potentially dangerous. If libertarians are correct, the law should intrude into people\\'s lives as little as possible, rarely telling them what to do or how to live.A political and economic philosophy as old as John Locke and John Stuart Mill, but as alive and timely as Rand Paul, the Tea Party, and the novels of Ayn Rand, libertarianism emphasizes individual rights and calls for a radical reduction in the power and size of government. \"Libertarianism For Beginners\" lays out the history and principles of this often-misunderstood philosophy in lucid, dispassionate terms that help illuminate today\\'s political dialogue.\" ...more',\n",
       "   'img': '../../media/cache/91/a4/91a46253e165d144ef5938f2d456b88f.jpg',\n",
       "   'stars': 'Two',\n",
       "   'UPC': 'a18a4f574854aced',\n",
       "   'Product Type': 'Books',\n",
       "   'Price (excl. tax)': 'Â£51.33',\n",
       "   'Price (incl. tax)': 'Â£51.33',\n",
       "   'Tax': 'Â£0.00',\n",
       "   'Availability': 'In stock (19 available)',\n",
       "   'Number of reviews': '0'}],\n",
       " [{'title': 'Mesaerion: The Best Science Fiction Stories 1800-1849',\n",
       "   'genre': 'Science Fiction',\n",
       "   'description': 'Andrew Barger, award-winning author and engineer, has extensively researched forgotten journals and magazines of the early 19th century to locate groundbreaking science fiction short stories in the English language. In doing so, he found what is possibly the first science fiction story by a female (and it is not from Mary Shelley). Andrew located the first steampunk short Andrew Barger, award-winning author and engineer, has extensively researched forgotten journals and magazines of the early 19th century to locate groundbreaking science fiction short stories in the English language. In doing so, he found what is possibly the first science fiction story by a female (and it is not from Mary Shelley). Andrew located the first steampunk short story, which has not been republished since 1844. There is the first voyage to the moon in a balloon, republished for the first time since 1820 that further tells of a darkness machine and a lunarian named Zuloc. Other sci-stories include the first robotic insect and an electricity gun. Once again, Andrew has searched old texts to find the very best science fiction stories from the period when the genre automated to life, some of the stories are published for the first time in nearly 200 years. Read these fantastic stories today!OUR OWN COUNTRY So mechanical has the age become, that men seriously talk of flying machines, to go by steam, --not your air-balloons, but real Daedalian wings, made of wood and joints, nailed to your shoulder, --not wings of feathers and wax like the wings of Icarus, who fell into the Cretan sea, but real, solid, substantial, rock-maple wings with wrought-iron hinges, and huge concavities, to propel us through the air. Knickerbocker Magazine, May 18 ...more',\n",
       "   'img': '../../media/cache/e8/1f/e81f850db9b9622c65619c9f15748de7.jpg',\n",
       "   'stars': 'One',\n",
       "   'UPC': 'e30f54cea9b38190',\n",
       "   'Product Type': 'Books',\n",
       "   'Price (excl. tax)': 'Â£37.59',\n",
       "   'Price (incl. tax)': 'Â£37.59',\n",
       "   'Tax': 'Â£0.00',\n",
       "   'Availability': 'In stock (19 available)',\n",
       "   'Number of reviews': '0'}],\n",
       " [{'title': \"Scott Pilgrim's Precious Little Life (Scott Pilgrim #1)\",\n",
       "   'genre': 'Sequential Art',\n",
       "   'description': 'Scott Pilgrim\\'s life is totally sweet. He\\'s 23 years old, he\\'s in a rockband, he\\'s \"between jobs\" and he\\'s dating a cute high school girl. Nothing could possibly go wrong, unless a seriously mind-blowing, dangerously fashionable, rollerblading delivery girl named Ramona Flowers starts cruising through his dreams and sailing by him at parties. Will Scott\\'s awesome life get Scott Pilgrim\\'s life is totally sweet. He\\'s 23 years old, he\\'s in a rockband, he\\'s \"between jobs\" and he\\'s dating a cute high school girl. Nothing could possibly go wrong, unless a seriously mind-blowing, dangerously fashionable, rollerblading delivery girl named Ramona Flowers starts cruising through his dreams and sailing by him at parties. Will Scott\\'s awesome life get turned upside-down? Will he have to face Ramona\\'s seven evil ex-boyfriends in battle? The short answer is yes. The long answer is Scott Pilgrim, Volume 1: Scott Pilgrim\\'s Precious Little Life ...more',\n",
       "   'img': '../../media/cache/97/27/97275841c81e66d53bf9313cba06f23e.jpg',\n",
       "   'stars': 'Five',\n",
       "   'UPC': '3b1c02bac2a429e6',\n",
       "   'Product Type': 'Books',\n",
       "   'Price (excl. tax)': 'Â£52.29',\n",
       "   'Price (incl. tax)': 'Â£52.29',\n",
       "   'Tax': 'Â£0.00',\n",
       "   'Availability': 'In stock (19 available)',\n",
       "   'Number of reviews': '0'}],\n",
       " [{'title': \"It's Only the Himalayas\",\n",
       "   'genre': 'Travel',\n",
       "   'description': 'â\\x80\\x9cWherever you go, whatever you do, just . . . donâ\\x80\\x99t do anything stupid.â\\x80\\x9d â\\x80\\x94My MotherDuring her yearlong adventure backpacking from South Africa to Singapore, S. Bedford definitely did a few things her mother might classify as \"stupid.\" She swam with great white sharks in South Africa, ran from lions in Zimbabwe, climbed a Himalayan mountain without training in Nepal, and wa â\\x80\\x9cWherever you go, whatever you do, just . . . donâ\\x80\\x99t do anything stupid.â\\x80\\x9d â\\x80\\x94My MotherDuring her yearlong adventure backpacking from South Africa to Singapore, S. Bedford definitely did a few things her mother might classify as \"stupid.\" She swam with great white sharks in South Africa, ran from lions in Zimbabwe, climbed a Himalayan mountain without training in Nepal, and watched as her friend was attacked by a monkey in Indonesia.But interspersed in those slightly more crazy moments, Sue Bedfored and her friend \"Sara the Stoic\" experienced the sights, sounds, life, and culture of fifteen countries. Joined along the way by a few friends and their aging fathers here and there, Sue and Sara experience the trip of a lifetime. They fall in love with the world, cultivate an appreciation for home, and discover who, or what, they want to become.It\\'s Only the Himalayas is the incredibly funny, sometimes outlandish, always entertaining confession of a young backpacker that will inspire you to take your own adventure. ...more',\n",
       "   'img': '../../media/cache/6d/41/6d418a73cc7d4ecfd75ca11d854041db.jpg',\n",
       "   'stars': 'Two',\n",
       "   'UPC': 'a22124811bfa8350',\n",
       "   'Product Type': 'Books',\n",
       "   'Price (excl. tax)': 'Â£45.17',\n",
       "   'Price (incl. tax)': 'Â£45.17',\n",
       "   'Tax': 'Â£0.00',\n",
       "   'Availability': 'In stock (19 available)',\n",
       "   'Number of reviews': '0'}],\n",
       " [{'title': 'The Requiem Red',\n",
       "   'genre': 'Young Adult',\n",
       "   'description': \"Patient Twenty-nine.A monster roams the halls of Soothing Hills Asylum. Three girls dead. 29 is endowed with the curseâ\\x80¦or gift of perception. She hears messages in music, sees lyrics in paintings. And the corn. A lifetime asylum resident, the orchestral corn music is the only constant in her life.Mason, a new, kind orderly, sees 29 as a woman, not a lunatic. And as his bel Patient Twenty-nine.A monster roams the halls of Soothing Hills Asylum. Three girls dead. 29 is endowed with the curseâ\\x80¦or gift of perception. She hears messages in music, sees lyrics in paintings. And the corn. A lifetime asylum resident, the orchestral corn music is the only constant in her life.Mason, a new, kind orderly, sees 29 as a woman, not a lunatic. And as his belief in her grows, so does her self- confidence. That perhaps she might escape, might see the outside world. But the monster has other plans. The missing girls share one common thread...each was twenty-nine's cell mate. Will she be next? ...more\",\n",
       "   'img': '../../media/cache/6b/07/6b07b77236b7c80f42bd90bf325e69f6.jpg',\n",
       "   'stars': 'One',\n",
       "   'UPC': 'f77dbf2323deb740',\n",
       "   'Product Type': 'Books',\n",
       "   'Price (excl. tax)': 'Â£22.65',\n",
       "   'Price (incl. tax)': 'Â£22.65',\n",
       "   'Tax': 'Â£0.00',\n",
       "   'Availability': 'In stock (19 available)',\n",
       "   'Number of reviews': '0'},\n",
       "  {'title': 'Set Me Free',\n",
       "   'genre': 'Young Adult',\n",
       "   'description': 'Aaron Ledbetterâ\\x80\\x99s future had been planned out for him since before he was born. Each year, the Ledbetter family vacation on Tybee Island gave Aaron a chance to briefly free himself from his familyâ\\x80\\x99s expectations. When he meets Jonas â\\x80\\x9cLuckyâ\\x80\\x9d Luckett, a caricature artist in town with the traveling carnival, he must choose between the life thatâ\\x80\\x99s been mapped out for him, and Aaron Ledbetterâ\\x80\\x99s future had been planned out for him since before he was born. Each year, the Ledbetter family vacation on Tybee Island gave Aaron a chance to briefly free himself from his familyâ\\x80\\x99s expectations. When he meets Jonas â\\x80\\x9cLuckyâ\\x80\\x9d Luckett, a caricature artist in town with the traveling carnival, he must choose between the life thatâ\\x80\\x99s been mapped out for him, and the chance at true love. ...more',\n",
       "   'img': '../../media/cache/b8/e9/b8e91bd2fc74c3954118999238abb4b8.jpg',\n",
       "   'stars': 'Five',\n",
       "   'UPC': 'ce6396b0f23f6ecc',\n",
       "   'Product Type': 'Books',\n",
       "   'Price (excl. tax)': 'Â£17.46',\n",
       "   'Price (incl. tax)': 'Â£17.46',\n",
       "   'Tax': 'Â£0.00',\n",
       "   'Availability': 'In stock (19 available)',\n",
       "   'Number of reviews': '0'}]]"
      ]
     },
     "execution_count": 134,
     "metadata": {},
     "output_type": "execute_result"
    }
   ],
   "source": [
    "bag.compute()"
   ]
  },
  {
   "cell_type": "markdown",
   "id": "97e736e1",
   "metadata": {},
   "source": [
    "22. Сохраните данные о книгах в виде нескольких csv-файлов. Считайте их в виде Dask DataFrame. Выясните, есть ли в датасете книги, на которые оставили хоть один отзыв"
   ]
  },
  {
   "cell_type": "markdown",
   "id": "4e37d051",
   "metadata": {},
   "source": [
    "23. Посчитайте кол-во обложек книг, которые по ширине больше, чем по длине. Разбейте весь набор файлов на 4 группы и выполните обработку в 4 процесса."
   ]
  },
  {
   "cell_type": "code",
   "execution_count": 167,
   "id": "21bbc832",
   "metadata": {},
   "outputs": [],
   "source": [
    "import dask_image\n",
    "from dask_image.imread import imread"
   ]
  },
  {
   "cell_type": "code",
   "execution_count": 168,
   "id": "adc22075",
   "metadata": {},
   "outputs": [
    {
     "data": {
      "text/html": [
       "<table>\n",
       "    <tr>\n",
       "        <td>\n",
       "            <table style=\"border-collapse: collapse;\">\n",
       "                <thead>\n",
       "                    <tr>\n",
       "                        <td> </td>\n",
       "                        <th> Array </th>\n",
       "                        <th> Chunk </th>\n",
       "                    </tr>\n",
       "                </thead>\n",
       "                <tbody>\n",
       "                    \n",
       "                    <tr>\n",
       "                        <th> Bytes </th>\n",
       "                        <td> 5.39 MiB </td>\n",
       "                        <td> 368.00 kiB </td>\n",
       "                    </tr>\n",
       "                    \n",
       "                    <tr>\n",
       "                        <th> Shape </th>\n",
       "                        <td> (15, 395, 318, 3) </td>\n",
       "                        <td> (1, 395, 318, 3) </td>\n",
       "                    </tr>\n",
       "                    <tr>\n",
       "                        <th> Dask graph </th>\n",
       "                        <td colspan=\"2\"> 15 chunks in 3 graph layers </td>\n",
       "                    </tr>\n",
       "                    <tr>\n",
       "                        <th> Data type </th>\n",
       "                        <td colspan=\"2\"> uint8 numpy.ndarray </td>\n",
       "                    </tr>\n",
       "                </tbody>\n",
       "            </table>\n",
       "        </td>\n",
       "        <td>\n",
       "        <svg width=\"350\" height=\"217\" style=\"stroke:rgb(0,0,0);stroke-width:1\" >\n",
       "\n",
       "  <!-- Horizontal lines -->\n",
       "  <line x1=\"0\" y1=\"0\" x2=\"32\" y2=\"0\" style=\"stroke-width:2\" />\n",
       "  <line x1=\"0\" y1=\"25\" x2=\"32\" y2=\"25\" style=\"stroke-width:2\" />\n",
       "\n",
       "  <!-- Vertical lines -->\n",
       "  <line x1=\"0\" y1=\"0\" x2=\"0\" y2=\"25\" style=\"stroke-width:2\" />\n",
       "  <line x1=\"2\" y1=\"0\" x2=\"2\" y2=\"25\" />\n",
       "  <line x1=\"4\" y1=\"0\" x2=\"4\" y2=\"25\" />\n",
       "  <line x1=\"6\" y1=\"0\" x2=\"6\" y2=\"25\" />\n",
       "  <line x1=\"8\" y1=\"0\" x2=\"8\" y2=\"25\" />\n",
       "  <line x1=\"10\" y1=\"0\" x2=\"10\" y2=\"25\" />\n",
       "  <line x1=\"13\" y1=\"0\" x2=\"13\" y2=\"25\" />\n",
       "  <line x1=\"15\" y1=\"0\" x2=\"15\" y2=\"25\" />\n",
       "  <line x1=\"17\" y1=\"0\" x2=\"17\" y2=\"25\" />\n",
       "  <line x1=\"19\" y1=\"0\" x2=\"19\" y2=\"25\" />\n",
       "  <line x1=\"21\" y1=\"0\" x2=\"21\" y2=\"25\" />\n",
       "  <line x1=\"24\" y1=\"0\" x2=\"24\" y2=\"25\" />\n",
       "  <line x1=\"26\" y1=\"0\" x2=\"26\" y2=\"25\" />\n",
       "  <line x1=\"28\" y1=\"0\" x2=\"28\" y2=\"25\" />\n",
       "  <line x1=\"30\" y1=\"0\" x2=\"30\" y2=\"25\" />\n",
       "  <line x1=\"32\" y1=\"0\" x2=\"32\" y2=\"25\" style=\"stroke-width:2\" />\n",
       "\n",
       "  <!-- Colored Rectangle -->\n",
       "  <polygon points=\"0.0,0.0 32.81646888239594,0.0 32.81646888239594,25.412616514582485 0.0,25.412616514582485\" style=\"fill:#ECB172A0;stroke-width:0\"/>\n",
       "\n",
       "  <!-- Text -->\n",
       "  <text x=\"16.408234\" y=\"45.412617\" font-size=\"1.0rem\" font-weight=\"100\" text-anchor=\"middle\" >15</text>\n",
       "  <text x=\"52.816469\" y=\"12.706308\" font-size=\"1.0rem\" font-weight=\"100\" text-anchor=\"middle\" transform=\"rotate(0,52.816469,12.706308)\">1</text>\n",
       "\n",
       "\n",
       "  <!-- Horizontal lines -->\n",
       "  <line x1=\"102\" y1=\"0\" x2=\"172\" y2=\"70\" style=\"stroke-width:2\" />\n",
       "  <line x1=\"102\" y1=\"96\" x2=\"172\" y2=\"167\" style=\"stroke-width:2\" />\n",
       "\n",
       "  <!-- Vertical lines -->\n",
       "  <line x1=\"102\" y1=\"0\" x2=\"102\" y2=\"96\" style=\"stroke-width:2\" />\n",
       "  <line x1=\"172\" y1=\"70\" x2=\"172\" y2=\"167\" style=\"stroke-width:2\" />\n",
       "\n",
       "  <!-- Colored Rectangle -->\n",
       "  <polygon points=\"102.0,0.0 172.58823529411765,70.58823529411765 172.58823529411765,167.19583023082652 102.0,96.60759493670885\" style=\"fill:#ECB172A0;stroke-width:0\"/>\n",
       "\n",
       "  <!-- Horizontal lines -->\n",
       "  <line x1=\"102\" y1=\"0\" x2=\"127\" y2=\"0\" style=\"stroke-width:2\" />\n",
       "  <line x1=\"172\" y1=\"70\" x2=\"198\" y2=\"70\" style=\"stroke-width:2\" />\n",
       "\n",
       "  <!-- Vertical lines -->\n",
       "  <line x1=\"102\" y1=\"0\" x2=\"172\" y2=\"70\" style=\"stroke-width:2\" />\n",
       "  <line x1=\"127\" y1=\"0\" x2=\"198\" y2=\"70\" style=\"stroke-width:2\" />\n",
       "\n",
       "  <!-- Colored Rectangle -->\n",
       "  <polygon points=\"102.0,0.0 127.41261651458248,0.0 198.00085180870013,70.58823529411765 172.58823529411765,70.58823529411765\" style=\"fill:#ECB172A0;stroke-width:0\"/>\n",
       "\n",
       "  <!-- Horizontal lines -->\n",
       "  <line x1=\"172\" y1=\"70\" x2=\"198\" y2=\"70\" style=\"stroke-width:2\" />\n",
       "  <line x1=\"172\" y1=\"167\" x2=\"198\" y2=\"167\" style=\"stroke-width:2\" />\n",
       "\n",
       "  <!-- Vertical lines -->\n",
       "  <line x1=\"172\" y1=\"70\" x2=\"172\" y2=\"167\" style=\"stroke-width:2\" />\n",
       "  <line x1=\"198\" y1=\"70\" x2=\"198\" y2=\"167\" style=\"stroke-width:2\" />\n",
       "\n",
       "  <!-- Colored Rectangle -->\n",
       "  <polygon points=\"172.58823529411765,70.58823529411765 198.00085180870013,70.58823529411765 198.00085180870013,167.19583023082652 172.58823529411765,167.19583023082652\" style=\"fill:#ECB172A0;stroke-width:0\"/>\n",
       "\n",
       "  <!-- Text -->\n",
       "  <text x=\"185.294544\" y=\"187.195830\" font-size=\"1.0rem\" font-weight=\"100\" text-anchor=\"middle\" >3</text>\n",
       "  <text x=\"218.000852\" y=\"118.892033\" font-size=\"1.0rem\" font-weight=\"100\" text-anchor=\"middle\" transform=\"rotate(-90,218.000852,118.892033)\">318</text>\n",
       "  <text x=\"127.294118\" y=\"151.901713\" font-size=\"1.0rem\" font-weight=\"100\" text-anchor=\"middle\" transform=\"rotate(45,127.294118,151.901713)\">395</text>\n",
       "</svg>\n",
       "        </td>\n",
       "    </tr>\n",
       "</table>"
      ],
      "text/plain": [
       "dask.array<_map_read_frame, shape=(15, 395, 318, 3), dtype=uint8, chunksize=(1, 395, 318, 3), chunktype=numpy.ndarray>"
      ]
     },
     "execution_count": 168,
     "metadata": {},
     "output_type": "execute_result"
    }
   ],
   "source": [
    "imgs = imread('book_images\\*.jpg')\n",
    "imgs"
   ]
  },
  {
   "cell_type": "code",
   "execution_count": 172,
   "id": "224b2d75",
   "metadata": {},
   "outputs": [
    {
     "data": {
      "text/plain": [
       "(395, 318, 3)"
      ]
     },
     "execution_count": 172,
     "metadata": {},
     "output_type": "execute_result"
    }
   ],
   "source": [
    "imgs[0].shape"
   ]
  },
  {
   "cell_type": "code",
   "execution_count": 176,
   "id": "1a2bb348",
   "metadata": {},
   "outputs": [
    {
     "ename": "AttributeError",
     "evalue": "'map' object has no attribute 'sum'",
     "output_type": "error",
     "traceback": [
      "\u001b[1;31m---------------------------------------------------------------------------\u001b[0m",
      "\u001b[1;31mAttributeError\u001b[0m                            Traceback (most recent call last)",
      "Input \u001b[1;32mIn [176]\u001b[0m, in \u001b[0;36m<cell line: 1>\u001b[1;34m()\u001b[0m\n\u001b[1;32m----> 1\u001b[0m res \u001b[38;5;241m=\u001b[39m \u001b[38;5;28;43mmap\u001b[39;49m\u001b[43m(\u001b[49m\u001b[38;5;28;43;01mlambda\u001b[39;49;00m\u001b[43m \u001b[49m\u001b[43mx\u001b[49m\u001b[43m:\u001b[49m\u001b[43m \u001b[49m\u001b[38;5;241;43m1\u001b[39;49m\u001b[43m \u001b[49m\u001b[38;5;28;43;01mif\u001b[39;49;00m\u001b[43m \u001b[49m\u001b[43mx\u001b[49m\u001b[38;5;241;43m.\u001b[39;49m\u001b[43mshape\u001b[49m\u001b[43m[\u001b[49m\u001b[38;5;241;43m1\u001b[39;49m\u001b[43m]\u001b[49m\u001b[43m \u001b[49m\u001b[38;5;241;43m>\u001b[39;49m\u001b[43m \u001b[49m\u001b[43mx\u001b[49m\u001b[38;5;241;43m.\u001b[39;49m\u001b[43mshape\u001b[49m\u001b[43m[\u001b[49m\u001b[38;5;241;43m0\u001b[39;49m\u001b[43m]\u001b[49m\u001b[43m \u001b[49m\u001b[38;5;28;43;01melse\u001b[39;49;00m\u001b[43m \u001b[49m\u001b[38;5;241;43m0\u001b[39;49m\u001b[43m,\u001b[49m\u001b[43m \u001b[49m\u001b[43mimgs\u001b[49m\u001b[43m)\u001b[49m\u001b[38;5;241;43m.\u001b[39;49m\u001b[43msum\u001b[49m()\n\u001b[0;32m      2\u001b[0m res\u001b[38;5;241m.\u001b[39mcompute()\n",
      "\u001b[1;31mAttributeError\u001b[0m: 'map' object has no attribute 'sum'"
     ]
    }
   ],
   "source": [
    "res = map(lambda x: 1 if x.shape[1] > x.shape[0] else 0, imgs).sum()\n",
    "res.compute()"
   ]
  },
  {
   "cell_type": "code",
   "execution_count": null,
   "id": "52b4819c",
   "metadata": {},
   "outputs": [],
   "source": []
  }
 ],
 "metadata": {
  "kernelspec": {
   "display_name": "Python 3 (ipykernel)",
   "language": "python",
   "name": "python3"
  },
  "language_info": {
   "codemirror_mode": {
    "name": "ipython",
    "version": 3
   },
   "file_extension": ".py",
   "mimetype": "text/x-python",
   "name": "python",
   "nbconvert_exporter": "python",
   "pygments_lexer": "ipython3",
   "version": "3.9.12"
  }
 },
 "nbformat": 4,
 "nbformat_minor": 5
}
